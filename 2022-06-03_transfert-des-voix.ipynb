{
 "cells": [
  {
   "cell_type": "markdown",
   "metadata": {},
   "source": [
    "tl;dr : *On essaie ici de deviner le transfert des voix entre les choix effectués entre deux scrutins d'un vote (ici les élections présidentielles 2022 en France).*\n",
    "\n",
    "Afin d'analyser les résultats des élections, par exemple les dernières élections présidentielles de 2022 en France, et de mieux comprendre la dynamique des choix de vote entre les différents groupes de population, il peut être utile d'utiliser des outils d'[apprentissage automatique](https://fr.wikipedia.org/wiki/Apprentissage_automatique) pour inférer des structures à première vue cachées dans la masse des données. En particulier, inspiré par cet [article du Monde](https://www.lemonde.fr/les-decodeurs/article/2022/05/04/election-presidentielle-2022-quels-reports-de-voix-entre-les-deux-tours_6124672_4355770.html), on peut se poser la question de savoir *si on peut extraire depuis les données brutes des élections une estimation des report de voix entre les choix de vote au premier tour et ceux qui sont effectués au deuxième tour*.\n",
    "\n",
    "Pour cela nous allons utiliser les outils mathématiques de l'apprentissage automatique et en particulier l'utilisation des probabilités. Cette théorie va nous permettre d'exprimer le fait que les résultats tels qu'ils sont obtenus peuvent présenter une variabilité mais que celle-ci réelle résulte de préférences de chaque individu dans la population votante. En particulier, on peut considérer que chaque individu va avoir une préférence pour chacun des candidats au premier et second tour et que les votes effectués vont correspondre à la réalisation de ces préférences (reppelons aussi qu'on ne peut voter que pour un candidat par scrutin). \n",
    "\n",
    "Bien sûr on a accès ni au vote de chaque individu et encore moins à ses préférences. Mais comme mais comme chaque bureau de vote présente des variabilités liées au contexte local et qui fait que cette population locale a une préférence pour certains choix plutôt que d'autres, on peut considérer chaque bureau de vote comme une population individuelle pour lequel nous allons essayer de prédire les résultats du vote au deuxième tour. Cette prediction, si elle est efficace, peut donner une idée du transfert de vote entre les deux tours qui a lieu en fonction des préférences des votes de chaque individu.\n",
    "\n",
    "<!-- TEASER_END -->"
   ]
  },
  {
   "cell_type": "markdown",
   "metadata": {},
   "source": [
    "Celà se modélise mathématiquement par un [processus de Bernoulli](https://fr.wikipedia.org/wiki/Processus_de_Bernoulli) relatif à ces préférences.\n",
    "\n",
    "Grâce à l'ouverture des données (notamment pour la recherche), on peut obtenir librement les résultats des [premier](https://www.data.gouv.fr/fr/datasets/election-presidentielle-des-10-et-24-avril-2022-resultats-definitifs-du-1er-tour/) et [second](https://www.data.gouv.fr/fr/datasets/election-presidentielle-des-10-et-24-avril-2022-resultats-definitifs-du-2nd-tour/) tours. Il est intéressant de noter que ses résultats sont indiqués pour chacun des bureaux de vote. \n",
    "\n",
    "Pour cela nous allons faire deux hypothèses: \n",
    "\n",
    "Tout d'abord nous allons estimer que pour chaque individu, il existe une préférence pour les candidats du premier tour ainsi que pour les candidats du deuxieme tour. Si on note les différentes alternatives au premier tour comme $i \\in \\{ \\text{'nul'}, \\text{'abstention'}, \\ldots, \\text{'Macron'}, \\text{'Poutou'} \\}$ et au deuxième tour  $j \\in \\{ \\text{'nul'}, \\text{'abstention'}, \\ldots, \\text{'Macron'}, \\text{'Le Pen'} \\}$. Alors, on peut écrire pour chaque individu $k$ les probabilités de vote $p^k_i$ et $q^k_j$ (chacune de ces valeurs étant comprises entre $0$ et $1$ représentant un biais de probabilité pour chacune des alternatives). On pourra vérifier que $\\forall k$ (pour tout individu),  $\\sum_i p^k_i = 1$ et $\\sum_j q^k_j = 1$.\n",
    "\n",
    "Avec une telle modélisation on peut prévoir les résultats du vote car les préférences de chaque individu pour tel ou tel choix doit se révéler au niveau de la population totale suivant le théorème central limite qui indique que la moyenne observée tend vers ces probabilités avec une précision (inverse de la variance) qui augmente linéairement avec le nombre d'observations. En particulier les résultats des votes au premier et second tour seront donnés par respectivement $\\frac 1 K \\cdot \\sum_k p^k_i$ et $\\frac 1 K \\cdot \\sum_k q^k_j$ avec $K$ la taille de la population (nous vérifierons ce point plus bas)."
   ]
  },
  {
   "cell_type": "markdown",
   "metadata": {},
   "source": [
    "Une deuxième hypothèse que nous allons faire et que si on considère la transition entre les préférences qui sont faites au premier tour et celles qui sont faites au second tour, les préférences peuvent évoluer avec chaque invidu mais que la transition est homogène au sein de la population (par exemple \"une personne qui choisit de s'abstenir s'abstiendra\"). C'est certe une hypothèse grossière mais assez générale pour refléter les tendances au niveau de la population globale. Cette hypothèse est basée sur la modélisation d'une séquence d'événements aléatoires basé sur un [processus de Markov](https://fr.wikipedia.org/wiki/Cha%C3%AEne_de_Markov). En particulier nous allons formaliser cette hypothèse en faisant l'hypothèse de l'existence d'une matrice de transition $M$ qui permet de prédire la préférence $\\hat{q}^k_j$ d'un individu au second tour à partir de ses préférences au premier tour. En particulier, cette hypothèse peut être formulée comme un simple produit matriciel :\n",
    "\n",
    "$$\n",
    "\\hat{q}^k_j = \\sum_i M_{i, j} \\cdot p^k_i \n",
    "$$\n",
    "\n",
    "En termes plus simples, cette formule exprime que la préférence d'un individu au second tour et le mélange de ses préférences individuelles au premier tour avec des poids indiquant les affinités entre les différentes alternatives aux deux tours. Il est important de noter qu'il existe une contrainte  pour chaque colonne de cette matrice de transition de sorte que la somme des différents éléments sur les différentes lignes de la matrice pour chaque colonne est égal à $1$ : $\\forall j$, $ \\sum_i M_{i, j} = 1$. Cette propriété découle des contraintes de représentation des préférences au premier et au deuxième tour que nous avons évoquées plus haut ($\\sum_i p^k_i = 1$ et $\\sum_j q^k_j = 1$).\n",
    "\n",
    "D'une certaine façon, cette matrice de transition décrit exactement les affinités de chacun des individus pour les différents choix de vote au niveau de la population globale. C'est donc un indicateur des report de vote qui vont être effectivement effectués entre les deux tours."
   ]
  },
  {
   "cell_type": "markdown",
   "metadata": {
    "tags": []
   },
   "source": [
    "## Collecte des données\n",
    "\n",
    "La première partie de ce travail consiste à collecter les données et elle est représenté d'une façon utile. On va utiliser les données disponibles sur https://www.data.gouv.fr en se concentrant sur les résultats définitifs par bureau de vote. \n",
    "Commençons notre procédure avec le traitement des données du premier tour. Une fois que nous aurons décortiqué cette méthode, nous passerons au deuxième tour.\n",
    "\n",
    "### Données du premier tour\n",
    "\n",
    "Pour cela nous allons utiliser deux premières librairie python : `numpy` pour le traitement de données numériques puis `pandas` pour la représentation deces données sous forme de tableau tableaux."
   ]
  },
  {
   "cell_type": "code",
   "execution_count": 1,
   "metadata": {},
   "outputs": [],
   "source": [
    "import numpy as np\n",
    "import pandas as pd"
   ]
  },
  {
   "cell_type": "markdown",
   "metadata": {},
   "source": [
    "On peut directement enregistrer à partir de l'adresse des données puis extraire ses données numériques depuis le tableau Excel grâce a la [fonction suivante](https://pandas.pydata.org/pandas-docs/stable/reference/api/pandas.read_excel.html):"
   ]
  },
  {
   "cell_type": "code",
   "execution_count": 2,
   "metadata": {},
   "outputs": [],
   "source": [
    "import os"
   ]
  },
  {
   "cell_type": "code",
   "execution_count": 3,
   "metadata": {},
   "outputs": [],
   "source": [
    "fname = '/tmp/T1.xlsx'\n",
    "\n",
    "if not os.path.isfile(fname):\n",
    "    url = 'https://static.data.gouv.fr/resources/election-presidentielle-des-10-et-24-avril-2022-resultats-definitifs-du-1er-tour/20220414-152612/resultats-par-niveau-burvot-t1-france-entiere.xlsx' # XLSX\n",
    "    import urllib.request\n",
    "    urllib.request.urlretrieve(url, fname)\n",
    "\n",
    "T1 = pd.read_excel(fname)"
   ]
  },
  {
   "cell_type": "markdown",
   "metadata": {},
   "source": [
    "On peut avoir une première idée de ces données et du nombre total de bureaux de vote :"
   ]
  },
  {
   "cell_type": "code",
   "execution_count": 4,
   "metadata": {},
   "outputs": [
    {
     "data": {
      "text/html": [
       "<div>\n",
       "<style scoped>\n",
       "    .dataframe tbody tr th:only-of-type {\n",
       "        vertical-align: middle;\n",
       "    }\n",
       "\n",
       "    .dataframe tbody tr th {\n",
       "        vertical-align: top;\n",
       "    }\n",
       "\n",
       "    .dataframe thead th {\n",
       "        text-align: right;\n",
       "    }\n",
       "</style>\n",
       "<table border=\"1\" class=\"dataframe\">\n",
       "  <thead>\n",
       "    <tr style=\"text-align: right;\">\n",
       "      <th></th>\n",
       "      <th>Code du département</th>\n",
       "      <th>Libellé du département</th>\n",
       "      <th>Code de la circonscription</th>\n",
       "      <th>Libellé de la circonscription</th>\n",
       "      <th>Code de la commune</th>\n",
       "      <th>Libellé de la commune</th>\n",
       "      <th>Code du b.vote</th>\n",
       "      <th>Inscrits</th>\n",
       "      <th>Abstentions</th>\n",
       "      <th>% Abs/Ins</th>\n",
       "      <th>...</th>\n",
       "      <th>Unnamed: 95</th>\n",
       "      <th>Unnamed: 96</th>\n",
       "      <th>Unnamed: 97</th>\n",
       "      <th>Unnamed: 98</th>\n",
       "      <th>Unnamed: 99</th>\n",
       "      <th>Unnamed: 100</th>\n",
       "      <th>Unnamed: 101</th>\n",
       "      <th>Unnamed: 102</th>\n",
       "      <th>Unnamed: 103</th>\n",
       "      <th>Unnamed: 104</th>\n",
       "    </tr>\n",
       "  </thead>\n",
       "  <tbody>\n",
       "    <tr>\n",
       "      <th>69677</th>\n",
       "      <td>ZZ</td>\n",
       "      <td>Français établis hors de France</td>\n",
       "      <td>6</td>\n",
       "      <td>6ème circonscription</td>\n",
       "      <td>229</td>\n",
       "      <td>Zurich</td>\n",
       "      <td>0001</td>\n",
       "      <td>24868</td>\n",
       "      <td>14101</td>\n",
       "      <td>56.70</td>\n",
       "      <td>...</td>\n",
       "      <td>47</td>\n",
       "      <td>0.19</td>\n",
       "      <td>0.44</td>\n",
       "      <td>12</td>\n",
       "      <td>M</td>\n",
       "      <td>DUPONT-AIGNAN</td>\n",
       "      <td>Nicolas</td>\n",
       "      <td>189</td>\n",
       "      <td>0.76</td>\n",
       "      <td>1.77</td>\n",
       "    </tr>\n",
       "    <tr>\n",
       "      <th>69678</th>\n",
       "      <td>ZZ</td>\n",
       "      <td>Français établis hors de France</td>\n",
       "      <td>11</td>\n",
       "      <td>11ème circonscription</td>\n",
       "      <td>231</td>\n",
       "      <td>Taipei</td>\n",
       "      <td>0001</td>\n",
       "      <td>1709</td>\n",
       "      <td>942</td>\n",
       "      <td>55.12</td>\n",
       "      <td>...</td>\n",
       "      <td>10</td>\n",
       "      <td>0.59</td>\n",
       "      <td>1.32</td>\n",
       "      <td>12</td>\n",
       "      <td>M</td>\n",
       "      <td>DUPONT-AIGNAN</td>\n",
       "      <td>Nicolas</td>\n",
       "      <td>10</td>\n",
       "      <td>0.59</td>\n",
       "      <td>1.32</td>\n",
       "    </tr>\n",
       "    <tr>\n",
       "      <th>69679</th>\n",
       "      <td>ZZ</td>\n",
       "      <td>Français établis hors de France</td>\n",
       "      <td>11</td>\n",
       "      <td>11ème circonscription</td>\n",
       "      <td>233</td>\n",
       "      <td>Nour-Soultan</td>\n",
       "      <td>0001</td>\n",
       "      <td>117</td>\n",
       "      <td>64</td>\n",
       "      <td>54.70</td>\n",
       "      <td>...</td>\n",
       "      <td>0</td>\n",
       "      <td>0.00</td>\n",
       "      <td>0.00</td>\n",
       "      <td>12</td>\n",
       "      <td>M</td>\n",
       "      <td>DUPONT-AIGNAN</td>\n",
       "      <td>Nicolas</td>\n",
       "      <td>1</td>\n",
       "      <td>0.85</td>\n",
       "      <td>1.96</td>\n",
       "    </tr>\n",
       "    <tr>\n",
       "      <th>69680</th>\n",
       "      <td>ZZ</td>\n",
       "      <td>Français établis hors de France</td>\n",
       "      <td>2</td>\n",
       "      <td>2ème circonscription</td>\n",
       "      <td>234</td>\n",
       "      <td>Monterrey</td>\n",
       "      <td>0001</td>\n",
       "      <td>713</td>\n",
       "      <td>553</td>\n",
       "      <td>77.56</td>\n",
       "      <td>...</td>\n",
       "      <td>1</td>\n",
       "      <td>0.14</td>\n",
       "      <td>0.63</td>\n",
       "      <td>12</td>\n",
       "      <td>M</td>\n",
       "      <td>DUPONT-AIGNAN</td>\n",
       "      <td>Nicolas</td>\n",
       "      <td>1</td>\n",
       "      <td>0.14</td>\n",
       "      <td>0.63</td>\n",
       "    </tr>\n",
       "    <tr>\n",
       "      <th>69681</th>\n",
       "      <td>ZZ</td>\n",
       "      <td>Français établis hors de France</td>\n",
       "      <td>2</td>\n",
       "      <td>2ème circonscription</td>\n",
       "      <td>235</td>\n",
       "      <td>Bahamas (Nassau)</td>\n",
       "      <td>0001</td>\n",
       "      <td>136</td>\n",
       "      <td>78</td>\n",
       "      <td>57.35</td>\n",
       "      <td>...</td>\n",
       "      <td>0</td>\n",
       "      <td>0.00</td>\n",
       "      <td>0.00</td>\n",
       "      <td>12</td>\n",
       "      <td>M</td>\n",
       "      <td>DUPONT-AIGNAN</td>\n",
       "      <td>Nicolas</td>\n",
       "      <td>1</td>\n",
       "      <td>0.74</td>\n",
       "      <td>1.82</td>\n",
       "    </tr>\n",
       "  </tbody>\n",
       "</table>\n",
       "<p>5 rows × 105 columns</p>\n",
       "</div>"
      ],
      "text/plain": [
       "      Code du département           Libellé du département  \\\n",
       "69677                  ZZ  Français établis hors de France   \n",
       "69678                  ZZ  Français établis hors de France   \n",
       "69679                  ZZ  Français établis hors de France   \n",
       "69680                  ZZ  Français établis hors de France   \n",
       "69681                  ZZ  Français établis hors de France   \n",
       "\n",
       "       Code de la circonscription Libellé de la circonscription  \\\n",
       "69677                           6          6ème circonscription   \n",
       "69678                          11         11ème circonscription   \n",
       "69679                          11         11ème circonscription   \n",
       "69680                           2          2ème circonscription   \n",
       "69681                           2          2ème circonscription   \n",
       "\n",
       "       Code de la commune Libellé de la commune Code du b.vote  Inscrits  \\\n",
       "69677                 229                Zurich           0001     24868   \n",
       "69678                 231                Taipei           0001      1709   \n",
       "69679                 233          Nour-Soultan           0001       117   \n",
       "69680                 234             Monterrey           0001       713   \n",
       "69681                 235      Bahamas (Nassau)           0001       136   \n",
       "\n",
       "       Abstentions  % Abs/Ins  ...  Unnamed: 95  Unnamed: 96  Unnamed: 97  \\\n",
       "69677        14101      56.70  ...           47         0.19         0.44   \n",
       "69678          942      55.12  ...           10         0.59         1.32   \n",
       "69679           64      54.70  ...            0         0.00         0.00   \n",
       "69680          553      77.56  ...            1         0.14         0.63   \n",
       "69681           78      57.35  ...            0         0.00         0.00   \n",
       "\n",
       "       Unnamed: 98  Unnamed: 99   Unnamed: 100  Unnamed: 101  Unnamed: 102  \\\n",
       "69677           12            M  DUPONT-AIGNAN       Nicolas           189   \n",
       "69678           12            M  DUPONT-AIGNAN       Nicolas            10   \n",
       "69679           12            M  DUPONT-AIGNAN       Nicolas             1   \n",
       "69680           12            M  DUPONT-AIGNAN       Nicolas             1   \n",
       "69681           12            M  DUPONT-AIGNAN       Nicolas             1   \n",
       "\n",
       "       Unnamed: 103  Unnamed: 104  \n",
       "69677          0.76          1.77  \n",
       "69678          0.59          1.32  \n",
       "69679          0.85          1.96  \n",
       "69680          0.14          0.63  \n",
       "69681          0.74          1.82  \n",
       "\n",
       "[5 rows x 105 columns]"
      ]
     },
     "execution_count": 4,
     "metadata": {},
     "output_type": "execute_result"
    }
   ],
   "source": [
    "T1.tail()"
   ]
  },
  {
   "cell_type": "markdown",
   "metadata": {},
   "source": [
    "Les données sont organisées suivant des colonnes qui vont représenter les différents choix et aussi d'autres métadonnées. Il va falloir faire quelques hypothèses pour récupérer les données utiles…"
   ]
  },
  {
   "cell_type": "code",
   "execution_count": 5,
   "metadata": {},
   "outputs": [
    {
     "data": {
      "text/plain": [
       "Index(['Code du département', 'Libellé du département',\n",
       "       'Code de la circonscription', 'Libellé de la circonscription',\n",
       "       'Code de la commune', 'Libellé de la commune', 'Code du b.vote',\n",
       "       'Inscrits', 'Abstentions', '% Abs/Ins',\n",
       "       ...\n",
       "       'Unnamed: 95', 'Unnamed: 96', 'Unnamed: 97', 'Unnamed: 98',\n",
       "       'Unnamed: 99', 'Unnamed: 100', 'Unnamed: 101', 'Unnamed: 102',\n",
       "       'Unnamed: 103', 'Unnamed: 104'],\n",
       "      dtype='object', length=105)"
      ]
     },
     "execution_count": 5,
     "metadata": {},
     "output_type": "execute_result"
    }
   ],
   "source": [
    "T1.columns"
   ]
  },
  {
   "cell_type": "markdown",
   "metadata": {},
   "source": [
    "Première colonne concerne les nuls, blancs et abstention, que l'on peut enregistrer dans un nouveau tableau :"
   ]
  },
  {
   "cell_type": "code",
   "execution_count": 6,
   "metadata": {},
   "outputs": [
    {
     "data": {
      "text/html": [
       "<div>\n",
       "<style scoped>\n",
       "    .dataframe tbody tr th:only-of-type {\n",
       "        vertical-align: middle;\n",
       "    }\n",
       "\n",
       "    .dataframe tbody tr th {\n",
       "        vertical-align: top;\n",
       "    }\n",
       "\n",
       "    .dataframe thead th {\n",
       "        text-align: right;\n",
       "    }\n",
       "</style>\n",
       "<table border=\"1\" class=\"dataframe\">\n",
       "  <thead>\n",
       "    <tr style=\"text-align: right;\">\n",
       "      <th></th>\n",
       "      <th>Nuls</th>\n",
       "      <th>Blancs</th>\n",
       "      <th>Abstentions</th>\n",
       "    </tr>\n",
       "  </thead>\n",
       "  <tbody>\n",
       "    <tr>\n",
       "      <th>0</th>\n",
       "      <td>1</td>\n",
       "      <td>16</td>\n",
       "      <td>108</td>\n",
       "    </tr>\n",
       "    <tr>\n",
       "      <th>1</th>\n",
       "      <td>1</td>\n",
       "      <td>3</td>\n",
       "      <td>38</td>\n",
       "    </tr>\n",
       "    <tr>\n",
       "      <th>2</th>\n",
       "      <td>5</td>\n",
       "      <td>18</td>\n",
       "      <td>266</td>\n",
       "    </tr>\n",
       "    <tr>\n",
       "      <th>3</th>\n",
       "      <td>6</td>\n",
       "      <td>15</td>\n",
       "      <td>265</td>\n",
       "    </tr>\n",
       "    <tr>\n",
       "      <th>4</th>\n",
       "      <td>8</td>\n",
       "      <td>10</td>\n",
       "      <td>246</td>\n",
       "    </tr>\n",
       "  </tbody>\n",
       "</table>\n",
       "</div>"
      ],
      "text/plain": [
       "   Nuls  Blancs  Abstentions\n",
       "0     1      16          108\n",
       "1     1       3           38\n",
       "2     5      18          266\n",
       "3     6      15          265\n",
       "4     8      10          246"
      ]
     },
     "execution_count": 6,
     "metadata": {},
     "output_type": "execute_result"
    }
   ],
   "source": [
    "df_1 = T1[['Nuls', 'Blancs', 'Abstentions']].copy()\n",
    "df_1.head()"
   ]
  },
  {
   "cell_type": "code",
   "execution_count": 7,
   "metadata": {},
   "outputs": [
    {
     "data": {
      "text/html": [
       "<div>\n",
       "<style scoped>\n",
       "    .dataframe tbody tr th:only-of-type {\n",
       "        vertical-align: middle;\n",
       "    }\n",
       "\n",
       "    .dataframe tbody tr th {\n",
       "        vertical-align: top;\n",
       "    }\n",
       "\n",
       "    .dataframe thead th {\n",
       "        text-align: right;\n",
       "    }\n",
       "</style>\n",
       "<table border=\"1\" class=\"dataframe\">\n",
       "  <thead>\n",
       "    <tr style=\"text-align: right;\">\n",
       "      <th></th>\n",
       "      <th>Nuls</th>\n",
       "      <th>Blancs</th>\n",
       "      <th>Abstentions</th>\n",
       "    </tr>\n",
       "  </thead>\n",
       "  <tbody>\n",
       "    <tr>\n",
       "      <th>0</th>\n",
       "      <td>1</td>\n",
       "      <td>16</td>\n",
       "      <td>108</td>\n",
       "    </tr>\n",
       "    <tr>\n",
       "      <th>1</th>\n",
       "      <td>1</td>\n",
       "      <td>3</td>\n",
       "      <td>38</td>\n",
       "    </tr>\n",
       "    <tr>\n",
       "      <th>2</th>\n",
       "      <td>5</td>\n",
       "      <td>18</td>\n",
       "      <td>266</td>\n",
       "    </tr>\n",
       "    <tr>\n",
       "      <th>3</th>\n",
       "      <td>6</td>\n",
       "      <td>15</td>\n",
       "      <td>265</td>\n",
       "    </tr>\n",
       "    <tr>\n",
       "      <th>4</th>\n",
       "      <td>8</td>\n",
       "      <td>10</td>\n",
       "      <td>246</td>\n",
       "    </tr>\n",
       "    <tr>\n",
       "      <th>...</th>\n",
       "      <td>...</td>\n",
       "      <td>...</td>\n",
       "      <td>...</td>\n",
       "    </tr>\n",
       "    <tr>\n",
       "      <th>69677</th>\n",
       "      <td>31</td>\n",
       "      <td>40</td>\n",
       "      <td>14101</td>\n",
       "    </tr>\n",
       "    <tr>\n",
       "      <th>69678</th>\n",
       "      <td>2</td>\n",
       "      <td>8</td>\n",
       "      <td>942</td>\n",
       "    </tr>\n",
       "    <tr>\n",
       "      <th>69679</th>\n",
       "      <td>0</td>\n",
       "      <td>2</td>\n",
       "      <td>64</td>\n",
       "    </tr>\n",
       "    <tr>\n",
       "      <th>69680</th>\n",
       "      <td>2</td>\n",
       "      <td>0</td>\n",
       "      <td>553</td>\n",
       "    </tr>\n",
       "    <tr>\n",
       "      <th>69681</th>\n",
       "      <td>0</td>\n",
       "      <td>3</td>\n",
       "      <td>78</td>\n",
       "    </tr>\n",
       "  </tbody>\n",
       "</table>\n",
       "<p>69682 rows × 3 columns</p>\n",
       "</div>"
      ],
      "text/plain": [
       "       Nuls  Blancs  Abstentions\n",
       "0         1      16          108\n",
       "1         1       3           38\n",
       "2         5      18          266\n",
       "3         6      15          265\n",
       "4         8      10          246\n",
       "...     ...     ...          ...\n",
       "69677    31      40        14101\n",
       "69678     2       8          942\n",
       "69679     0       2           64\n",
       "69680     2       0          553\n",
       "69681     0       3           78\n",
       "\n",
       "[69682 rows x 3 columns]"
      ]
     },
     "execution_count": 7,
     "metadata": {},
     "output_type": "execute_result"
    }
   ],
   "source": [
    "df_1"
   ]
  },
  {
   "cell_type": "markdown",
   "metadata": {},
   "source": [
    "### Extraction des résultats de vote"
   ]
  },
  {
   "cell_type": "markdown",
   "metadata": {},
   "source": [
    "Les 23 premières colonnes correspondent aux métadonnées :"
   ]
  },
  {
   "cell_type": "code",
   "execution_count": 8,
   "metadata": {},
   "outputs": [
    {
     "data": {
      "text/plain": [
       "Index(['Code du département', 'Libellé du département',\n",
       "       'Code de la circonscription', 'Libellé de la circonscription',\n",
       "       'Code de la commune', 'Libellé de la commune', 'Code du b.vote',\n",
       "       'Inscrits', 'Abstentions', '% Abs/Ins', 'Votants', '% Vot/Ins',\n",
       "       'Blancs', '% Blancs/Ins', '% Blancs/Vot', 'Nuls', '% Nuls/Ins',\n",
       "       '% Nuls/Vot', 'Exprimés', '% Exp/Ins', '% Exp/Vot', 'N°Panneau',\n",
       "       'Sexe'],\n",
       "      dtype='object')"
      ]
     },
     "execution_count": 8,
     "metadata": {},
     "output_type": "execute_result"
    }
   ],
   "source": [
    "T1.columns[:23]"
   ]
  },
  {
   "cell_type": "markdown",
   "metadata": {},
   "source": [
    "Les colonnes suivant la colonne numéro 23 vont concerner les résultats candidats par candidats :"
   ]
  },
  {
   "cell_type": "code",
   "execution_count": 9,
   "metadata": {},
   "outputs": [],
   "source": [
    "col_start = 23\n",
    "col_par_cdt = 7"
   ]
  },
  {
   "cell_type": "markdown",
   "metadata": {},
   "source": [
    "On peut extraire les noms des candidats présents au premier tour :"
   ]
  },
  {
   "cell_type": "code",
   "execution_count": 10,
   "metadata": {},
   "outputs": [
    {
     "data": {
      "text/plain": [
       "Nom                   ARTHAUD\n",
       "Unnamed: 30           ROUSSEL\n",
       "Unnamed: 37            MACRON\n",
       "Unnamed: 44          LASSALLE\n",
       "Unnamed: 51            LE PEN\n",
       "Unnamed: 58           ZEMMOUR\n",
       "Unnamed: 65         MÉLENCHON\n",
       "Unnamed: 72           HIDALGO\n",
       "Unnamed: 79             JADOT\n",
       "Unnamed: 86          PÉCRESSE\n",
       "Unnamed: 93            POUTOU\n",
       "Unnamed: 100    DUPONT-AIGNAN\n",
       "Name: 0, dtype: object"
      ]
     },
     "execution_count": 10,
     "metadata": {},
     "output_type": "execute_result"
    }
   ],
   "source": [
    "candidats = T1.iloc[0][col_start::col_par_cdt]\n",
    "candidats"
   ]
  },
  {
   "cell_type": "markdown",
   "metadata": {},
   "source": [
    "On peut par exemple extraire les résultats pour le premier bureau de vote et donner le nombre de suffrages exprimés pour chaque candidat :"
   ]
  },
  {
   "cell_type": "code",
   "execution_count": 11,
   "metadata": {},
   "outputs": [
    {
     "data": {
      "text/plain": [
       "Voix              3\n",
       "Unnamed: 32       6\n",
       "Unnamed: 39     150\n",
       "Unnamed: 46      18\n",
       "Unnamed: 53     149\n",
       "Unnamed: 60      43\n",
       "Unnamed: 67      66\n",
       "Unnamed: 74       5\n",
       "Unnamed: 81      30\n",
       "Unnamed: 88      26\n",
       "Unnamed: 95       3\n",
       "Unnamed: 102     21\n",
       "Name: 0, dtype: object"
      ]
     },
     "execution_count": 11,
     "metadata": {},
     "output_type": "execute_result"
    }
   ],
   "source": [
    "résultats = T1.iloc[0][(col_start+2)::col_par_cdt]\n",
    "résultats"
   ]
  },
  {
   "cell_type": "markdown",
   "metadata": {},
   "source": [
    "Grâce à ces connaissances, nous allons pouvoir maintenant récolter les données pour chaque candidat et pour tous les bureaux de vote en utilisant la fonction suivante :"
   ]
  },
  {
   "cell_type": "code",
   "execution_count": 12,
   "metadata": {},
   "outputs": [
    {
     "name": "stdout",
     "output_type": "stream",
     "text": [
      "# colonne 25  résultats= [3 2 4 ... 0 0 0]\n",
      "# colonne 32  résultats= [ 6  7 30 ...  1  1  1]\n",
      "# colonne 39  résultats= [150  50 159 ...  25  96  25]\n",
      "# colonne 46  résultats= [18 10 24 ...  1  1  0]\n",
      "# colonne 53  résultats= [149  23 237 ...   3   4   3]\n",
      "# colonne 60  résultats= [43 14 69 ...  7 18 17]\n",
      "# colonne 67  résultats= [ 66  41 216 ...   9  19   2]\n",
      "# colonne 74  résultats= [ 5  3 15 ...  0  2  0]\n",
      "# colonne 81  résultats= [30 10 25 ...  4 10  0]\n",
      "# colonne 88  résultats= [26  8 40 ...  0  5  6]\n",
      "# colonne 95  résultats= [3 3 8 ... 0 1 0]\n",
      "# colonne 102  résultats= [21  0 13 ...  1  1  1]\n"
     ]
    }
   ],
   "source": [
    "for i_candidat, candidat in enumerate(candidats):\n",
    "    i_col = col_start + i_candidat*col_par_cdt + 2\n",
    "    print('# colonne', i_col, ' résultats=', T1.iloc[:, i_col].values)\n",
    "    df_1[candidat] = T1.iloc[:, i_col].values"
   ]
  },
  {
   "cell_type": "markdown",
   "metadata": {},
   "source": [
    "Nous avons récolté les données utiles dans un nouveau tableau :"
   ]
  },
  {
   "cell_type": "code",
   "execution_count": 13,
   "metadata": {},
   "outputs": [
    {
     "name": "stdout",
     "output_type": "stream",
     "text": [
      "<class 'pandas.core.frame.DataFrame'>\n",
      "RangeIndex: 69682 entries, 0 to 69681\n",
      "Data columns (total 15 columns):\n",
      " #   Column         Non-Null Count  Dtype\n",
      "---  ------         --------------  -----\n",
      " 0   Nuls           69682 non-null  int64\n",
      " 1   Blancs         69682 non-null  int64\n",
      " 2   Abstentions    69682 non-null  int64\n",
      " 3   ARTHAUD        69682 non-null  int64\n",
      " 4   ROUSSEL        69682 non-null  int64\n",
      " 5   MACRON         69682 non-null  int64\n",
      " 6   LASSALLE       69682 non-null  int64\n",
      " 7   LE PEN         69682 non-null  int64\n",
      " 8   ZEMMOUR        69682 non-null  int64\n",
      " 9   MÉLENCHON      69682 non-null  int64\n",
      " 10  HIDALGO        69682 non-null  int64\n",
      " 11  JADOT          69682 non-null  int64\n",
      " 12  PÉCRESSE       69682 non-null  int64\n",
      " 13  POUTOU         69682 non-null  int64\n",
      " 14  DUPONT-AIGNAN  69682 non-null  int64\n",
      "dtypes: int64(15)\n",
      "memory usage: 8.0 MB\n",
      "None\n"
     ]
    }
   ],
   "source": [
    "print(df_1.info())"
   ]
  },
  {
   "cell_type": "markdown",
   "metadata": {},
   "source": [
    "Ceci nous permet par exemple d'extraire les résultats pour un candidat donné et pour tous les bureaux de vote :"
   ]
  },
  {
   "cell_type": "code",
   "execution_count": 14,
   "metadata": {},
   "outputs": [
    {
     "data": {
      "text/plain": [
       "0         3\n",
       "1         3\n",
       "2         8\n",
       "3         4\n",
       "4         3\n",
       "         ..\n",
       "69677    47\n",
       "69678    10\n",
       "69679     0\n",
       "69680     1\n",
       "69681     0\n",
       "Name: POUTOU, Length: 69682, dtype: int64"
      ]
     },
     "execution_count": 14,
     "metadata": {},
     "output_type": "execute_result"
    }
   ],
   "source": [
    "df_1['POUTOU']"
   ]
  },
  {
   "cell_type": "markdown",
   "metadata": {},
   "source": [
    "En particulier, on a le nombre suivant de bureaux de vote :"
   ]
  },
  {
   "cell_type": "code",
   "execution_count": 15,
   "metadata": {},
   "outputs": [
    {
     "data": {
      "text/plain": [
       "69682"
      ]
     },
     "execution_count": 15,
     "metadata": {},
     "output_type": "execute_result"
    }
   ],
   "source": [
    "len(df_1)"
   ]
  },
  {
   "cell_type": "markdown",
   "metadata": {},
   "source": [
    "Et on peut calculer pour chaque alternative le nombre total de choix ainsi que le nombre total de choix dans les data:"
   ]
  },
  {
   "cell_type": "code",
   "execution_count": 16,
   "metadata": {},
   "outputs": [
    {
     "data": {
      "text/plain": [
       "(Nuls               247151\n",
       " Blancs             543609\n",
       " Abstentions      12824169\n",
       " ARTHAUD            197094\n",
       " ROUSSEL            802422\n",
       " MACRON            9783058\n",
       " LASSALLE          1101387\n",
       " LE PEN            8133828\n",
       " ZEMMOUR           2485226\n",
       " MÉLENCHON         7712520\n",
       " HIDALGO            616478\n",
       " JADOT             1627853\n",
       " PÉCRESSE          1679001\n",
       " POUTOU             268904\n",
       " DUPONT-AIGNAN      725176\n",
       " dtype: int64,\n",
       " 48747876)"
      ]
     },
     "execution_count": 16,
     "metadata": {},
     "output_type": "execute_result"
    }
   ],
   "source": [
    "df_1.sum(), df_1.sum().sum()"
   ]
  },
  {
   "cell_type": "markdown",
   "metadata": {},
   "source": [
    "Par exemple, on note qu'environ 13 millions de personnes se sont abstenues, alors que environ 10 millions de personnes ont voté pour Macron."
   ]
  },
  {
   "cell_type": "markdown",
   "metadata": {},
   "source": [
    "Dans le reste, nous allons complétement ignorer les votes 'Nuls' et 'Abstebnsions'. En effet, des expériencesz précedentes (cf github) ont montré que ces valuers sont moins prédictibles. Pour celà, nous utilisons la fonction [`DataFrame.drop`](https://pandas.pydata.org/pandas-docs/stable/reference/api/pandas.DataFrame.drop.html):"
   ]
  },
  {
   "cell_type": "code",
   "execution_count": 17,
   "metadata": {},
   "outputs": [
    {
     "data": {
      "text/plain": [
       "Index(['Nuls', 'Blancs', 'Abstentions', 'ARTHAUD', 'ROUSSEL', 'MACRON',\n",
       "       'LASSALLE', 'LE PEN', 'ZEMMOUR', 'MÉLENCHON', 'HIDALGO', 'JADOT',\n",
       "       'PÉCRESSE', 'POUTOU', 'DUPONT-AIGNAN'],\n",
       "      dtype='object')"
      ]
     },
     "execution_count": 17,
     "metadata": {},
     "output_type": "execute_result"
    }
   ],
   "source": [
    "df_1.columns"
   ]
  },
  {
   "cell_type": "raw",
   "metadata": {},
   "source": [
    "df_1 = df_1.drop(columns=['Nuls', 'Blancs'])#, 'Abstentions'])"
   ]
  },
  {
   "cell_type": "code",
   "execution_count": 18,
   "metadata": {},
   "outputs": [
    {
     "data": {
      "text/plain": [
       "Index(['Nuls', 'Blancs', 'Abstentions', 'ARTHAUD', 'ROUSSEL', 'MACRON',\n",
       "       'LASSALLE', 'LE PEN', 'ZEMMOUR', 'MÉLENCHON', 'HIDALGO', 'JADOT',\n",
       "       'PÉCRESSE', 'POUTOU', 'DUPONT-AIGNAN'],\n",
       "      dtype='object')"
      ]
     },
     "execution_count": 18,
     "metadata": {},
     "output_type": "execute_result"
    }
   ],
   "source": [
    "df_1.columns"
   ]
  },
  {
   "cell_type": "markdown",
   "metadata": {},
   "source": [
    "Sous un format graphique on peut représenter ainsi les résultats du vote au premier tour et pour cela nous allons utiliser la librairie `matplotlib`:"
   ]
  },
  {
   "cell_type": "code",
   "execution_count": 19,
   "metadata": {},
   "outputs": [],
   "source": [
    "import matplotlib.pyplot as plt"
   ]
  },
  {
   "cell_type": "code",
   "execution_count": 20,
   "metadata": {},
   "outputs": [
    {
     "data": {
      "image/png": "[encoded data removed]",
      "text/plain": [
       "<Figure size 936x360 with 1 Axes>"
      ]
     },
     "metadata": {
      "needs_background": "light"
     },
     "output_type": "display_data"
    }
   ],
   "source": [
    "fig, ax = plt.subplots(figsize=(13, 5))\n",
    "k = df_1.sum()/df_1.sum().sum()\n",
    "ax = k.plot.bar(ax=ax)\n",
    "ax.set_xlabel('Choix 1er tour')\n",
    "ax.set_ylabel('Pourcentage');"
   ]
  },
  {
   "cell_type": "markdown",
   "metadata": {},
   "source": [
    "On remarque le fort taux d'abstention qui a été observé au premier tour, ainsi que les deux candidats qui se distinguent par le plus grand nombre de voix et qui sont sélectionnés pour le second tour."
   ]
  },
  {
   "cell_type": "markdown",
   "metadata": {
    "tags": []
   },
   "source": [
    "### Données du 2ème tour"
   ]
  },
  {
   "cell_type": "markdown",
   "metadata": {},
   "source": [
    "Nous allons maintenant répéter la même opération pour les données obtenues au deuxième tour :"
   ]
  },
  {
   "cell_type": "code",
   "execution_count": 21,
   "metadata": {},
   "outputs": [
    {
     "data": {
      "text/html": [
       "<div>\n",
       "<style scoped>\n",
       "    .dataframe tbody tr th:only-of-type {\n",
       "        vertical-align: middle;\n",
       "    }\n",
       "\n",
       "    .dataframe tbody tr th {\n",
       "        vertical-align: top;\n",
       "    }\n",
       "\n",
       "    .dataframe thead th {\n",
       "        text-align: right;\n",
       "    }\n",
       "</style>\n",
       "<table border=\"1\" class=\"dataframe\">\n",
       "  <thead>\n",
       "    <tr style=\"text-align: right;\">\n",
       "      <th></th>\n",
       "      <th>Code du département</th>\n",
       "      <th>Libellé du département</th>\n",
       "      <th>Code de la circonscription</th>\n",
       "      <th>Libellé de la circonscription</th>\n",
       "      <th>Code de la commune</th>\n",
       "      <th>Libellé de la commune</th>\n",
       "      <th>Code du b.vote</th>\n",
       "      <th>Inscrits</th>\n",
       "      <th>Abstentions</th>\n",
       "      <th>% Abs/Ins</th>\n",
       "      <th>...</th>\n",
       "      <th>Voix</th>\n",
       "      <th>% Voix/Ins</th>\n",
       "      <th>% Voix/Exp</th>\n",
       "      <th>Unnamed: 28</th>\n",
       "      <th>Unnamed: 29</th>\n",
       "      <th>Unnamed: 30</th>\n",
       "      <th>Unnamed: 31</th>\n",
       "      <th>Unnamed: 32</th>\n",
       "      <th>Unnamed: 33</th>\n",
       "      <th>Unnamed: 34</th>\n",
       "    </tr>\n",
       "  </thead>\n",
       "  <tbody>\n",
       "    <tr>\n",
       "      <th>69677</th>\n",
       "      <td>ZZ</td>\n",
       "      <td>Français établis hors de France</td>\n",
       "      <td>6</td>\n",
       "      <td>6ème circonscription</td>\n",
       "      <td>229</td>\n",
       "      <td>Zurich</td>\n",
       "      <td>0001</td>\n",
       "      <td>24867</td>\n",
       "      <td>13153</td>\n",
       "      <td>52.89</td>\n",
       "      <td>...</td>\n",
       "      <td>10166</td>\n",
       "      <td>40.88</td>\n",
       "      <td>88.88</td>\n",
       "      <td>2</td>\n",
       "      <td>F</td>\n",
       "      <td>LE PEN</td>\n",
       "      <td>Marine</td>\n",
       "      <td>1272</td>\n",
       "      <td>5.12</td>\n",
       "      <td>11.12</td>\n",
       "    </tr>\n",
       "    <tr>\n",
       "      <th>69678</th>\n",
       "      <td>ZZ</td>\n",
       "      <td>Français établis hors de France</td>\n",
       "      <td>11</td>\n",
       "      <td>11ème circonscription</td>\n",
       "      <td>231</td>\n",
       "      <td>Taipei</td>\n",
       "      <td>0001</td>\n",
       "      <td>1703</td>\n",
       "      <td>928</td>\n",
       "      <td>54.49</td>\n",
       "      <td>...</td>\n",
       "      <td>611</td>\n",
       "      <td>35.88</td>\n",
       "      <td>82.23</td>\n",
       "      <td>2</td>\n",
       "      <td>F</td>\n",
       "      <td>LE PEN</td>\n",
       "      <td>Marine</td>\n",
       "      <td>132</td>\n",
       "      <td>7.75</td>\n",
       "      <td>17.77</td>\n",
       "    </tr>\n",
       "    <tr>\n",
       "      <th>69679</th>\n",
       "      <td>ZZ</td>\n",
       "      <td>Français établis hors de France</td>\n",
       "      <td>11</td>\n",
       "      <td>11ème circonscription</td>\n",
       "      <td>233</td>\n",
       "      <td>Nour-Soultan</td>\n",
       "      <td>0001</td>\n",
       "      <td>117</td>\n",
       "      <td>64</td>\n",
       "      <td>54.70</td>\n",
       "      <td>...</td>\n",
       "      <td>39</td>\n",
       "      <td>33.33</td>\n",
       "      <td>78.00</td>\n",
       "      <td>2</td>\n",
       "      <td>F</td>\n",
       "      <td>LE PEN</td>\n",
       "      <td>Marine</td>\n",
       "      <td>11</td>\n",
       "      <td>9.40</td>\n",
       "      <td>22.00</td>\n",
       "    </tr>\n",
       "    <tr>\n",
       "      <th>69680</th>\n",
       "      <td>ZZ</td>\n",
       "      <td>Français établis hors de France</td>\n",
       "      <td>2</td>\n",
       "      <td>2ème circonscription</td>\n",
       "      <td>234</td>\n",
       "      <td>Monterrey</td>\n",
       "      <td>0001</td>\n",
       "      <td>715</td>\n",
       "      <td>510</td>\n",
       "      <td>71.33</td>\n",
       "      <td>...</td>\n",
       "      <td>181</td>\n",
       "      <td>25.31</td>\n",
       "      <td>89.60</td>\n",
       "      <td>2</td>\n",
       "      <td>F</td>\n",
       "      <td>LE PEN</td>\n",
       "      <td>Marine</td>\n",
       "      <td>21</td>\n",
       "      <td>2.94</td>\n",
       "      <td>10.40</td>\n",
       "    </tr>\n",
       "    <tr>\n",
       "      <th>69681</th>\n",
       "      <td>ZZ</td>\n",
       "      <td>Français établis hors de France</td>\n",
       "      <td>2</td>\n",
       "      <td>2ème circonscription</td>\n",
       "      <td>235</td>\n",
       "      <td>Bahamas (Nassau)</td>\n",
       "      <td>0001</td>\n",
       "      <td>137</td>\n",
       "      <td>78</td>\n",
       "      <td>56.93</td>\n",
       "      <td>...</td>\n",
       "      <td>35</td>\n",
       "      <td>25.55</td>\n",
       "      <td>68.63</td>\n",
       "      <td>2</td>\n",
       "      <td>F</td>\n",
       "      <td>LE PEN</td>\n",
       "      <td>Marine</td>\n",
       "      <td>16</td>\n",
       "      <td>11.68</td>\n",
       "      <td>31.37</td>\n",
       "    </tr>\n",
       "  </tbody>\n",
       "</table>\n",
       "<p>5 rows × 35 columns</p>\n",
       "</div>"
      ],
      "text/plain": [
       "      Code du département           Libellé du département  \\\n",
       "69677                  ZZ  Français établis hors de France   \n",
       "69678                  ZZ  Français établis hors de France   \n",
       "69679                  ZZ  Français établis hors de France   \n",
       "69680                  ZZ  Français établis hors de France   \n",
       "69681                  ZZ  Français établis hors de France   \n",
       "\n",
       "       Code de la circonscription Libellé de la circonscription  \\\n",
       "69677                           6          6ème circonscription   \n",
       "69678                          11         11ème circonscription   \n",
       "69679                          11         11ème circonscription   \n",
       "69680                           2          2ème circonscription   \n",
       "69681                           2          2ème circonscription   \n",
       "\n",
       "       Code de la commune Libellé de la commune Code du b.vote  Inscrits  \\\n",
       "69677                 229                Zurich           0001     24867   \n",
       "69678                 231                Taipei           0001      1703   \n",
       "69679                 233          Nour-Soultan           0001       117   \n",
       "69680                 234             Monterrey           0001       715   \n",
       "69681                 235      Bahamas (Nassau)           0001       137   \n",
       "\n",
       "       Abstentions  % Abs/Ins  ...   Voix  % Voix/Ins  % Voix/Exp  \\\n",
       "69677        13153      52.89  ...  10166       40.88       88.88   \n",
       "69678          928      54.49  ...    611       35.88       82.23   \n",
       "69679           64      54.70  ...     39       33.33       78.00   \n",
       "69680          510      71.33  ...    181       25.31       89.60   \n",
       "69681           78      56.93  ...     35       25.55       68.63   \n",
       "\n",
       "       Unnamed: 28  Unnamed: 29  Unnamed: 30  Unnamed: 31  Unnamed: 32  \\\n",
       "69677            2            F       LE PEN       Marine         1272   \n",
       "69678            2            F       LE PEN       Marine          132   \n",
       "69679            2            F       LE PEN       Marine           11   \n",
       "69680            2            F       LE PEN       Marine           21   \n",
       "69681            2            F       LE PEN       Marine           16   \n",
       "\n",
       "       Unnamed: 33  Unnamed: 34  \n",
       "69677         5.12        11.12  \n",
       "69678         7.75        17.77  \n",
       "69679         9.40        22.00  \n",
       "69680         2.94        10.40  \n",
       "69681        11.68        31.37  \n",
       "\n",
       "[5 rows x 35 columns]"
      ]
     },
     "execution_count": 21,
     "metadata": {},
     "output_type": "execute_result"
    }
   ],
   "source": [
    "fname = '/tmp/T2.xlsx'\n",
    "\n",
    "if not os.path.isfile(fname):\n",
    "    url = 'https://static.data.gouv.fr/resources/election-presidentielle-des-10-et-24-avril-2022-resultats-definitifs-du-2nd-tour/20220428-142301/resultats-par-niveau-burvot-t2-france-entiere.xlsx' # XLSX\n",
    "    import urllib.request\n",
    "    urllib.request.urlretrieve(url, fname)\n",
    "\n",
    "T2 = pd.read_excel(fname)\n",
    "\n",
    "T2.tail()"
   ]
  },
  {
   "cell_type": "markdown",
   "metadata": {},
   "source": [
    "On vérifie que les données sont une nouvelle fois organisé suivant la même structure :"
   ]
  },
  {
   "cell_type": "code",
   "execution_count": 22,
   "metadata": {},
   "outputs": [
    {
     "data": {
      "text/plain": [
       "Index(['Code du département', 'Libellé du département',\n",
       "       'Code de la circonscription', 'Libellé de la circonscription',\n",
       "       'Code de la commune', 'Libellé de la commune', 'Code du b.vote',\n",
       "       'Inscrits', 'Abstentions', '% Abs/Ins', 'Votants', '% Vot/Ins',\n",
       "       'Blancs', '% Blancs/Ins', '% Blancs/Vot', 'Nuls', '% Nuls/Ins',\n",
       "       '% Nuls/Vot', 'Exprimés', '% Exp/Ins', '% Exp/Vot', 'N°Panneau', 'Sexe',\n",
       "       'Nom', 'Prénom', 'Voix', '% Voix/Ins', '% Voix/Exp', 'Unnamed: 28',\n",
       "       'Unnamed: 29', 'Unnamed: 30', 'Unnamed: 31', 'Unnamed: 32',\n",
       "       'Unnamed: 33', 'Unnamed: 34'],\n",
       "      dtype='object')"
      ]
     },
     "execution_count": 22,
     "metadata": {},
     "output_type": "execute_result"
    }
   ],
   "source": [
    "T2.columns"
   ]
  },
  {
   "cell_type": "code",
   "execution_count": 23,
   "metadata": {},
   "outputs": [
    {
     "data": {
      "text/plain": [
       "Index(['Code du département', 'Libellé du département',\n",
       "       'Code de la circonscription', 'Libellé de la circonscription',\n",
       "       'Code de la commune', 'Libellé de la commune', 'Code du b.vote',\n",
       "       'Inscrits', 'Abstentions', '% Abs/Ins', 'Votants', '% Vot/Ins',\n",
       "       'Blancs', '% Blancs/Ins', '% Blancs/Vot', 'Nuls', '% Nuls/Ins',\n",
       "       '% Nuls/Vot', 'Exprimés', '% Exp/Ins', '% Exp/Vot', 'N°Panneau',\n",
       "       'Sexe'],\n",
       "      dtype='object')"
      ]
     },
     "execution_count": 23,
     "metadata": {},
     "output_type": "execute_result"
    }
   ],
   "source": [
    "T2.columns[:23]"
   ]
  },
  {
   "cell_type": "code",
   "execution_count": 24,
   "metadata": {},
   "outputs": [
    {
     "data": {
      "text/plain": [
       "Index(['Nom', 'Prénom', 'Voix', '% Voix/Ins', '% Voix/Exp', 'Unnamed: 28',\n",
       "       'Unnamed: 29', 'Unnamed: 30', 'Unnamed: 31', 'Unnamed: 32',\n",
       "       'Unnamed: 33', 'Unnamed: 34'],\n",
       "      dtype='object')"
      ]
     },
     "execution_count": 24,
     "metadata": {},
     "output_type": "execute_result"
    }
   ],
   "source": [
    "T2.columns[23:]"
   ]
  },
  {
   "cell_type": "code",
   "execution_count": 25,
   "metadata": {},
   "outputs": [
    {
     "data": {
      "text/plain": [
       "Nom              MACRON\n",
       "Prénom         Emmanuel\n",
       "Voix                237\n",
       "% Voix/Ins        36.86\n",
       "% Voix/Exp        52.67\n",
       "Unnamed: 28           2\n",
       "Unnamed: 29           F\n",
       "Unnamed: 30      LE PEN\n",
       "Unnamed: 31      Marine\n",
       "Unnamed: 32         213\n",
       "Unnamed: 33       33.13\n",
       "Unnamed: 34       47.33\n",
       "Name: 0, dtype: object"
      ]
     },
     "execution_count": 25,
     "metadata": {},
     "output_type": "execute_result"
    }
   ],
   "source": [
    "T2.iloc[0, 23:]"
   ]
  },
  {
   "cell_type": "code",
   "execution_count": 26,
   "metadata": {},
   "outputs": [
    {
     "data": {
      "text/plain": [
       "Nom            MACRON\n",
       "Unnamed: 30    LE PEN\n",
       "Name: 0, dtype: object"
      ]
     },
     "execution_count": 26,
     "metadata": {},
     "output_type": "execute_result"
    }
   ],
   "source": [
    "col_start = 23\n",
    "col_par_cdt = 7\n",
    "candidats = T2.iloc[0][col_start::col_par_cdt]\n",
    "candidats"
   ]
  },
  {
   "cell_type": "markdown",
   "metadata": {},
   "source": [
    "Une fois cette vérification faite nous pouvons extraire les données dans un nouveau tableau :"
   ]
  },
  {
   "cell_type": "code",
   "execution_count": 27,
   "metadata": {
    "tags": []
   },
   "outputs": [
    {
     "data": {
      "text/html": [
       "<div>\n",
       "<style scoped>\n",
       "    .dataframe tbody tr th:only-of-type {\n",
       "        vertical-align: middle;\n",
       "    }\n",
       "\n",
       "    .dataframe tbody tr th {\n",
       "        vertical-align: top;\n",
       "    }\n",
       "\n",
       "    .dataframe thead th {\n",
       "        text-align: right;\n",
       "    }\n",
       "</style>\n",
       "<table border=\"1\" class=\"dataframe\">\n",
       "  <thead>\n",
       "    <tr style=\"text-align: right;\">\n",
       "      <th></th>\n",
       "      <th>Nuls</th>\n",
       "      <th>Blancs</th>\n",
       "      <th>Abstentions</th>\n",
       "    </tr>\n",
       "  </thead>\n",
       "  <tbody>\n",
       "    <tr>\n",
       "      <th>0</th>\n",
       "      <td>5</td>\n",
       "      <td>42</td>\n",
       "      <td>146</td>\n",
       "    </tr>\n",
       "    <tr>\n",
       "      <th>1</th>\n",
       "      <td>3</td>\n",
       "      <td>23</td>\n",
       "      <td>45</td>\n",
       "    </tr>\n",
       "    <tr>\n",
       "      <th>2</th>\n",
       "      <td>22</td>\n",
       "      <td>71</td>\n",
       "      <td>322</td>\n",
       "    </tr>\n",
       "    <tr>\n",
       "      <th>3</th>\n",
       "      <td>18</td>\n",
       "      <td>45</td>\n",
       "      <td>313</td>\n",
       "    </tr>\n",
       "    <tr>\n",
       "      <th>4</th>\n",
       "      <td>21</td>\n",
       "      <td>87</td>\n",
       "      <td>303</td>\n",
       "    </tr>\n",
       "  </tbody>\n",
       "</table>\n",
       "</div>"
      ],
      "text/plain": [
       "   Nuls  Blancs  Abstentions\n",
       "0     5      42          146\n",
       "1     3      23           45\n",
       "2    22      71          322\n",
       "3    18      45          313\n",
       "4    21      87          303"
      ]
     },
     "execution_count": 27,
     "metadata": {},
     "output_type": "execute_result"
    }
   ],
   "source": [
    "df_2 = T2[['Nuls', 'Blancs', 'Abstentions']].copy()\n",
    "#df_1 = df_1.rename(columns={\"Nuls\": \"1_Nuls\", \"Abstentions\": \"1_Abstentions\"})\n",
    "df_2.head()"
   ]
  },
  {
   "cell_type": "markdown",
   "metadata": {},
   "source": [
    "Nous vérifions aussi que nous avons le même nombre de bureaux de vote :"
   ]
  },
  {
   "cell_type": "code",
   "execution_count": 28,
   "metadata": {},
   "outputs": [
    {
     "data": {
      "text/plain": [
       "69682"
      ]
     },
     "execution_count": 28,
     "metadata": {},
     "output_type": "execute_result"
    }
   ],
   "source": [
    "len(df_2)"
   ]
  },
  {
   "cell_type": "code",
   "execution_count": 29,
   "metadata": {},
   "outputs": [
    {
     "name": "stdout",
     "output_type": "stream",
     "text": [
      "25 [237  94 360 ...  39 181  35]\n",
      "32 [213  48 355 ...  11  21  16]\n"
     ]
    }
   ],
   "source": [
    "for i_candidat, candidat in enumerate(candidats):\n",
    "    i_col = col_start + i_candidat*col_par_cdt + 2\n",
    "    print(i_col, T2.iloc[:, i_col].values)\n",
    "    df_2[candidat] = T2.iloc[:, i_col].values"
   ]
  },
  {
   "cell_type": "code",
   "execution_count": 30,
   "metadata": {},
   "outputs": [
    {
     "data": {
      "text/html": [
       "<div>\n",
       "<style scoped>\n",
       "    .dataframe tbody tr th:only-of-type {\n",
       "        vertical-align: middle;\n",
       "    }\n",
       "\n",
       "    .dataframe tbody tr th {\n",
       "        vertical-align: top;\n",
       "    }\n",
       "\n",
       "    .dataframe thead th {\n",
       "        text-align: right;\n",
       "    }\n",
       "</style>\n",
       "<table border=\"1\" class=\"dataframe\">\n",
       "  <thead>\n",
       "    <tr style=\"text-align: right;\">\n",
       "      <th></th>\n",
       "      <th>Nuls</th>\n",
       "      <th>Blancs</th>\n",
       "      <th>Abstentions</th>\n",
       "      <th>MACRON</th>\n",
       "      <th>LE PEN</th>\n",
       "    </tr>\n",
       "  </thead>\n",
       "  <tbody>\n",
       "    <tr>\n",
       "      <th>0</th>\n",
       "      <td>5</td>\n",
       "      <td>42</td>\n",
       "      <td>146</td>\n",
       "      <td>237</td>\n",
       "      <td>213</td>\n",
       "    </tr>\n",
       "    <tr>\n",
       "      <th>1</th>\n",
       "      <td>3</td>\n",
       "      <td>23</td>\n",
       "      <td>45</td>\n",
       "      <td>94</td>\n",
       "      <td>48</td>\n",
       "    </tr>\n",
       "    <tr>\n",
       "      <th>2</th>\n",
       "      <td>22</td>\n",
       "      <td>71</td>\n",
       "      <td>322</td>\n",
       "      <td>360</td>\n",
       "      <td>355</td>\n",
       "    </tr>\n",
       "    <tr>\n",
       "      <th>3</th>\n",
       "      <td>18</td>\n",
       "      <td>45</td>\n",
       "      <td>313</td>\n",
       "      <td>426</td>\n",
       "      <td>327</td>\n",
       "    </tr>\n",
       "    <tr>\n",
       "      <th>4</th>\n",
       "      <td>21</td>\n",
       "      <td>87</td>\n",
       "      <td>303</td>\n",
       "      <td>449</td>\n",
       "      <td>353</td>\n",
       "    </tr>\n",
       "    <tr>\n",
       "      <th>...</th>\n",
       "      <td>...</td>\n",
       "      <td>...</td>\n",
       "      <td>...</td>\n",
       "      <td>...</td>\n",
       "      <td>...</td>\n",
       "    </tr>\n",
       "    <tr>\n",
       "      <th>69677</th>\n",
       "      <td>49</td>\n",
       "      <td>227</td>\n",
       "      <td>13153</td>\n",
       "      <td>10166</td>\n",
       "      <td>1272</td>\n",
       "    </tr>\n",
       "    <tr>\n",
       "      <th>69678</th>\n",
       "      <td>6</td>\n",
       "      <td>26</td>\n",
       "      <td>928</td>\n",
       "      <td>611</td>\n",
       "      <td>132</td>\n",
       "    </tr>\n",
       "    <tr>\n",
       "      <th>69679</th>\n",
       "      <td>0</td>\n",
       "      <td>3</td>\n",
       "      <td>64</td>\n",
       "      <td>39</td>\n",
       "      <td>11</td>\n",
       "    </tr>\n",
       "    <tr>\n",
       "      <th>69680</th>\n",
       "      <td>1</td>\n",
       "      <td>2</td>\n",
       "      <td>510</td>\n",
       "      <td>181</td>\n",
       "      <td>21</td>\n",
       "    </tr>\n",
       "    <tr>\n",
       "      <th>69681</th>\n",
       "      <td>1</td>\n",
       "      <td>7</td>\n",
       "      <td>78</td>\n",
       "      <td>35</td>\n",
       "      <td>16</td>\n",
       "    </tr>\n",
       "  </tbody>\n",
       "</table>\n",
       "<p>69682 rows × 5 columns</p>\n",
       "</div>"
      ],
      "text/plain": [
       "       Nuls  Blancs  Abstentions  MACRON  LE PEN\n",
       "0         5      42          146     237     213\n",
       "1         3      23           45      94      48\n",
       "2        22      71          322     360     355\n",
       "3        18      45          313     426     327\n",
       "4        21      87          303     449     353\n",
       "...     ...     ...          ...     ...     ...\n",
       "69677    49     227        13153   10166    1272\n",
       "69678     6      26          928     611     132\n",
       "69679     0       3           64      39      11\n",
       "69680     1       2          510     181      21\n",
       "69681     1       7           78      35      16\n",
       "\n",
       "[69682 rows x 5 columns]"
      ]
     },
     "execution_count": 30,
     "metadata": {},
     "output_type": "execute_result"
    }
   ],
   "source": [
    "df_2"
   ]
  },
  {
   "cell_type": "markdown",
   "metadata": {},
   "source": [
    "De la même façon que pour le premier tour, nous pouvons représenter les résultats totaux obtenus au second tour de façon graphique :"
   ]
  },
  {
   "cell_type": "code",
   "execution_count": 31,
   "metadata": {},
   "outputs": [
    {
     "data": {
      "image/png": "[encoded data removed]",
      "text/plain": [
       "<Figure size 936x360 with 1 Axes>"
      ]
     },
     "metadata": {
      "needs_background": "light"
     },
     "output_type": "display_data"
    }
   ],
   "source": [
    "fig, ax = plt.subplots(figsize=(13, 5))\n",
    "k = df_2.sum()/df_2.sum().sum()\n",
    "ax = k.plot.bar(ax=ax)\n",
    "ax.set_xlabel('Candidat')\n",
    "#ax.set_xlim(1, 10)\n",
    "#ax.set_xticks(np.arange(1, 10)+.5)\n",
    "#ax.set_xticklabels(np.arange(1, 10)) , rotation=45\n",
    "ax.set_ylabel('pourcentage');"
   ]
  },
  {
   "cell_type": "raw",
   "metadata": {},
   "source": [
    "df_2 = df_2.drop(columns=['Nuls', 'Blancs'])#, 'Abstentions'])"
   ]
  },
  {
   "cell_type": "markdown",
   "metadata": {},
   "source": [
    "### Nettoyage des données (non aux nans)\n",
    "\n",
    "Certains bureaux de vote n'ont pas de votants au premier ou au deuxieme. Ceci peut engendrer des problèmes numériques en générant des divisions par zéro, des `Not a Number (NaN)` dans le jargon informatique. Comme ceux-ci représentent un nombre très faible d'électeurs nous allons les ignorer par rapport au reste de la population."
   ]
  },
  {
   "cell_type": "markdown",
   "metadata": {},
   "source": [
    "Nous pouvons d'abord compter le nombre de bureaux de vote qui n'ont aucun suffrage enregistré:"
   ]
  },
  {
   "cell_type": "code",
   "execution_count": 32,
   "metadata": {},
   "outputs": [
    {
     "data": {
      "text/plain": [
       "(10, 11)"
      ]
     },
     "execution_count": 32,
     "metadata": {},
     "output_type": "execute_result"
    }
   ],
   "source": [
    "(df_1.sum(axis=1)==0).sum(), (df_2.sum(axis=1)==0).sum()"
   ]
  },
  {
   "cell_type": "markdown",
   "metadata": {},
   "source": [
    "Nous pouvons \"effacer\" ces bureaux du vote en commençant par filtrer ceux qui n'ont aucun suffrage enregistré au premier tour :"
   ]
  },
  {
   "cell_type": "code",
   "execution_count": 33,
   "metadata": {},
   "outputs": [],
   "source": [
    "df_2.drop(df_2.loc[df_1.sum(axis=1)==0].index, inplace=True)\n",
    "df_1.drop(df_1.loc[df_1.sum(axis=1)==0].index, inplace=True)"
   ]
  },
  {
   "cell_type": "code",
   "execution_count": 34,
   "metadata": {},
   "outputs": [
    {
     "data": {
      "text/plain": [
       "(0, 2)"
      ]
     },
     "execution_count": 34,
     "metadata": {},
     "output_type": "execute_result"
    }
   ],
   "source": [
    "(df_1.sum(axis=1)==0).sum(), (df_2.sum(axis=1)==0).sum()"
   ]
  },
  {
   "cell_type": "markdown",
   "metadata": {},
   "source": [
    "Et maintenant répéter la même procédure sur les bureaux de vote qui n'ont aucun suffrage enregistré au second tour :"
   ]
  },
  {
   "cell_type": "code",
   "execution_count": 35,
   "metadata": {},
   "outputs": [],
   "source": [
    "df_1.drop(df_1.loc[df_2.sum(axis=1)==0].index, inplace=True)\n",
    "df_2.drop(df_2.loc[df_2.sum(axis=1)==0].index, inplace=True)"
   ]
  },
  {
   "cell_type": "code",
   "execution_count": 36,
   "metadata": {},
   "outputs": [
    {
     "data": {
      "text/plain": [
       "(0, 0)"
      ]
     },
     "execution_count": 36,
     "metadata": {},
     "output_type": "execute_result"
    }
   ],
   "source": [
    "(df_1.sum(axis=1)==0).sum(), (df_2.sum(axis=1)==0).sum()"
   ]
  },
  {
   "cell_type": "markdown",
   "metadata": {},
   "source": [
    "### Statistiques de second ordre\n",
    "\n",
    "Comme cela est montré dans l'[article du Monde](https://www.lemonde.fr/les-decodeurs/article/2022/05/04/election-presidentielle-2022-quels-reports-de-voix-entre-les-deux-tours_6124672_4355770.html) on peut montrer la dépendance entre les choix qui sont effectués au premier tour et ceux qui sont effectués au deuxième tour. On va utiliser des représentations graphiques similaires à ceux de l'article pour d'une première part les répliquer et vérifier que la méthode est correct et d'un autre côté pour mieux comprendre comment nous pouvons tirer dans ses enseignements depuis ces observations."
   ]
  },
  {
   "cell_type": "code",
   "execution_count": 37,
   "metadata": {},
   "outputs": [],
   "source": [
    "df_12 = pd.DataFrame()"
   ]
  },
  {
   "cell_type": "code",
   "execution_count": 38,
   "metadata": {},
   "outputs": [],
   "source": [
    "df_12['1_MÉLENCHON'] = df_1['MÉLENCHON'].copy()\n",
    "df_12['MACRON'] = df_2['MACRON'].copy()"
   ]
  },
  {
   "cell_type": "code",
   "execution_count": 39,
   "metadata": {},
   "outputs": [
    {
     "name": "stdout",
     "output_type": "stream",
     "text": [
      "<class 'pandas.core.frame.DataFrame'>\n",
      "Int64Index: 69670 entries, 0 to 69681\n",
      "Data columns (total 2 columns):\n",
      " #   Column       Non-Null Count  Dtype\n",
      "---  ------       --------------  -----\n",
      " 0   1_MÉLENCHON  69670 non-null  int64\n",
      " 1   MACRON       69670 non-null  int64\n",
      "dtypes: int64(2)\n",
      "memory usage: 1.6 MB\n"
     ]
    }
   ],
   "source": [
    "df_12.info()"
   ]
  },
  {
   "cell_type": "code",
   "execution_count": 40,
   "metadata": {},
   "outputs": [],
   "source": [
    "df_12['1_MÉLENCHON'] = df_12['1_MÉLENCHON']/df_1.sum(axis=1)\n",
    "df_12['MACRON'] = df_12['MACRON']/df_2.sum(axis=1)"
   ]
  },
  {
   "cell_type": "code",
   "execution_count": 41,
   "metadata": {},
   "outputs": [],
   "source": [
    "import seaborn as sns"
   ]
  },
  {
   "cell_type": "code",
   "execution_count": 42,
   "metadata": {},
   "outputs": [
    {
     "data": {
      "image/png": "[encoded data removed]",
      "text/plain": [
       "<Figure size 576x576 with 3 Axes>"
      ]
     },
     "metadata": {
      "needs_background": "light"
     },
     "output_type": "display_data"
    }
   ],
   "source": [
    "sns.jointplot(x=df_12['1_MÉLENCHON'], y=df_12['MACRON'], kind='hist', height=8);"
   ]
  },
  {
   "cell_type": "markdown",
   "metadata": {},
   "source": [
    "On remarque effectivement une dépendance entre le choix. Un premier candidat effectué au premier tour et celui qui est effectué au second tour. Nous allons essayer d'inférer de façon plus précise cette dépendance grâce au modèle de transition que nous avons exposer au début de cet article."
   ]
  },
  {
   "cell_type": "markdown",
   "metadata": {},
   "source": [
    "## Modèle de prédiction du transfert des voix\n",
    "\n",
    "Maintenant que nous avons récolté les données pour chacun des deux tours, et que nous avons une idée qu'il existe une dépendance entre les choix qui sont faits entre un tour et le suivant, nous allons pouvoir utiliser des librairies de l'apprentissage automatique (machine Learning en anglais) pour pouvoir inférer le report de voix entre les deux tours : Pour cela nous allons utiliser un travail précédemment effectué appliqué à l'[exploration du comportement humain](https://laurentperrinet.github.io/sciblog/posts/2020-04-08-fitting-a-psychometric-curve-using-pytorch.html) ou alors pour [l'épidémiologie du Covid](https://laurentperrinet.github.io/sciblog/posts/2020-10-10-fitting-covid-data.html)."
   ]
  },
  {
   "cell_type": "markdown",
   "metadata": {},
   "source": [
    "### Formatage des données au format de la librairie `torch`\n",
    "\n",
    "Pendant un aperçu des résultats au premier tour :"
   ]
  },
  {
   "cell_type": "code",
   "execution_count": 43,
   "metadata": {},
   "outputs": [
    {
     "data": {
      "text/html": [
       "<div>\n",
       "<style scoped>\n",
       "    .dataframe tbody tr th:only-of-type {\n",
       "        vertical-align: middle;\n",
       "    }\n",
       "\n",
       "    .dataframe tbody tr th {\n",
       "        vertical-align: top;\n",
       "    }\n",
       "\n",
       "    .dataframe thead th {\n",
       "        text-align: right;\n",
       "    }\n",
       "</style>\n",
       "<table border=\"1\" class=\"dataframe\">\n",
       "  <thead>\n",
       "    <tr style=\"text-align: right;\">\n",
       "      <th></th>\n",
       "      <th>Nuls</th>\n",
       "      <th>Blancs</th>\n",
       "      <th>Abstentions</th>\n",
       "      <th>ARTHAUD</th>\n",
       "      <th>ROUSSEL</th>\n",
       "      <th>MACRON</th>\n",
       "      <th>LASSALLE</th>\n",
       "      <th>LE PEN</th>\n",
       "      <th>ZEMMOUR</th>\n",
       "      <th>MÉLENCHON</th>\n",
       "      <th>HIDALGO</th>\n",
       "      <th>JADOT</th>\n",
       "      <th>PÉCRESSE</th>\n",
       "      <th>POUTOU</th>\n",
       "      <th>DUPONT-AIGNAN</th>\n",
       "    </tr>\n",
       "  </thead>\n",
       "  <tbody>\n",
       "    <tr>\n",
       "      <th>0</th>\n",
       "      <td>1</td>\n",
       "      <td>16</td>\n",
       "      <td>108</td>\n",
       "      <td>3</td>\n",
       "      <td>6</td>\n",
       "      <td>150</td>\n",
       "      <td>18</td>\n",
       "      <td>149</td>\n",
       "      <td>43</td>\n",
       "      <td>66</td>\n",
       "      <td>5</td>\n",
       "      <td>30</td>\n",
       "      <td>26</td>\n",
       "      <td>3</td>\n",
       "      <td>21</td>\n",
       "    </tr>\n",
       "    <tr>\n",
       "      <th>1</th>\n",
       "      <td>1</td>\n",
       "      <td>3</td>\n",
       "      <td>38</td>\n",
       "      <td>2</td>\n",
       "      <td>7</td>\n",
       "      <td>50</td>\n",
       "      <td>10</td>\n",
       "      <td>23</td>\n",
       "      <td>14</td>\n",
       "      <td>41</td>\n",
       "      <td>3</td>\n",
       "      <td>10</td>\n",
       "      <td>8</td>\n",
       "      <td>3</td>\n",
       "      <td>0</td>\n",
       "    </tr>\n",
       "    <tr>\n",
       "      <th>2</th>\n",
       "      <td>5</td>\n",
       "      <td>18</td>\n",
       "      <td>266</td>\n",
       "      <td>4</td>\n",
       "      <td>30</td>\n",
       "      <td>159</td>\n",
       "      <td>24</td>\n",
       "      <td>237</td>\n",
       "      <td>69</td>\n",
       "      <td>216</td>\n",
       "      <td>15</td>\n",
       "      <td>25</td>\n",
       "      <td>40</td>\n",
       "      <td>8</td>\n",
       "      <td>13</td>\n",
       "    </tr>\n",
       "    <tr>\n",
       "      <th>3</th>\n",
       "      <td>6</td>\n",
       "      <td>15</td>\n",
       "      <td>265</td>\n",
       "      <td>6</td>\n",
       "      <td>13</td>\n",
       "      <td>201</td>\n",
       "      <td>19</td>\n",
       "      <td>210</td>\n",
       "      <td>68</td>\n",
       "      <td>194</td>\n",
       "      <td>19</td>\n",
       "      <td>46</td>\n",
       "      <td>42</td>\n",
       "      <td>4</td>\n",
       "      <td>20</td>\n",
       "    </tr>\n",
       "    <tr>\n",
       "      <th>4</th>\n",
       "      <td>8</td>\n",
       "      <td>10</td>\n",
       "      <td>246</td>\n",
       "      <td>8</td>\n",
       "      <td>18</td>\n",
       "      <td>229</td>\n",
       "      <td>28</td>\n",
       "      <td>227</td>\n",
       "      <td>74</td>\n",
       "      <td>227</td>\n",
       "      <td>16</td>\n",
       "      <td>65</td>\n",
       "      <td>35</td>\n",
       "      <td>3</td>\n",
       "      <td>19</td>\n",
       "    </tr>\n",
       "  </tbody>\n",
       "</table>\n",
       "</div>"
      ],
      "text/plain": [
       "   Nuls  Blancs  Abstentions  ARTHAUD  ROUSSEL  MACRON  LASSALLE  LE PEN  \\\n",
       "0     1      16          108        3        6     150        18     149   \n",
       "1     1       3           38        2        7      50        10      23   \n",
       "2     5      18          266        4       30     159        24     237   \n",
       "3     6      15          265        6       13     201        19     210   \n",
       "4     8      10          246        8       18     229        28     227   \n",
       "\n",
       "   ZEMMOUR  MÉLENCHON  HIDALGO  JADOT  PÉCRESSE  POUTOU  DUPONT-AIGNAN  \n",
       "0       43         66        5     30        26       3             21  \n",
       "1       14         41        3     10         8       3              0  \n",
       "2       69        216       15     25        40       8             13  \n",
       "3       68        194       19     46        42       4             20  \n",
       "4       74        227       16     65        35       3             19  "
      ]
     },
     "execution_count": 43,
     "metadata": {},
     "output_type": "execute_result"
    }
   ],
   "source": [
    "df_1.head()"
   ]
  },
  {
   "cell_type": "markdown",
   "metadata": {},
   "source": [
    "Nous avons donc comptabilisé ces différentes alternatives au premier tour :"
   ]
  },
  {
   "cell_type": "code",
   "execution_count": 44,
   "metadata": {},
   "outputs": [
    {
     "data": {
      "text/plain": [
       "15"
      ]
     },
     "execution_count": 44,
     "metadata": {},
     "output_type": "execute_result"
    }
   ],
   "source": [
    "len(df_1.columns)"
   ]
  },
  {
   "cell_type": "markdown",
   "metadata": {},
   "source": [
    "De sorte que sur les bureaux de vote que nous avons validé nous avons les deux tableaux suivants :"
   ]
  },
  {
   "cell_type": "code",
   "execution_count": 45,
   "metadata": {
    "scrolled": true
   },
   "outputs": [
    {
     "data": {
      "text/plain": [
       "((69670, 15), (69670, 5))"
      ]
     },
     "execution_count": 45,
     "metadata": {},
     "output_type": "execute_result"
    }
   ],
   "source": [
    "df_1.values.shape, df_2.values.shape"
   ]
  },
  {
   "cell_type": "markdown",
   "metadata": {},
   "source": [
    "Nous allons maintenant utiliser la librairie `torch` pour enregistrer ses données sous la forme d'une matrice (ou *tenseur* dans le jargon de cette librairie) :"
   ]
  },
  {
   "cell_type": "code",
   "execution_count": 46,
   "metadata": {},
   "outputs": [],
   "source": [
    "import torch\n",
    "\n",
    "X_1, X_2 = df_1.values, df_2.values\n",
    "x_1, x_2 = torch.Tensor(X_1), torch.Tensor(X_2)\n"
   ]
  },
  {
   "cell_type": "code",
   "execution_count": 47,
   "metadata": {},
   "outputs": [
    {
     "data": {
      "text/plain": [
       "torch.Size([69670, 15])"
      ]
     },
     "execution_count": 47,
     "metadata": {},
     "output_type": "execute_result"
    }
   ],
   "source": [
    "x_1.shape"
   ]
  },
  {
   "cell_type": "markdown",
   "metadata": {},
   "source": [
    "Ainsi nous allons très facilement pouvoir représenter les données pour pouvoir les apprendre. Une pratique extrêmement importante dans l'apprentissage automatique et de séparer les données qui sont utilisés pour apprendre le modèle, avec celles qui sont utilisés pour tester ce modèle :"
   ]
  },
  {
   "cell_type": "code",
   "execution_count": 48,
   "metadata": {},
   "outputs": [],
   "source": [
    "from torch.utils.data import TensorDataset, DataLoader\n",
    "\n",
    "dataset = TensorDataset(x_1, x_2)\n",
    "\n",
    "# Random split\n",
    "train_set_size = int(len(dataset) * 0.8)\n",
    "test_set_size = len(dataset) - train_set_size\n",
    "train_set, test_set = torch.utils.data.random_split(dataset, [train_set_size, test_set_size])\n"
   ]
  },
  {
   "cell_type": "markdown",
   "metadata": {},
   "source": [
    "Ainsi nous pourrons utiliser l'ensemble d'apprentissage au cours des différentes époques d'apprentissage utilisé plus bas :"
   ]
  },
  {
   "cell_type": "code",
   "execution_count": 49,
   "metadata": {},
   "outputs": [],
   "source": [
    "train_loader = DataLoader(train_set, batch_size=32, shuffle=True)"
   ]
  },
  {
   "cell_type": "code",
   "execution_count": 50,
   "metadata": {},
   "outputs": [],
   "source": [
    "for n_1, n_2 in train_loader:\n",
    "    break"
   ]
  },
  {
   "cell_type": "markdown",
   "metadata": {},
   "source": [
    "En particulier, nous allons couper les données de façon aléatoire puis il est représenté sous la forme de différents « paquet » dont la taille est fixé ici à 32, et nous verrons plus tard que si cette procédure permet d'accélérer l'apprentissage - la taille du paquet n'ayant qu'une influence sur la vitesse pour obtenir le résultat final (et non sur le résultat \"espéré\")."
   ]
  },
  {
   "cell_type": "code",
   "execution_count": 51,
   "metadata": {},
   "outputs": [
    {
     "data": {
      "text/plain": [
       "(torch.Size([32, 15]), torch.Size([32, 5]))"
      ]
     },
     "execution_count": 51,
     "metadata": {},
     "output_type": "execute_result"
    }
   ],
   "source": [
    "n_1.shape, n_2.shape"
   ]
  },
  {
   "cell_type": "markdown",
   "metadata": {},
   "source": [
    "Dans chaque paquet (de bureaux de votes tirés au hasard sur la population française), nous pouvons compter le nombre de votes pour les différentes alternatives :"
   ]
  },
  {
   "cell_type": "code",
   "execution_count": 52,
   "metadata": {
    "tags": []
   },
   "outputs": [
    {
     "data": {
      "text/plain": [
       "(tensor([ 328.,  950.,  814., 1035.,  913.,  971.,  685.,  710.,  297., 1041.,\n",
       "          888., 1003.,  785., 1232.,  279.,  593., 1087.,  566., 1025.,  949.,\n",
       "          632.,  223.,  828., 1045.,  165.,  106.,  904.,  607.,  696.,  760.,\n",
       "          842.,  300.]),\n",
       " tensor([ 328.,  950.,  814., 1036.,  913.,  970.,  686.,  711.,  297., 1041.,\n",
       "          888., 1003.,  785., 1232.,  280.,  594., 1087.,  568., 1025.,  949.,\n",
       "          632.,  223.,  830., 1045.,  165.,  106.,  904.,  607.,  696.,  760.,\n",
       "          842.,  300.]))"
      ]
     },
     "execution_count": 52,
     "metadata": {},
     "output_type": "execute_result"
    }
   ],
   "source": [
    "sum_1, sum_2 = n_1.sum(axis=1), n_2.sum(axis=1)\n",
    "sum_1, sum_2"
   ]
  },
  {
   "cell_type": "markdown",
   "metadata": {},
   "source": [
    "Nous pouvons aussi vérifier que parmi toutes les alternatives, on peut calculer des fréquences d'occurrence, et que comme chaque individu peut faire un seul choix et un seul, la somme de ses fréquences d'occurrence pour chacun des paquets est égale à $1$."
   ]
  },
  {
   "cell_type": "code",
   "execution_count": 53,
   "metadata": {},
   "outputs": [
    {
     "data": {
      "text/plain": [
       "tensor([1.0000, 1.0000, 1.0000, 1.0000, 1.0000, 1.0000, 1.0000, 1.0000, 1.0000,\n",
       "        1.0000, 1.0000, 1.0000, 1.0000, 1.0000, 1.0000, 1.0000, 1.0000, 1.0000,\n",
       "        1.0000, 1.0000, 1.0000, 1.0000, 1.0000, 1.0000, 1.0000, 1.0000, 1.0000,\n",
       "        1.0000, 1.0000, 1.0000, 1.0000, 1.0000])"
      ]
     },
     "execution_count": 53,
     "metadata": {},
     "output_type": "execute_result"
    }
   ],
   "source": [
    "(n_1/sum_1[:, None]).sum(axis=1)"
   ]
  },
  {
   "cell_type": "markdown",
   "metadata": {},
   "source": [
    "Nous pourrons aussi aisément utiliser les données qui sont représentés dans l'ensemble de test :"
   ]
  },
  {
   "cell_type": "code",
   "execution_count": 54,
   "metadata": {},
   "outputs": [
    {
     "data": {
      "text/plain": [
       "(torch.Size([13934, 15]), torch.Size([13934, 5]))"
      ]
     },
     "execution_count": 54,
     "metadata": {},
     "output_type": "execute_result"
    }
   ],
   "source": [
    "n_1, n_2 = dataset[test_set.indices]\n",
    "n_1.shape, n_2.shape"
   ]
  },
  {
   "cell_type": "markdown",
   "metadata": {},
   "source": [
    "### Modèle `torch` de transition de probabilités\n",
    "\n",
    "\n",
    "Maintenant que nous avons correctement formaté les données, nous allons exprimer dans le langage de la librairie `torch` le modèle qui nous permet d'exprimer la transition entre les préférences au premier tour et les préférences au premier second tour. En particulier la matrice de transition sera définie par une matrice de poids `self.lin.weight` de telle sorte que quand on l'utilise, la contrainte qui fait que la somme des éléments colonne par colonne est bien égal à $1$ (utilisation de `torch.softmax(self.lin.weight, axis=1)`):"
   ]
  },
  {
   "cell_type": "code",
   "execution_count": 55,
   "metadata": {
    "tags": []
   },
   "outputs": [],
   "source": [
    "import torch\n",
    "from torch.utils.data import TensorDataset, DataLoader, random_split\n",
    "import torch.nn.functional as F\n",
    "\n",
    "#torch.set_default_tensor_type(\"torch.DoubleTensor\")\n",
    "torch.set_default_tensor_type(\"torch.FloatTensor\")\n",
    "\n",
    "class TransfertVoix(torch.nn.Module):\n",
    "    def __init__(self, N_1er, N_2eme):#, device=None):\n",
    "        super(TransfertVoix, self).__init__()\n",
    "        #if device is None: device = torch.device(\"cuda\" if torch.cuda.is_available() else \"cpu\")\n",
    "        #M = torch.randn((N_1er, N_2eme))\n",
    "        #self.M = torch.nn.Parameter(M, requires_grad=True)#.to(device)\n",
    "        self.lin = torch.nn.Linear(N_2eme, N_1er, bias=False)\n",
    "\n",
    "    def forward(self, p_1):\n",
    "        M = torch.softmax(self.lin.weight, axis=1)\n",
    "        #p_2_pred = torch.matmul(p_1, M)\n",
    "        p_2_pred = torch.matmul(p_1, M)\n",
    "        return p_2_pred"
   ]
  },
  {
   "cell_type": "markdown",
   "metadata": {},
   "source": [
    "Ce modèle va utiliser comme dimension le nombre de différentes alternatives au premier et deuxième tour :"
   ]
  },
  {
   "cell_type": "code",
   "execution_count": 56,
   "metadata": {},
   "outputs": [
    {
     "data": {
      "text/plain": [
       "(15, 5)"
      ]
     },
     "execution_count": 56,
     "metadata": {},
     "output_type": "execute_result"
    }
   ],
   "source": [
    "N_1er, N_2eme = len(df_1.columns), len(df_2.columns)\n",
    "N_1er, N_2eme"
   ]
  },
  {
   "cell_type": "markdown",
   "metadata": {},
   "source": [
    "De telle sorte que nous allons pouvoir instancier un tel modèle, sachant que la matrice de transition sera initialement choisie de façon totalement aléatoire et donc déconnecté des données à la première époque de cet apprentissage :"
   ]
  },
  {
   "cell_type": "code",
   "execution_count": 57,
   "metadata": {},
   "outputs": [],
   "source": [
    "trans = TransfertVoix(N_1er, N_2eme)"
   ]
  },
  {
   "cell_type": "code",
   "execution_count": 58,
   "metadata": {},
   "outputs": [
    {
     "name": "stdout",
     "output_type": "stream",
     "text": [
      "Parameter containing:\n",
      "tensor([[ 0.2498,  0.2730, -0.1893,  0.4234,  0.2393],\n",
      "        [-0.0596, -0.3838, -0.1116, -0.4433,  0.1938],\n",
      "        [ 0.3290,  0.2366,  0.1891,  0.2313,  0.3003],\n",
      "        [ 0.3776,  0.3412,  0.0644, -0.2659, -0.4230],\n",
      "        [ 0.2304,  0.2027, -0.3417,  0.0231, -0.0738],\n",
      "        [-0.1993, -0.0048,  0.2375,  0.0569, -0.0402],\n",
      "        [-0.2538, -0.1705, -0.2525,  0.0527,  0.2935],\n",
      "        [-0.3460,  0.0598, -0.0377,  0.2101, -0.3169],\n",
      "        [ 0.2628, -0.2568,  0.1297, -0.2912, -0.2294],\n",
      "        [-0.0445, -0.0417, -0.2271,  0.3970, -0.0426],\n",
      "        [ 0.0544, -0.0971,  0.4104,  0.3732,  0.2881],\n",
      "        [ 0.2058,  0.1039,  0.0462,  0.2915, -0.1160],\n",
      "        [-0.1021,  0.4331,  0.3499,  0.4182, -0.3350],\n",
      "        [-0.0423,  0.2016,  0.3731, -0.0681, -0.0149],\n",
      "        [-0.4428,  0.3414, -0.3575,  0.2405,  0.3245]], requires_grad=True)\n"
     ]
    }
   ],
   "source": [
    "for p in trans.parameters():print(p)"
   ]
  },
  {
   "cell_type": "code",
   "execution_count": 59,
   "metadata": {},
   "outputs": [
    {
     "data": {
      "text/plain": [
       "torch.Size([15, 5])"
      ]
     },
     "execution_count": 59,
     "metadata": {},
     "output_type": "execute_result"
    }
   ],
   "source": [
    "trans.lin.weight.shape"
   ]
  },
  {
   "cell_type": "code",
   "execution_count": 60,
   "metadata": {
    "tags": []
   },
   "outputs": [
    {
     "data": {
      "text/plain": [
       "tensor([[0.2063, 0.2111, 0.1330, 0.2454, 0.2042],\n",
       "        [0.2154, 0.1558, 0.2045, 0.1468, 0.2776],\n",
       "        [0.2146, 0.1957, 0.1866, 0.1946, 0.2085],\n",
       "        [0.2725, 0.2627, 0.1992, 0.1432, 0.1224],\n",
       "        [0.2447, 0.2380, 0.1381, 0.1988, 0.1805],\n",
       "        [0.1606, 0.1951, 0.2486, 0.2075, 0.1883],\n",
       "        [0.1619, 0.1760, 0.1621, 0.2200, 0.2799],\n",
       "        [0.1507, 0.2261, 0.2051, 0.2628, 0.1552],\n",
       "        [0.2735, 0.1627, 0.2394, 0.1572, 0.1672],\n",
       "        [0.1854, 0.1859, 0.1545, 0.2883, 0.1858],\n",
       "        [0.1687, 0.1450, 0.2409, 0.2321, 0.2132],\n",
       "        [0.2188, 0.1976, 0.1865, 0.2384, 0.1586],\n",
       "        [0.1481, 0.2528, 0.2327, 0.2491, 0.1173],\n",
       "        [0.1726, 0.2203, 0.2615, 0.1682, 0.1774],\n",
       "        [0.1188, 0.2604, 0.1294, 0.2354, 0.2560]], grad_fn=<SoftmaxBackward0>)"
      ]
     },
     "execution_count": 60,
     "metadata": {},
     "output_type": "execute_result"
    }
   ],
   "source": [
    "torch.softmax(trans.lin.weight, axis=1)"
   ]
  },
  {
   "cell_type": "markdown",
   "metadata": {},
   "source": [
    "Nous vérifions que la contrainte sur chaque colonne de la matrice de transition et bien vérifiée :"
   ]
  },
  {
   "cell_type": "code",
   "execution_count": 61,
   "metadata": {
    "tags": []
   },
   "outputs": [
    {
     "data": {
      "text/plain": [
       "tensor([1.0000, 1.0000, 1.0000, 1.0000, 1.0000, 1.0000, 1.0000, 1.0000, 1.0000,\n",
       "        1.0000, 1.0000, 1.0000, 1.0000, 1.0000, 1.0000],\n",
       "       grad_fn=<SumBackward1>)"
      ]
     },
     "execution_count": 61,
     "metadata": {},
     "output_type": "execute_result"
    }
   ],
   "source": [
    "torch.softmax(trans.lin.weight, axis=1).sum(axis=1)"
   ]
  },
  {
   "cell_type": "markdown",
   "metadata": {},
   "source": [
    "Exprimons maintenant pour chacun des bureaux de vote les probabilités de préférence qui sont exprimées localement :"
   ]
  },
  {
   "cell_type": "code",
   "execution_count": 62,
   "metadata": {},
   "outputs": [],
   "source": [
    "sum_1, sum_2 = n_1.sum(axis=1), n_2.sum(axis=1)\n",
    "p_1 = n_1/sum_1[:, None]"
   ]
  },
  {
   "cell_type": "markdown",
   "metadata": {},
   "source": [
    "Cette probabilité va pouvoir être multiplié par la matrice de transition de probabilité et nous vérifions dans les lignes suivantes la compatibilité entre les différentes dimensions des données représentées :"
   ]
  },
  {
   "cell_type": "code",
   "execution_count": 63,
   "metadata": {},
   "outputs": [
    {
     "data": {
      "text/plain": [
       "(torch.Size([13934, 15]), tensor([1., 1., 1.,  ..., 1., 1., 1.]))"
      ]
     },
     "execution_count": 63,
     "metadata": {},
     "output_type": "execute_result"
    }
   ],
   "source": [
    "p_1.shape, p_1.sum(axis=1)"
   ]
  },
  {
   "cell_type": "code",
   "execution_count": 64,
   "metadata": {},
   "outputs": [
    {
     "data": {
      "text/plain": [
       "(torch.Size([13934, 15]), torch.Size([15, 5]))"
      ]
     },
     "execution_count": 64,
     "metadata": {},
     "output_type": "execute_result"
    }
   ],
   "source": [
    "p_1.shape, trans.lin.weight.shape"
   ]
  },
  {
   "cell_type": "code",
   "execution_count": 65,
   "metadata": {
    "scrolled": true
   },
   "outputs": [
    {
     "data": {
      "text/plain": [
       "torch.Size([13934, 5])"
      ]
     },
     "execution_count": 65,
     "metadata": {},
     "output_type": "execute_result"
    }
   ],
   "source": [
    "torch.matmul(p_1, torch.softmax(trans.lin.weight, axis=1)).shape"
   ]
  },
  {
   "cell_type": "markdown",
   "metadata": {},
   "source": [
    "Ces différentes vérifications nous permettent de valider l'utilisation directe du modèle pour prédire la probabilité de préférence dans ce bureau de vote au second tour à partir de celle observée au premier tour :"
   ]
  },
  {
   "cell_type": "code",
   "execution_count": 66,
   "metadata": {},
   "outputs": [
    {
     "data": {
      "text/plain": [
       "(tensor([0.1850, 0.2010, 0.2005, 0.2268, 0.1867], grad_fn=<MeanBackward1>),\n",
       " tensor(1.0000, grad_fn=<SumBackward0>))"
      ]
     },
     "execution_count": 66,
     "metadata": {},
     "output_type": "execute_result"
    }
   ],
   "source": [
    "p_2_pred = trans(n_1/sum_1[:, None])\n",
    "p_2_pred.mean(axis=0), p_2_pred.mean(axis=0).sum()"
   ]
  },
  {
   "cell_type": "markdown",
   "metadata": {},
   "source": [
    "Au cours de l'apprentissage, nous allons pouvoir comparer cette probabilité prédit avec celle qui a été effectivement observée :"
   ]
  },
  {
   "cell_type": "code",
   "execution_count": 67,
   "metadata": {},
   "outputs": [
    {
     "data": {
      "text/plain": [
       "(tensor([0.0186, 0.0499, 0.2546, 0.3711, 0.3058]), tensor(1.))"
      ]
     },
     "execution_count": 67,
     "metadata": {},
     "output_type": "execute_result"
    }
   ],
   "source": [
    "p_2 = n_2/sum_2[:, None]\n",
    "p_2.mean(axis=0), p_2.mean(axis=0).sum()"
   ]
  },
  {
   "cell_type": "markdown",
   "metadata": {},
   "source": [
    "Nous allons aussi vérifier graphiquement que les résultats moyen des votes au second tour peuvent être inférer à partir des données de probabilité multiplié par la taille de chacun des bureaux de vote :"
   ]
  },
  {
   "cell_type": "code",
   "execution_count": 68,
   "metadata": {},
   "outputs": [
    {
     "data": {
      "image/png": "[encoded data removed]",
      "text/plain": [
       "<Figure size 936x360 with 1 Axes>"
      ]
     },
     "metadata": {
      "needs_background": "light"
     },
     "output_type": "display_data"
    }
   ],
   "source": [
    "fig, ax = plt.subplots(figsize=(13, 5))\n",
    "k = df_2.sum()/df_2.sum().sum()\n",
    "ax = k.plot.bar(ax=ax)\n",
    "p_2_average = (p_2*sum_2[:, None]).sum(axis=0)/sum_2.sum()\n",
    "ax.plot(p_2_average, 'r')\n",
    "ax.set_xlabel('Candidat')\n",
    "ax.set_ylabel('pourcentage');"
   ]
  },
  {
   "cell_type": "markdown",
   "metadata": {},
   "source": [
    "Ainsi que la concordance entre les résultats finaux obtenu est ce que nous représentons dans notre modèle :"
   ]
  },
  {
   "cell_type": "code",
   "execution_count": 69,
   "metadata": {},
   "outputs": [
    {
     "data": {
      "text/plain": [
       "(Nuls            1.651714\n",
       " Blancs          4.582147\n",
       " Abstentions    28.010677\n",
       " MACRON         38.497926\n",
       " LE PEN         27.257536\n",
       " dtype: float64,\n",
       " tensor([ 1.6419,  4.5506, 28.0842, 38.6798, 27.0435]))"
      ]
     },
     "execution_count": 69,
     "metadata": {},
     "output_type": "execute_result"
    }
   ],
   "source": [
    "k*100, p_2_average*100"
   ]
  },
  {
   "cell_type": "code",
   "execution_count": 70,
   "metadata": {},
   "outputs": [
    {
     "data": {
      "text/plain": [
       "tensor(2.1135)"
      ]
     },
     "execution_count": 70,
     "metadata": {},
     "output_type": "execute_result"
    }
   ],
   "source": [
    "F.binary_cross_entropy(p_2_average, p_2_average, reduction=\"sum\")"
   ]
  },
  {
   "cell_type": "markdown",
   "metadata": {},
   "source": [
    "### Modèle `torch` d'apprentissage\n",
    "\n",
    "Maintenant que nous avons défini le modèle de transition des probabilités entre les préférences au premier tour et au second tour, nous pouvons maintenant écrire un algorithme d'apprentissage qui permet d'optimiser la concordance entre la prédiction et les observations. \n",
    "\n",
    "Nous allons utiliser les distributions observées $q$ et prédites $\\hat{q}$ (celle-ci dépendant de $M$) pour calculer un coût à minimiser\n",
    "$$\n",
    "\\mathcal{L} =  KL(q, \\hat{q})\n",
    "$$\n",
    "\n",
    "où la [divergence de Kullback-Leibler](https://fr.wikipedia.org/wiki/Divergence_de_Kullback-Leibler) est calculée comme\n",
    "\n",
    "$$\n",
    "KL(P, Q) = \\sum_j P_j \\cdot \\log \\frac {P_j}{Q_j}\n",
    "$$\n",
    "\n",
    "\n",
    "Cette divergence est l'équivalent d'une distance dans les espaces de probabilité. Mathématiquement, c'est une semi-normes car elle obéit à deux propriétés fondamentales: elle est toujours positive et est égale à zéro quand elle est appliquée à distributions identiques."
   ]
  },
  {
   "cell_type": "code",
   "execution_count": 71,
   "metadata": {
    "tags": []
   },
   "outputs": [],
   "source": [
    "import torch.nn.functional as F\n",
    "\n",
    "learning_rate = 0.03\n",
    "beta1, beta2 = 0.95, 0\n",
    "# beta1, beta2 = 0.9, 0.999\n",
    "num_epochs = 2 ** 10 + 1\n",
    "batch_size = 2 ** 6\n",
    "do_optim = False\n",
    "do_optim = True\n",
    "\n",
    "def pdf_loss(p_pred, p, weight, loss_type):\n",
    "    if loss_type=='kl':\n",
    "        ind_nonzero = (p==0) + (p_pred==0)\n",
    "        p[ind_nonzero] = 1.\n",
    "        p_pred[ind_nonzero] = 1.\n",
    "        kl_div = p * (p.log() - p_pred.log())\n",
    "        loss_train = (kl_div * weight[:, None]).sum()\n",
    "    elif loss_type=='l1':\n",
    "        div = torch.absolute(p - p_pred)\n",
    "        loss_train = (div * weight[:, None]).sum() \n",
    "    else:\n",
    "        loss_train = F.binary_cross_entropy(p_pred, p, reduction=\"sum\", weight=weight[:, None])\n",
    "        loss_train -= F.binary_cross_entropy(p, p, reduction=\"sum\", weight=weight[:, None])\n",
    "    return loss_train\n",
    "\n",
    "def fit_data(\n",
    "    df_1,\n",
    "    df_2,\n",
    "    learning_rate=learning_rate,\n",
    "    batch_size=batch_size,\n",
    "    num_epochs=num_epochs,\n",
    "    loss_type='bce',\n",
    "    beta1=beta1,\n",
    "    beta2=beta2, \n",
    "    do_optim=do_optim, \n",
    "    split_ratio=.9, \n",
    "    seed=2022, # graine du générateur de nombre aléatoires utilisé dans le split test vs train\n",
    "    verbose=False\n",
    "):\n",
    "\n",
    "    device = torch.device(\"cuda\" if torch.cuda.is_available() else \"cpu\")\n",
    "\n",
    "    N_1er, N_2eme = len(df_1.columns), len(df_2.columns)\n",
    "    trans = TransfertVoix(N_1er, N_2eme)\n",
    "    trans = trans.to(device)\n",
    "    trans.train()\n",
    "    \n",
    "    # apprentissage\n",
    "    if beta2==0: \n",
    "        optimizer = torch.optim.SGD(trans.parameters(), lr=learning_rate, momentum=beta1, nesterov=do_optim)\n",
    "    else:\n",
    "        optimizer = torch.optim.Adam(trans.parameters(), lr=learning_rate, betas=(beta1, beta2), amsgrad=do_optim)\n",
    "\n",
    "    if torch.cuda.is_available(): torch.cuda.empty_cache()    \n",
    "    # the data\n",
    "    X_1, X_2 = df_1.values, df_2.values\n",
    "    x_1, x_2 = torch.Tensor(X_1), torch.Tensor(X_2)\n",
    "\n",
    "    # split train and test\n",
    "    dataset = TensorDataset(x_1, x_2)\n",
    "    train_set_size = int(len(dataset) * split_ratio)\n",
    "    test_set_size = len(dataset) - train_set_size\n",
    "    train_set, test_set = random_split(dataset, [train_set_size, test_set_size], generator=torch.Generator().manual_seed(seed))\n",
    "    train_loader = DataLoader(train_set, batch_size=int(batch_size), shuffle=True)\n",
    "\n",
    "    for epoch in range(int(num_epochs)):\n",
    "        losses = []\n",
    "        for n_1, n_2 in train_loader:\n",
    "            n_1, n_2 = n_1.to(device), n_2.to(device)\n",
    "\n",
    "            sum_1, sum_2 = n_1.sum(axis=1), n_2.sum(axis=1)\n",
    "            p_1 = n_1/sum_1[:, None]\n",
    "            p_2 = n_2/sum_2[:, None]\n",
    "\n",
    "            p_2_pred = trans(p_1)\n",
    "            weight = sum_2 / train_set_size # /sum_2.sum() # donne un poids à chaque bureau de vote proportionnel à sa taille\n",
    "\n",
    "            loss_train = pdf_loss(p_2_pred, p_2, weight, loss_type=loss_type)\n",
    "\n",
    "            optimizer.zero_grad()\n",
    "            loss_train.backward()\n",
    "            optimizer.step()\n",
    "\n",
    "            losses.append(loss_train.item())\n",
    "\n",
    "        if verbose and (epoch % (num_epochs // 32) == 0):\n",
    "            print(f\"Iteration: {epoch} / {num_epochs} - Loss: {np.sum(losses):.5e}\")\n",
    "\n",
    "    loss_train = np.sum(losses) # somme des loss à la dernière époque\n",
    "    loss_train = loss_train/split_ratio # normalise par rapport à la taille du train dataset\n",
    "\n",
    "    # Test\n",
    "    with torch.no_grad():\n",
    "        n_1, n_2 = dataset[test_set.indices]\n",
    "        sum_1, sum_2 = n_1.sum(axis=1), n_2.sum(axis=1)\n",
    "        p_2 = n_2/sum_2[:, None]\n",
    "        p_1 = n_1/sum_1[:, None]\n",
    "        p_2_pred = trans(p_1)\n",
    "        weight = sum_2 / test_set_size # normalise par rapport à la taille du test dataset\n",
    "        loss_test = pdf_loss(p_2_pred, p_2, weight, loss_type=loss_type)\n",
    "\n",
    "    return trans, loss_train, loss_test, p_1.detach().numpy(), p_2.detach().numpy(), p_2_pred.detach().numpy()"
   ]
  },
  {
   "cell_type": "code",
   "execution_count": 72,
   "metadata": {
    "tags": []
   },
   "outputs": [
    {
     "name": "stdout",
     "output_type": "stream",
     "text": [
      "loss_type='kl'\n"
     ]
    },
    {
     "name": "stderr",
     "output_type": "stream",
     "text": [
      "/home/laurent/.local/lib/python3.10/site-packages/torch/cuda/__init__.py:82: UserWarning: CUDA initialization: The NVIDIA driver on your system is too old (found version 10010). Please update your GPU driver by downloading and installing a new version from the URL: http://www.nvidia.com/Download/index.aspx Alternatively, go to: https://pytorch.org to install a PyTorch version that has been compiled with your version of the CUDA driver. (Triggered internally at  ../c10/cuda/CUDAFunctions.cpp:112.)\n",
      "  return torch._C._cuda_getDeviceCount() > 0\n"
     ]
    },
    {
     "name": "stdout",
     "output_type": "stream",
     "text": [
      "Iteration: 0 / 1025 - Loss: 4.15724e+01\n",
      "Iteration: 32 / 1025 - Loss: 8.02073e+00\n",
      "Iteration: 64 / 1025 - Loss: 7.77913e+00\n",
      "Iteration: 96 / 1025 - Loss: 7.70437e+00\n",
      "Iteration: 128 / 1025 - Loss: 7.66864e+00\n",
      "Iteration: 160 / 1025 - Loss: 7.64236e+00\n",
      "Iteration: 192 / 1025 - Loss: 7.62795e+00\n",
      "Iteration: 224 / 1025 - Loss: 7.61674e+00\n",
      "Iteration: 256 / 1025 - Loss: 7.60806e+00\n",
      "Iteration: 288 / 1025 - Loss: 7.60298e+00\n",
      "Iteration: 320 / 1025 - Loss: 7.59471e+00\n",
      "Iteration: 352 / 1025 - Loss: 7.58909e+00\n",
      "Iteration: 384 / 1025 - Loss: 7.58565e+00\n",
      "Iteration: 416 / 1025 - Loss: 7.58286e+00\n",
      "Iteration: 448 / 1025 - Loss: 7.57997e+00\n",
      "Iteration: 480 / 1025 - Loss: 7.57490e+00\n",
      "Iteration: 512 / 1025 - Loss: 7.57417e+00\n",
      "Iteration: 544 / 1025 - Loss: 7.57439e+00\n",
      "Iteration: 576 / 1025 - Loss: 7.57000e+00\n",
      "Iteration: 608 / 1025 - Loss: 7.56990e+00\n",
      "Iteration: 640 / 1025 - Loss: 7.56873e+00\n",
      "Iteration: 672 / 1025 - Loss: 7.56391e+00\n",
      "Iteration: 704 / 1025 - Loss: 7.56410e+00\n",
      "Iteration: 736 / 1025 - Loss: 7.56353e+00\n",
      "Iteration: 768 / 1025 - Loss: 7.56331e+00\n",
      "Iteration: 800 / 1025 - Loss: 7.56189e+00\n",
      "Iteration: 832 / 1025 - Loss: 7.56087e+00\n",
      "Iteration: 864 / 1025 - Loss: 7.55913e+00\n",
      "Iteration: 896 / 1025 - Loss: 7.55674e+00\n",
      "Iteration: 928 / 1025 - Loss: 7.55789e+00\n",
      "Iteration: 960 / 1025 - Loss: 7.55735e+00\n",
      "Iteration: 992 / 1025 - Loss: 7.55396e+00\n",
      "Iteration: 1024 / 1025 - Loss: 7.55694e+00\n"
     ]
    },
    {
     "data": {
      "image/png": "[encoded data removed]",
      "text/plain": [
       "<Figure size 936x360 with 5 Axes>"
      ]
     },
     "metadata": {
      "needs_background": "light"
     },
     "output_type": "display_data"
    },
    {
     "name": "stdout",
     "output_type": "stream",
     "text": [
      "loss_type='l1'\n",
      "Iteration: 0 / 1025 - Loss: 1.15774e+02\n",
      "Iteration: 32 / 1025 - Loss: 5.66412e+01\n",
      "Iteration: 64 / 1025 - Loss: 5.63358e+01\n",
      "Iteration: 96 / 1025 - Loss: 5.62247e+01\n",
      "Iteration: 128 / 1025 - Loss: 5.61623e+01\n",
      "Iteration: 160 / 1025 - Loss: 5.61365e+01\n",
      "Iteration: 192 / 1025 - Loss: 5.61168e+01\n",
      "Iteration: 224 / 1025 - Loss: 5.61002e+01\n",
      "Iteration: 256 / 1025 - Loss: 5.60740e+01\n",
      "Iteration: 288 / 1025 - Loss: 5.60765e+01\n",
      "Iteration: 320 / 1025 - Loss: 5.60651e+01\n",
      "Iteration: 352 / 1025 - Loss: 5.60743e+01\n",
      "Iteration: 384 / 1025 - Loss: 5.60365e+01\n",
      "Iteration: 416 / 1025 - Loss: 5.60391e+01\n",
      "Iteration: 448 / 1025 - Loss: 5.60513e+01\n",
      "Iteration: 480 / 1025 - Loss: 5.60502e+01\n",
      "Iteration: 512 / 1025 - Loss: 5.60564e+01\n",
      "Iteration: 544 / 1025 - Loss: 5.60390e+01\n",
      "Iteration: 576 / 1025 - Loss: 5.60309e+01\n",
      "Iteration: 608 / 1025 - Loss: 5.60174e+01\n",
      "Iteration: 640 / 1025 - Loss: 5.60383e+01\n",
      "Iteration: 672 / 1025 - Loss: 5.60380e+01\n",
      "Iteration: 704 / 1025 - Loss: 5.60317e+01\n",
      "Iteration: 736 / 1025 - Loss: 5.60317e+01\n",
      "Iteration: 768 / 1025 - Loss: 5.60219e+01\n",
      "Iteration: 800 / 1025 - Loss: 5.60242e+01\n",
      "Iteration: 832 / 1025 - Loss: 5.60270e+01\n",
      "Iteration: 864 / 1025 - Loss: 5.60003e+01\n",
      "Iteration: 896 / 1025 - Loss: 5.60283e+01\n",
      "Iteration: 928 / 1025 - Loss: 5.60246e+01\n",
      "Iteration: 960 / 1025 - Loss: 5.60337e+01\n",
      "Iteration: 992 / 1025 - Loss: 5.60254e+01\n",
      "Iteration: 1024 / 1025 - Loss: 5.60159e+01\n"
     ]
    },
    {
     "data": {
      "image/png": "[encoded data removed]",
      "text/plain": [
       "<Figure size 936x360 with 5 Axes>"
      ]
     },
     "metadata": {
      "needs_background": "light"
     },
     "output_type": "display_data"
    },
    {
     "name": "stdout",
     "output_type": "stream",
     "text": [
      "loss_type='bce'\n",
      "Iteration: 0 / 1025 - Loss: 4.02837e+01\n",
      "Iteration: 32 / 1025 - Loss: 9.93713e+00\n",
      "Iteration: 64 / 1025 - Loss: 9.67965e+00\n",
      "Iteration: 96 / 1025 - Loss: 9.60143e+00\n",
      "Iteration: 128 / 1025 - Loss: 9.55838e+00\n",
      "Iteration: 160 / 1025 - Loss: 9.52991e+00\n",
      "Iteration: 192 / 1025 - Loss: 9.50869e+00\n",
      "Iteration: 224 / 1025 - Loss: 9.49909e+00\n",
      "Iteration: 256 / 1025 - Loss: 9.49301e+00\n",
      "Iteration: 288 / 1025 - Loss: 9.48347e+00\n",
      "Iteration: 320 / 1025 - Loss: 9.48100e+00\n",
      "Iteration: 352 / 1025 - Loss: 9.47330e+00\n",
      "Iteration: 384 / 1025 - Loss: 9.47127e+00\n",
      "Iteration: 416 / 1025 - Loss: 9.46621e+00\n",
      "Iteration: 448 / 1025 - Loss: 9.46536e+00\n",
      "Iteration: 480 / 1025 - Loss: 9.46065e+00\n",
      "Iteration: 512 / 1025 - Loss: 9.45916e+00\n",
      "Iteration: 544 / 1025 - Loss: 9.45375e+00\n",
      "Iteration: 576 / 1025 - Loss: 9.45290e+00\n",
      "Iteration: 608 / 1025 - Loss: 9.45100e+00\n",
      "Iteration: 640 / 1025 - Loss: 9.45089e+00\n",
      "Iteration: 672 / 1025 - Loss: 9.45008e+00\n",
      "Iteration: 704 / 1025 - Loss: 9.44779e+00\n",
      "Iteration: 736 / 1025 - Loss: 9.44745e+00\n",
      "Iteration: 768 / 1025 - Loss: 9.44555e+00\n",
      "Iteration: 800 / 1025 - Loss: 9.44222e+00\n",
      "Iteration: 832 / 1025 - Loss: 9.44278e+00\n",
      "Iteration: 864 / 1025 - Loss: 9.44832e+00\n",
      "Iteration: 896 / 1025 - Loss: 9.44361e+00\n",
      "Iteration: 928 / 1025 - Loss: 9.44153e+00\n",
      "Iteration: 960 / 1025 - Loss: 9.43764e+00\n",
      "Iteration: 992 / 1025 - Loss: 9.44051e+00\n",
      "Iteration: 1024 / 1025 - Loss: 9.44009e+00\n"
     ]
    },
    {
     "data": {
      "image/png": "[encoded data removed]",
      "text/plain": [
       "<Figure size 936x360 with 5 Axes>"
      ]
     },
     "metadata": {
      "needs_background": "light"
     },
     "output_type": "display_data"
    }
   ],
   "source": [
    "for loss_type in [ 'kl', 'l1', 'bce',]:\n",
    "    print(f'{loss_type=}')\n",
    "    trans, loss_train, loss_test, p_1, p_2, p_2_pred = fit_data(df_1, df_2, verbose=True, loss_type=loss_type)\n",
    "\n",
    "    fig, axs = plt.subplots(1, N_2eme, figsize=(13, 5))\n",
    "    for i_col, candidat in enumerate(df_2.columns):\n",
    "        #axs[i_col].scatter(p_2[:,i_col], p_2_pred[:,i_col], alpha=.005)\n",
    "        axs[i_col].plot([0, 1], [0, 1], 'r--')\n",
    "        sns.histplot(x=p_2[:, i_col], y=p_2_pred[:, i_col], ax=axs[i_col])\n",
    "        axs[i_col].set_xlabel(candidat)\n",
    "        axs[i_col].set_xlim(0, 1)\n",
    "        axs[i_col].set_ylim(0, 1)\n",
    "    plt.show()"
   ]
  },
  {
   "cell_type": "markdown",
   "metadata": {},
   "source": [
    "Ces graphiques représentent en abscisse les probabilités observées et en ordonnée les probabilités prédites. L'intérieur du graphique représente en niveaux de bleu l'histogramme des différentes valeurs telles qu'elles sont observés sur la base de test, c'est-à-dire sur 10 % de l'ensemble des bureaux de vote."
   ]
  },
  {
   "cell_type": "markdown",
   "metadata": {},
   "source": [
    "On peut maintenant récupérer du modèle la matrice de transition qui a été inférée grâce a notre apprentissage automatique :"
   ]
  },
  {
   "cell_type": "code",
   "execution_count": 73,
   "metadata": {
    "tags": []
   },
   "outputs": [
    {
     "data": {
      "text/plain": [
       "array([[4.1055065e-01, 2.3350105e-02, 5.1552355e-03, 1.3580073e-01,\n",
       "        4.2514336e-01],\n",
       "       [1.2924168e-02, 6.0772264e-01, 3.0855637e-03, 4.2676637e-03,\n",
       "        3.7199992e-01],\n",
       "       [2.1211493e-03, 1.9549440e-04, 8.9677572e-01, 2.0311441e-02,\n",
       "        8.0596164e-02],\n",
       "       [2.7383360e-01, 2.3884322e-02, 4.7334004e-03, 6.4210468e-03,\n",
       "        6.9112766e-01],\n",
       "       [1.6414256e-01, 3.9245349e-01, 5.5087530e-03, 3.2746885e-02,\n",
       "        4.0514833e-01],\n",
       "       [5.2996857e-05, 1.1900118e-04, 7.9490732e-05, 9.9966037e-01,\n",
       "        8.8140820e-05],\n",
       "       [1.8807991e-01, 2.7995187e-01, 2.2416436e-03, 3.6507994e-03,\n",
       "        5.2607572e-01],\n",
       "       [6.3598476e-05, 6.8404574e-05, 5.0755054e-05, 5.2849784e-05,\n",
       "        9.9976438e-01],\n",
       "       [7.1792649e-03, 7.5932428e-02, 5.4411910e-02, 2.0733084e-01,\n",
       "        6.5514553e-01],\n",
       "       [1.6163936e-02, 7.2053708e-02, 2.7602082e-01, 6.0762846e-01,\n",
       "        2.8133051e-02],\n",
       "       [5.4388028e-02, 2.1459231e-01, 3.7789296e-03, 7.2276890e-01,\n",
       "        4.4717784e-03],\n",
       "       [2.1657035e-04, 1.0647221e-03, 3.6625154e-04, 9.9806994e-01,\n",
       "        2.8260110e-04],\n",
       "       [2.2841429e-02, 1.2526852e-01, 3.2202888e-03, 8.4540510e-01,\n",
       "        3.2646745e-03],\n",
       "       [1.7071548e-01, 5.2553451e-01, 1.0079524e-02, 2.4852501e-02,\n",
       "        2.6881802e-01],\n",
       "       [9.4118416e-03, 3.7973754e-02, 1.8000610e-03, 2.2121700e-03,\n",
       "        9.4860220e-01]], dtype=float32)"
      ]
     },
     "execution_count": 73,
     "metadata": {},
     "output_type": "execute_result"
    }
   ],
   "source": [
    "M = torch.softmax(trans.lin.weight, axis=1).detach().numpy()\n",
    "M"
   ]
  },
  {
   "cell_type": "markdown",
   "metadata": {},
   "source": [
    "On vérifie dans un premier temps que la contrainte est toujours bien respectée :"
   ]
  },
  {
   "cell_type": "code",
   "execution_count": 74,
   "metadata": {
    "tags": []
   },
   "outputs": [
    {
     "data": {
      "text/plain": [
       "(array([1.0000001 , 1.        , 0.99999994, 1.        , 1.        ,\n",
       "        1.        , 0.99999994, 1.        , 1.        , 1.        ,\n",
       "        0.99999994, 1.0000001 , 1.        , 1.        , 1.        ],\n",
       "       dtype=float32),\n",
       " array([1.0000001 , 1.        , 0.99999994, 1.        , 1.        ,\n",
       "        1.        , 0.99999994, 1.        , 1.        , 1.        ,\n",
       "        0.99999994, 1.0000001 , 1.        , 1.        , 1.        ],\n",
       "       dtype=float32),\n",
       " (15, 5))"
      ]
     },
     "execution_count": 74,
     "metadata": {},
     "output_type": "execute_result"
    }
   ],
   "source": [
    "M.sum(axis=1), M.sum(axis=1), M.shape"
   ]
  },
  {
   "cell_type": "markdown",
   "metadata": {},
   "source": [
    "Nous allons nous inspirer d'[un graphique de la galerie matplotlib](https://matplotlib.org/stable/gallery/misc/table_demo.html#sphx-glr-gallery-misc-table-demo-py) pour représenter la la proportion des report de voir en fonction de chacun des choix FE au deuxième tour :"
   ]
  },
  {
   "cell_type": "code",
   "execution_count": 75,
   "metadata": {
    "tags": []
   },
   "outputs": [
    {
     "data": {
      "image/png": "[encoded data removed]",
      "text/plain": [
       "<Figure size 936x936 with 1 Axes>"
      ]
     },
     "metadata": {
      "needs_background": "light"
     },
     "output_type": "display_data"
    }
   ],
   "source": [
    "fig, ax = plt.subplots(figsize=(13, 13))\n",
    "\n",
    "columns = df_2.columns\n",
    "rows = df_1.columns\n",
    "\n",
    "# Get some shades for the colors\n",
    "colors = plt.cm.tab20c(np.linspace(0, 1, len(rows)))\n",
    "n_rows = len(rows)\n",
    "\n",
    "index = np.arange(len(columns)) + 0.3\n",
    "bar_width = 0.4\n",
    "\n",
    "# Initialize the vertical-offset for the stacked bar chart.\n",
    "y_offset = np.zeros(len(columns))\n",
    "\n",
    "# Plot bars and create text labels for the table\n",
    "cell_text = []\n",
    "for row in range(n_rows):\n",
    "    ax.bar(index, M[row]*100, bar_width, bottom=y_offset, color=colors[row])\n",
    "    y_offset = y_offset + M[row]*100\n",
    "    cell_text.append([f'{x*100:1.1f}%' for x in M[row]])\n",
    "ax.set_ylim(0, 100)\n",
    "\n",
    "# Add a table at the bottom of the axes\n",
    "the_table = ax.table(cellText=cell_text,\n",
    "                      rowLabels=rows,\n",
    "                      rowColours=colors,\n",
    "                      colLabels=columns,\n",
    "                      loc='bottom')\n",
    "\n",
    "# Adjust layout to make room for the table:\n",
    "plt.subplots_adjust(left=0.2, bottom=0.2)\n",
    "\n",
    "plt.ylabel(\"Pourcentage de report des voix\")\n",
    "plt.yticks(np.linspace(0, 100, 6, endpoint=True))\n",
    "plt.xticks([])\n",
    "plt.title(\"Report des voix par résultat du 2nd tour\");"
   ]
  },
  {
   "cell_type": "markdown",
   "metadata": {},
   "source": [
    "Ces données correspondent aux intuitions qu'on peut se faire quand au report des votes. Notamment on remarque que la plupart des individus qui s'abstiennent au second tour se sont abstenus au premier (avec une petite proportion de Mélenchon qui se sont abstenus). Remarque aussi que la majorité des électeurs de Le Pen au premier tour en voter pour la même personne au deuxième tour. Environ un quart des électeurs de Le Pen au second tour s'était abstenu au premier."
   ]
  },
  {
   "cell_type": "code",
   "execution_count": 76,
   "metadata": {
    "tags": []
   },
   "outputs": [
    {
     "data": {
      "text/plain": [
       "array([[ 41.1,   2.3,   0.5,  13.6,  42.5],\n",
       "       [  1.3,  60.8,   0.3,   0.4,  37.2],\n",
       "       [  0.2,   0. ,  89.7,   2. ,   8.1],\n",
       "       [ 27.4,   2.4,   0.5,   0.6,  69.1],\n",
       "       [ 16.4,  39.2,   0.6,   3.3,  40.5],\n",
       "       [  0. ,   0. ,   0. , 100. ,   0. ],\n",
       "       [ 18.8,  28. ,   0.2,   0.4,  52.6],\n",
       "       [  0. ,   0. ,   0. ,   0. , 100. ],\n",
       "       [  0.7,   7.6,   5.4,  20.7,  65.5],\n",
       "       [  1.6,   7.2,  27.6,  60.8,   2.8],\n",
       "       [  5.4,  21.5,   0.4,  72.3,   0.4],\n",
       "       [  0. ,   0.1,   0. ,  99.8,   0. ],\n",
       "       [  2.3,  12.5,   0.3,  84.5,   0.3],\n",
       "       [ 17.1,  52.6,   1. ,   2.5,  26.9],\n",
       "       [  0.9,   3.8,   0.2,   0.2,  94.9]], dtype=float32)"
      ]
     },
     "execution_count": 76,
     "metadata": {},
     "output_type": "execute_result"
    }
   ],
   "source": [
    "np.set_printoptions(precision=1)\n",
    "np.set_printoptions(suppress=True)\n",
    "M*100"
   ]
  },
  {
   "cell_type": "markdown",
   "metadata": {},
   "source": [
    "On observe aussi quelques points intéressants dans les votes nuls qui proviennent majoritairement de voteur \"nul\" au premier tour (40 %) et ensuite par des électeurs ayant voté pour des candidats marginaux au premier tour (Arnaud, Lassalle, Hidalgo). On observe à peu près la même structure pour les voteurs \"blanc\" avec cette particularité que les individus ayant voté pour Jadot au premier tour ont relativement plus exprimé de votes \"blanc\" (~12 %) par rapport à ce qu'on observe pour les votes \"nul\". On rappelle qu'en France, un vote nul est un bulletin qui n'a pas été validé car il est par exemple raturé alors qu'un vote blanc est exprimé par un bulletin de vote totalement blanc (et qu'il faut préparer en avance). On peut donc expliquer ce dernier par rapport aux particularités du vote écologiques liés aux candidat Jadot."
   ]
  },
  {
   "cell_type": "markdown",
   "metadata": {},
   "source": [
    "Muni de cette matrice de transition on peut maintenant opérer une transformation de telle sorte à ce que nous allons regarder la distribution des report de voix pour chacun des choix qui sont faits au premier tour."
   ]
  },
  {
   "cell_type": "code",
   "execution_count": 77,
   "metadata": {
    "tags": []
   },
   "outputs": [
    {
     "data": {
      "text/plain": [
       "array([[ 41.1,   1.3,   0.2,  27.4,  16.4,   0. ,  18.8,   0. ,   0.7,\n",
       "          1.6,   5.4,   0. ,   2.3,  17.1,   0.9],\n",
       "       [  2.3,  60.8,   0. ,   2.4,  39.2,   0. ,  28. ,   0. ,   7.6,\n",
       "          7.2,  21.5,   0.1,  12.5,  52.6,   3.8],\n",
       "       [  0.5,   0.3,  89.7,   0.5,   0.6,   0. ,   0.2,   0. ,   5.4,\n",
       "         27.6,   0.4,   0. ,   0.3,   1. ,   0.2],\n",
       "       [ 13.6,   0.4,   2. ,   0.6,   3.3, 100. ,   0.4,   0. ,  20.7,\n",
       "         60.8,  72.3,  99.8,  84.5,   2.5,   0.2],\n",
       "       [ 42.5,  37.2,   8.1,  69.1,  40.5,   0. ,  52.6, 100. ,  65.5,\n",
       "          2.8,   0.4,   0. ,   0.3,  26.9,  94.9]], dtype=float32)"
      ]
     },
     "execution_count": 77,
     "metadata": {},
     "output_type": "execute_result"
    }
   ],
   "source": [
    "MT = M.T\n",
    "MT /= MT.sum(axis=0)\n",
    "MT*100"
   ]
  },
  {
   "cell_type": "code",
   "execution_count": 78,
   "metadata": {
    "tags": []
   },
   "outputs": [
    {
     "ename": "IndexError",
     "evalue": "list index out of range",
     "output_type": "error",
     "traceback": [
      "\u001b[0;31m---------------------------------------------------------------------------\u001b[0m",
      "\u001b[0;31mIndexError\u001b[0m                                Traceback (most recent call last)",
      "\u001b[0;32m/tmp/ipykernel_242681/4087622532.py\u001b[0m in \u001b[0;36m<module>\u001b[0;34m\u001b[0m\n\u001b[1;32m     17\u001b[0m \u001b[0mcell_text\u001b[0m \u001b[0;34m=\u001b[0m \u001b[0;34m[\u001b[0m\u001b[0;34m]\u001b[0m\u001b[0;34m\u001b[0m\u001b[0;34m\u001b[0m\u001b[0m\n\u001b[1;32m     18\u001b[0m \u001b[0;32mfor\u001b[0m \u001b[0mrow\u001b[0m \u001b[0;32min\u001b[0m \u001b[0mrange\u001b[0m\u001b[0;34m(\u001b[0m\u001b[0mn_rows\u001b[0m\u001b[0;34m)\u001b[0m\u001b[0;34m:\u001b[0m\u001b[0;34m\u001b[0m\u001b[0;34m\u001b[0m\u001b[0m\n\u001b[0;32m---> 19\u001b[0;31m     \u001b[0max\u001b[0m\u001b[0;34m.\u001b[0m\u001b[0mbar\u001b[0m\u001b[0;34m(\u001b[0m\u001b[0mindex\u001b[0m\u001b[0;34m,\u001b[0m \u001b[0mMT\u001b[0m\u001b[0;34m[\u001b[0m\u001b[0mrow\u001b[0m\u001b[0;34m]\u001b[0m\u001b[0;34m*\u001b[0m\u001b[0;36m100\u001b[0m\u001b[0;34m,\u001b[0m \u001b[0mbar_width\u001b[0m\u001b[0;34m,\u001b[0m \u001b[0mbottom\u001b[0m\u001b[0;34m=\u001b[0m\u001b[0my_offset\u001b[0m\u001b[0;34m,\u001b[0m \u001b[0mcolor\u001b[0m\u001b[0;34m=\u001b[0m\u001b[0mcolors\u001b[0m\u001b[0;34m[\u001b[0m\u001b[0mrow\u001b[0m\u001b[0;34m]\u001b[0m\u001b[0;34m,\u001b[0m \u001b[0mlinewidth\u001b[0m\u001b[0;34m=\u001b[0m\u001b[0;36m1\u001b[0m\u001b[0;34m)\u001b[0m\u001b[0;34m\u001b[0m\u001b[0;34m\u001b[0m\u001b[0m\n\u001b[0m\u001b[1;32m     20\u001b[0m     \u001b[0my_offset\u001b[0m \u001b[0;34m=\u001b[0m \u001b[0my_offset\u001b[0m \u001b[0;34m+\u001b[0m \u001b[0mMT\u001b[0m\u001b[0;34m[\u001b[0m\u001b[0mrow\u001b[0m\u001b[0;34m]\u001b[0m\u001b[0;34m*\u001b[0m\u001b[0;36m100\u001b[0m\u001b[0;34m\u001b[0m\u001b[0;34m\u001b[0m\u001b[0m\n\u001b[1;32m     21\u001b[0m     \u001b[0mcell_text\u001b[0m\u001b[0;34m.\u001b[0m\u001b[0mappend\u001b[0m\u001b[0;34m(\u001b[0m\u001b[0;34m[\u001b[0m\u001b[0;34mf'{x*100:1.1f}%'\u001b[0m \u001b[0;32mfor\u001b[0m \u001b[0mx\u001b[0m \u001b[0;32min\u001b[0m \u001b[0mMT\u001b[0m\u001b[0;34m[\u001b[0m\u001b[0mrow\u001b[0m\u001b[0;34m]\u001b[0m\u001b[0;34m]\u001b[0m\u001b[0;34m)\u001b[0m\u001b[0;34m\u001b[0m\u001b[0;34m\u001b[0m\u001b[0m\n",
      "\u001b[0;31mIndexError\u001b[0m: list index out of range"
     ]
    },
    {
     "data": {
      "image/png": "[encoded data removed]",
      "text/plain": [
       "<Figure size 1800x576 with 1 Axes>"
      ]
     },
     "metadata": {
      "needs_background": "light"
     },
     "output_type": "display_data"
    }
   ],
   "source": [
    "fig, ax = plt.subplots(figsize=(25, 8))\n",
    "\n",
    "columns = df_1.columns\n",
    "rows = df_2.columns\n",
    "\n",
    "# named colors: https://matplotlib.org/stable/gallery/color/named_colors.html\n",
    "colors = ['darkviolet', 'steelblue', 'brown' ]\n",
    "n_rows = len(rows)\n",
    "\n",
    "index = np.arange(len(columns)) + 0.3\n",
    "bar_width = 0.4\n",
    "\n",
    "# Initialize the vertical-offset for the stacked bar chart.\n",
    "y_offset = np.zeros(len(columns))\n",
    "\n",
    "# Plot bars and create text labels for the table\n",
    "cell_text = []\n",
    "for row in range(n_rows):\n",
    "    ax.bar(index, MT[row]*100, bar_width, bottom=y_offset, color=colors[row], linewidth=1)\n",
    "    y_offset = y_offset + MT[row]*100\n",
    "    cell_text.append([f'{x*100:1.1f}%' for x in MT[row]])\n",
    "ax.set_ylim(0, 100)\n",
    "\n",
    "# Add a table at the bottom of the axes\n",
    "the_table = ax.table(cellText=cell_text,\n",
    "                      rowLabels=rows,\n",
    "                      rowColours=colors,\n",
    "                      colLabels=columns,\n",
    "                      loc='bottom')\n",
    "\n",
    "# Adjust layout to make room for the table:\n",
    "plt.subplots_adjust(left=0.2, bottom=0.2)\n",
    "\n",
    "plt.ylabel(\"Pourcentage de report des voix\")\n",
    "plt.yticks(np.linspace(0, 100, 6, endpoint=True))\n",
    "plt.xticks([])\n",
    "plt.title(\"Report des voix par résultat du 1er tour\");"
   ]
  },
  {
   "cell_type": "markdown",
   "metadata": {},
   "source": [
    "On peut aussi se restreindre aux votes exprimés :"
   ]
  },
  {
   "cell_type": "code",
   "execution_count": 79,
   "metadata": {
    "tags": []
   },
   "outputs": [
    {
     "data": {
      "text/plain": [
       "array([[  0.9,   7.5, 100. ,   0.7,   0. ,  24. ,  95.6,  99.4, 100. ,\n",
       "         99.6,   8.5,   0.2],\n",
       "       [ 99.1,  92.5,   0. ,  99.3, 100. ,  76. ,   4.4,   0.6,   0. ,\n",
       "          0.4,  91.5,  99.8]], dtype=float32)"
      ]
     },
     "execution_count": 79,
     "metadata": {},
     "output_type": "execute_result"
    }
   ],
   "source": [
    "shift = 3\n",
    "MT = M[shift:, shift:].T\n",
    "MT /= MT.sum(axis=0)\n",
    "MT*100"
   ]
  },
  {
   "cell_type": "code",
   "execution_count": 80,
   "metadata": {
    "tags": []
   },
   "outputs": [
    {
     "data": {
      "image/png": "[encoded data removed]",
      "text/plain": [
       "<Figure size 1152x360 with 1 Axes>"
      ]
     },
     "metadata": {
      "needs_background": "light"
     },
     "output_type": "display_data"
    }
   ],
   "source": [
    "fig, ax = plt.subplots(figsize=(16, 5))\n",
    "\n",
    "columns = df_1.columns[shift:]\n",
    "rows = df_2.columns[shift:]\n",
    "\n",
    "# named colors: https://matplotlib.org/stable/gallery/color/named_colors.html\n",
    "colors = ['steelblue', 'brown' ]\n",
    "n_rows = len(rows)\n",
    "\n",
    "index = np.arange(len(columns)) + 0.3\n",
    "bar_width = 0.4\n",
    "\n",
    "# Initialize the vertical-offset for the stacked bar chart.\n",
    "y_offset = np.zeros(len(columns))\n",
    "\n",
    "# Plot bars and create text labels for the table\n",
    "cell_text = []\n",
    "for row in range(n_rows):\n",
    "    ax.bar(index, MT[row]*100, bar_width, bottom=y_offset, color=colors[row], linewidth=1)\n",
    "    y_offset = y_offset + MT[row]*100\n",
    "    cell_text.append([f'{x*100:1.1f}%' for x in MT[row]])\n",
    "ax.set_ylim(0, 100)\n",
    "# Add a table at the bottom of the axes\n",
    "the_table = ax.table(cellText=cell_text, colLoc='center', \n",
    "                      rowLabels=rows, rowLoc='center',\n",
    "                      rowColours=colors,\n",
    "                      colLabels=columns,\n",
    "                      loc='bottom')\n",
    "the_table.auto_set_font_size(False)\n",
    "the_table.set_fontsize(10)\n",
    "# Adjust layout to make room for the table:\n",
    "plt.subplots_adjust(left=0.2, bottom=0.2)\n",
    "\n",
    "plt.ylabel(\"Pourcentage de report des voix\")\n",
    "plt.yticks(np.linspace(0, 100, 6, endpoint=True))\n",
    "plt.xticks([])\n",
    "plt.title(\"Report des voix exprimées connaissant le choix exprimé au 1er tour\")\n",
    "plt.savefig('2022-05-23_transfert-des-voix.png');"
   ]
  },
  {
   "cell_type": "markdown",
   "metadata": {},
   "source": [
    "Ce tableau donne le pourcentage de chances d'exprimer une voix pour un candidat ou pour l'autre en fonction du choix qu'on a exprimé au premier tour. \n",
    "\n",
    "Ce tableau montre des tendances claires, par exemple que si on a voté Macron, Jadot ou Pécresse au premier tour, alors on va certainement voter Macron au deuxième tour. Ses électeurs se montre particulièrement consensuel et suivent le « pacte républicain » mise en place pour faire un barrage au Front National. Il montre aussi que si on a voté Le Pen ou Dupont-Aignan au premier tour alors on va voter Le Pen au deuxième, un clair vote de suivi. (On pourra aussi remarquer les ~ 3 % des voix pour Macron au premier tour qui ont voté Le Pen au deuxième tour, soit tout de même environ 320k individus…)\n",
    "\n",
    "Connaissant les couleurs politiques d'autres candidats du premier tour, on peut être surpris que les électeurs de Arthaud, Roussel ou Hidalgo ont majoritairement choisi Le Pen au deuxième tour, signifiant alors un rejet du candidat Macron. Les électeurs de Zemmour sont aussi partagés, signifiant un rejet des deux alternatives. **Ce résultat est à prendre avec des pincettes car ces derniers candidats ont obtenu moins de votes et donc que le processus d'inférence est forcément moins précis car il y a moins de données disponibles.** Pour se rendre compte de la variabilité des résultats qu'on obtient là, je conseille au lecteur (*à l'électeur*) de relancer ces notebook en utilisant différents « graines » pour le générateur de nombre aléatoire qui permet de séparer les données (le paramètre `seed`)."
   ]
  },
  {
   "cell_type": "code",
   "execution_count": 81,
   "metadata": {
    "tags": []
   },
   "outputs": [
    {
     "name": "stdout",
     "output_type": "stream",
     "text": [
      "\n",
      "Total des voix au 1er tour= 48747864, dont Macron = 9783058 (soit une pourcentage de 20.07%), \n",
      "-> nombre de reports de Macron du 1er vers Le Pen au 2eme = 863 personnes.\n",
      "\n"
     ]
    }
   ],
   "source": [
    "print(f\"\"\"\n",
    "Total des voix au 1er tour= {x_1.sum():.0f}, dont Macron = {x_1[:, 5].sum():.0f} (soit une pourcentage de {x_1[:, 5].sum()/x_1.sum()*100:.2f}%), \n",
    "-> nombre de reports de Macron du 1er vers Le Pen au 2eme = {x_1[:, 5].sum()*MT[1, 2]:.0f} personnes.\n",
    "\"\"\")"
   ]
  },
  {
   "cell_type": "markdown",
   "metadata": {},
   "source": [
    "### Influence des parametres\n",
    "\n",
    "Finalement, on valide nos résultats en testant différentes paramétrisation de l'apprentissage et en donnant la valeur du loss calculé sur la base de test :"
   ]
  },
  {
   "cell_type": "code",
   "execution_count": 82,
   "metadata": {},
   "outputs": [
    {
     "name": "stdout",
     "output_type": "stream",
     "text": [
      "TRAIN: Loss avec do_optim=True = 1.05e+01 / Loss avec alternative choice do_optim=False = 1.05e+01 \n",
      "TEST: Loss avec do_optim=True = 1.05e+01 / Loss avec alternative choice do_optim=False = 1.05e+01 \n"
     ]
    }
   ],
   "source": [
    "trans, loss_train_alt, loss_test_alt, p_1, p_2, p_2_pred = fit_data(df_1, df_2, verbose=False, do_optim=not do_optim)\n",
    "print(f'TRAIN: Loss avec {do_optim=} = {loss_train:.2e} / Loss avec alternative choice do_optim={not do_optim} = {loss_train_alt:.2e} ')\n",
    "print(f'TEST: Loss avec {do_optim=} = {loss_test:.2e} / Loss avec alternative choice do_optim={not do_optim} = {loss_test_alt:.2e} ')"
   ]
  },
  {
   "cell_type": "code",
   "execution_count": 83,
   "metadata": {},
   "outputs": [
    {
     "data": {
      "text/plain": [
       "True"
      ]
     },
     "execution_count": 83,
     "metadata": {},
     "output_type": "execute_result"
    }
   ],
   "source": [
    "do_optim"
   ]
  },
  {
   "cell_type": "code",
   "execution_count": 84,
   "metadata": {},
   "outputs": [
    {
     "ename": "KeyboardInterrupt",
     "evalue": "",
     "output_type": "error",
     "traceback": [
      "\u001b[0;31m---------------------------------------------------------------------------\u001b[0m",
      "\u001b[0;31mKeyboardInterrupt\u001b[0m                         Traceback (most recent call last)",
      "\u001b[0;32m/tmp/ipykernel_242681/1670483737.py\u001b[0m in \u001b[0;36m<module>\u001b[0;34m\u001b[0m\n\u001b[1;32m      6\u001b[0m \u001b[0;32mfor\u001b[0m \u001b[0mlearning_rate_\u001b[0m \u001b[0;32min\u001b[0m \u001b[0mlearning_rates\u001b[0m\u001b[0;34m:\u001b[0m\u001b[0;34m\u001b[0m\u001b[0;34m\u001b[0m\u001b[0m\n\u001b[1;32m      7\u001b[0m     \u001b[0mtic\u001b[0m \u001b[0;34m=\u001b[0m \u001b[0mtime\u001b[0m\u001b[0;34m.\u001b[0m\u001b[0mtime\u001b[0m\u001b[0;34m(\u001b[0m\u001b[0;34m)\u001b[0m\u001b[0;34m\u001b[0m\u001b[0;34m\u001b[0m\u001b[0m\n\u001b[0;32m----> 8\u001b[0;31m     \u001b[0mtrans\u001b[0m\u001b[0;34m,\u001b[0m \u001b[0mloss_train\u001b[0m\u001b[0;34m,\u001b[0m \u001b[0mloss_test\u001b[0m\u001b[0;34m,\u001b[0m \u001b[0mp_1\u001b[0m\u001b[0;34m,\u001b[0m \u001b[0mp_2\u001b[0m\u001b[0;34m,\u001b[0m \u001b[0mp_2_pred\u001b[0m \u001b[0;34m=\u001b[0m \u001b[0mfit_data\u001b[0m\u001b[0;34m(\u001b[0m\u001b[0mdf_1\u001b[0m\u001b[0;34m,\u001b[0m \u001b[0mdf_2\u001b[0m\u001b[0;34m,\u001b[0m \u001b[0mlearning_rate\u001b[0m\u001b[0;34m=\u001b[0m\u001b[0mlearning_rate_\u001b[0m\u001b[0;34m,\u001b[0m \u001b[0mverbose\u001b[0m\u001b[0;34m=\u001b[0m\u001b[0;32mFalse\u001b[0m\u001b[0;34m)\u001b[0m\u001b[0;34m\u001b[0m\u001b[0;34m\u001b[0m\u001b[0m\n\u001b[0m\u001b[1;32m      9\u001b[0m     \u001b[0mprint\u001b[0m\u001b[0;34m(\u001b[0m\u001b[0;34mf'Pour learning_rate= {learning_rate_:.2e}, {loss_train=:.2e} / {loss_test=:.2e}; le temps de calcul est {time.time()-tic:.3f} s'\u001b[0m\u001b[0;34m)\u001b[0m\u001b[0;34m\u001b[0m\u001b[0;34m\u001b[0m\u001b[0m\n\u001b[1;32m     10\u001b[0m     \u001b[0mresults_train\u001b[0m\u001b[0;34m.\u001b[0m\u001b[0mappend\u001b[0m\u001b[0;34m(\u001b[0m\u001b[0mloss_train\u001b[0m\u001b[0;34m)\u001b[0m\u001b[0;34m\u001b[0m\u001b[0;34m\u001b[0m\u001b[0m\n",
      "\u001b[0;32m/tmp/ipykernel_242681/2619642782.py\u001b[0m in \u001b[0;36mfit_data\u001b[0;34m(df_1, df_2, learning_rate, batch_size, num_epochs, loss_type, beta1, beta2, do_optim, split_ratio, seed, verbose)\u001b[0m\n\u001b[1;32m     66\u001b[0m     \u001b[0;32mfor\u001b[0m \u001b[0mepoch\u001b[0m \u001b[0;32min\u001b[0m \u001b[0mrange\u001b[0m\u001b[0;34m(\u001b[0m\u001b[0mint\u001b[0m\u001b[0;34m(\u001b[0m\u001b[0mnum_epochs\u001b[0m\u001b[0;34m)\u001b[0m\u001b[0;34m)\u001b[0m\u001b[0;34m:\u001b[0m\u001b[0;34m\u001b[0m\u001b[0;34m\u001b[0m\u001b[0m\n\u001b[1;32m     67\u001b[0m         \u001b[0mlosses\u001b[0m \u001b[0;34m=\u001b[0m \u001b[0;34m[\u001b[0m\u001b[0;34m]\u001b[0m\u001b[0;34m\u001b[0m\u001b[0;34m\u001b[0m\u001b[0m\n\u001b[0;32m---> 68\u001b[0;31m         \u001b[0;32mfor\u001b[0m \u001b[0mn_1\u001b[0m\u001b[0;34m,\u001b[0m \u001b[0mn_2\u001b[0m \u001b[0;32min\u001b[0m \u001b[0mtrain_loader\u001b[0m\u001b[0;34m:\u001b[0m\u001b[0;34m\u001b[0m\u001b[0;34m\u001b[0m\u001b[0m\n\u001b[0m\u001b[1;32m     69\u001b[0m             \u001b[0mn_1\u001b[0m\u001b[0;34m,\u001b[0m \u001b[0mn_2\u001b[0m \u001b[0;34m=\u001b[0m \u001b[0mn_1\u001b[0m\u001b[0;34m.\u001b[0m\u001b[0mto\u001b[0m\u001b[0;34m(\u001b[0m\u001b[0mdevice\u001b[0m\u001b[0;34m)\u001b[0m\u001b[0;34m,\u001b[0m \u001b[0mn_2\u001b[0m\u001b[0;34m.\u001b[0m\u001b[0mto\u001b[0m\u001b[0;34m(\u001b[0m\u001b[0mdevice\u001b[0m\u001b[0;34m)\u001b[0m\u001b[0;34m\u001b[0m\u001b[0;34m\u001b[0m\u001b[0m\n\u001b[1;32m     70\u001b[0m \u001b[0;34m\u001b[0m\u001b[0m\n",
      "\u001b[0;32m~/.local/lib/python3.10/site-packages/torch/utils/data/dataloader.py\u001b[0m in \u001b[0;36m__next__\u001b[0;34m(self)\u001b[0m\n\u001b[1;32m    528\u001b[0m             \u001b[0;32mif\u001b[0m \u001b[0mself\u001b[0m\u001b[0;34m.\u001b[0m\u001b[0m_sampler_iter\u001b[0m \u001b[0;32mis\u001b[0m \u001b[0;32mNone\u001b[0m\u001b[0;34m:\u001b[0m\u001b[0;34m\u001b[0m\u001b[0;34m\u001b[0m\u001b[0m\n\u001b[1;32m    529\u001b[0m                 \u001b[0mself\u001b[0m\u001b[0;34m.\u001b[0m\u001b[0m_reset\u001b[0m\u001b[0;34m(\u001b[0m\u001b[0;34m)\u001b[0m\u001b[0;34m\u001b[0m\u001b[0;34m\u001b[0m\u001b[0m\n\u001b[0;32m--> 530\u001b[0;31m             \u001b[0mdata\u001b[0m \u001b[0;34m=\u001b[0m \u001b[0mself\u001b[0m\u001b[0;34m.\u001b[0m\u001b[0m_next_data\u001b[0m\u001b[0;34m(\u001b[0m\u001b[0;34m)\u001b[0m\u001b[0;34m\u001b[0m\u001b[0;34m\u001b[0m\u001b[0m\n\u001b[0m\u001b[1;32m    531\u001b[0m             \u001b[0mself\u001b[0m\u001b[0;34m.\u001b[0m\u001b[0m_num_yielded\u001b[0m \u001b[0;34m+=\u001b[0m \u001b[0;36m1\u001b[0m\u001b[0;34m\u001b[0m\u001b[0;34m\u001b[0m\u001b[0m\n\u001b[1;32m    532\u001b[0m             \u001b[0;32mif\u001b[0m \u001b[0mself\u001b[0m\u001b[0;34m.\u001b[0m\u001b[0m_dataset_kind\u001b[0m \u001b[0;34m==\u001b[0m \u001b[0m_DatasetKind\u001b[0m\u001b[0;34m.\u001b[0m\u001b[0mIterable\u001b[0m \u001b[0;32mand\u001b[0m\u001b[0;31m \u001b[0m\u001b[0;31m\\\u001b[0m\u001b[0;34m\u001b[0m\u001b[0;34m\u001b[0m\u001b[0m\n",
      "\u001b[0;32m~/.local/lib/python3.10/site-packages/torch/utils/data/dataloader.py\u001b[0m in \u001b[0;36m_next_data\u001b[0;34m(self)\u001b[0m\n\u001b[1;32m    568\u001b[0m     \u001b[0;32mdef\u001b[0m \u001b[0m_next_data\u001b[0m\u001b[0;34m(\u001b[0m\u001b[0mself\u001b[0m\u001b[0;34m)\u001b[0m\u001b[0;34m:\u001b[0m\u001b[0;34m\u001b[0m\u001b[0;34m\u001b[0m\u001b[0m\n\u001b[1;32m    569\u001b[0m         \u001b[0mindex\u001b[0m \u001b[0;34m=\u001b[0m \u001b[0mself\u001b[0m\u001b[0;34m.\u001b[0m\u001b[0m_next_index\u001b[0m\u001b[0;34m(\u001b[0m\u001b[0;34m)\u001b[0m  \u001b[0;31m# may raise StopIteration\u001b[0m\u001b[0;34m\u001b[0m\u001b[0;34m\u001b[0m\u001b[0m\n\u001b[0;32m--> 570\u001b[0;31m         \u001b[0mdata\u001b[0m \u001b[0;34m=\u001b[0m \u001b[0mself\u001b[0m\u001b[0;34m.\u001b[0m\u001b[0m_dataset_fetcher\u001b[0m\u001b[0;34m.\u001b[0m\u001b[0mfetch\u001b[0m\u001b[0;34m(\u001b[0m\u001b[0mindex\u001b[0m\u001b[0;34m)\u001b[0m  \u001b[0;31m# may raise StopIteration\u001b[0m\u001b[0;34m\u001b[0m\u001b[0;34m\u001b[0m\u001b[0m\n\u001b[0m\u001b[1;32m    571\u001b[0m         \u001b[0;32mif\u001b[0m \u001b[0mself\u001b[0m\u001b[0;34m.\u001b[0m\u001b[0m_pin_memory\u001b[0m\u001b[0;34m:\u001b[0m\u001b[0;34m\u001b[0m\u001b[0;34m\u001b[0m\u001b[0m\n\u001b[1;32m    572\u001b[0m             \u001b[0mdata\u001b[0m \u001b[0;34m=\u001b[0m \u001b[0m_utils\u001b[0m\u001b[0;34m.\u001b[0m\u001b[0mpin_memory\u001b[0m\u001b[0;34m.\u001b[0m\u001b[0mpin_memory\u001b[0m\u001b[0;34m(\u001b[0m\u001b[0mdata\u001b[0m\u001b[0;34m)\u001b[0m\u001b[0;34m\u001b[0m\u001b[0;34m\u001b[0m\u001b[0m\n",
      "\u001b[0;32m~/.local/lib/python3.10/site-packages/torch/utils/data/_utils/fetch.py\u001b[0m in \u001b[0;36mfetch\u001b[0;34m(self, possibly_batched_index)\u001b[0m\n\u001b[1;32m     47\u001b[0m     \u001b[0;32mdef\u001b[0m \u001b[0mfetch\u001b[0m\u001b[0;34m(\u001b[0m\u001b[0mself\u001b[0m\u001b[0;34m,\u001b[0m \u001b[0mpossibly_batched_index\u001b[0m\u001b[0;34m)\u001b[0m\u001b[0;34m:\u001b[0m\u001b[0;34m\u001b[0m\u001b[0;34m\u001b[0m\u001b[0m\n\u001b[1;32m     48\u001b[0m         \u001b[0;32mif\u001b[0m \u001b[0mself\u001b[0m\u001b[0;34m.\u001b[0m\u001b[0mauto_collation\u001b[0m\u001b[0;34m:\u001b[0m\u001b[0;34m\u001b[0m\u001b[0;34m\u001b[0m\u001b[0m\n\u001b[0;32m---> 49\u001b[0;31m             \u001b[0mdata\u001b[0m \u001b[0;34m=\u001b[0m \u001b[0;34m[\u001b[0m\u001b[0mself\u001b[0m\u001b[0;34m.\u001b[0m\u001b[0mdataset\u001b[0m\u001b[0;34m[\u001b[0m\u001b[0midx\u001b[0m\u001b[0;34m]\u001b[0m \u001b[0;32mfor\u001b[0m \u001b[0midx\u001b[0m \u001b[0;32min\u001b[0m \u001b[0mpossibly_batched_index\u001b[0m\u001b[0;34m]\u001b[0m\u001b[0;34m\u001b[0m\u001b[0;34m\u001b[0m\u001b[0m\n\u001b[0m\u001b[1;32m     50\u001b[0m         \u001b[0;32melse\u001b[0m\u001b[0;34m:\u001b[0m\u001b[0;34m\u001b[0m\u001b[0;34m\u001b[0m\u001b[0m\n\u001b[1;32m     51\u001b[0m             \u001b[0mdata\u001b[0m \u001b[0;34m=\u001b[0m \u001b[0mself\u001b[0m\u001b[0;34m.\u001b[0m\u001b[0mdataset\u001b[0m\u001b[0;34m[\u001b[0m\u001b[0mpossibly_batched_index\u001b[0m\u001b[0;34m]\u001b[0m\u001b[0;34m\u001b[0m\u001b[0;34m\u001b[0m\u001b[0m\n",
      "\u001b[0;32m~/.local/lib/python3.10/site-packages/torch/utils/data/_utils/fetch.py\u001b[0m in \u001b[0;36m<listcomp>\u001b[0;34m(.0)\u001b[0m\n\u001b[1;32m     47\u001b[0m     \u001b[0;32mdef\u001b[0m \u001b[0mfetch\u001b[0m\u001b[0;34m(\u001b[0m\u001b[0mself\u001b[0m\u001b[0;34m,\u001b[0m \u001b[0mpossibly_batched_index\u001b[0m\u001b[0;34m)\u001b[0m\u001b[0;34m:\u001b[0m\u001b[0;34m\u001b[0m\u001b[0;34m\u001b[0m\u001b[0m\n\u001b[1;32m     48\u001b[0m         \u001b[0;32mif\u001b[0m \u001b[0mself\u001b[0m\u001b[0;34m.\u001b[0m\u001b[0mauto_collation\u001b[0m\u001b[0;34m:\u001b[0m\u001b[0;34m\u001b[0m\u001b[0;34m\u001b[0m\u001b[0m\n\u001b[0;32m---> 49\u001b[0;31m             \u001b[0mdata\u001b[0m \u001b[0;34m=\u001b[0m \u001b[0;34m[\u001b[0m\u001b[0mself\u001b[0m\u001b[0;34m.\u001b[0m\u001b[0mdataset\u001b[0m\u001b[0;34m[\u001b[0m\u001b[0midx\u001b[0m\u001b[0;34m]\u001b[0m \u001b[0;32mfor\u001b[0m \u001b[0midx\u001b[0m \u001b[0;32min\u001b[0m \u001b[0mpossibly_batched_index\u001b[0m\u001b[0;34m]\u001b[0m\u001b[0;34m\u001b[0m\u001b[0;34m\u001b[0m\u001b[0m\n\u001b[0m\u001b[1;32m     50\u001b[0m         \u001b[0;32melse\u001b[0m\u001b[0;34m:\u001b[0m\u001b[0;34m\u001b[0m\u001b[0;34m\u001b[0m\u001b[0m\n\u001b[1;32m     51\u001b[0m             \u001b[0mdata\u001b[0m \u001b[0;34m=\u001b[0m \u001b[0mself\u001b[0m\u001b[0;34m.\u001b[0m\u001b[0mdataset\u001b[0m\u001b[0;34m[\u001b[0m\u001b[0mpossibly_batched_index\u001b[0m\u001b[0;34m]\u001b[0m\u001b[0;34m\u001b[0m\u001b[0;34m\u001b[0m\u001b[0m\n",
      "\u001b[0;32m~/.local/lib/python3.10/site-packages/torch/utils/data/dataset.py\u001b[0m in \u001b[0;36m__getitem__\u001b[0;34m(self, idx)\u001b[0m\n\u001b[1;32m    469\u001b[0m         \u001b[0;32mif\u001b[0m \u001b[0misinstance\u001b[0m\u001b[0;34m(\u001b[0m\u001b[0midx\u001b[0m\u001b[0;34m,\u001b[0m \u001b[0mlist\u001b[0m\u001b[0;34m)\u001b[0m\u001b[0;34m:\u001b[0m\u001b[0;34m\u001b[0m\u001b[0;34m\u001b[0m\u001b[0m\n\u001b[1;32m    470\u001b[0m             \u001b[0;32mreturn\u001b[0m \u001b[0mself\u001b[0m\u001b[0;34m.\u001b[0m\u001b[0mdataset\u001b[0m\u001b[0;34m[\u001b[0m\u001b[0;34m[\u001b[0m\u001b[0mself\u001b[0m\u001b[0;34m.\u001b[0m\u001b[0mindices\u001b[0m\u001b[0;34m[\u001b[0m\u001b[0mi\u001b[0m\u001b[0;34m]\u001b[0m \u001b[0;32mfor\u001b[0m \u001b[0mi\u001b[0m \u001b[0;32min\u001b[0m \u001b[0midx\u001b[0m\u001b[0;34m]\u001b[0m\u001b[0;34m]\u001b[0m\u001b[0;34m\u001b[0m\u001b[0;34m\u001b[0m\u001b[0m\n\u001b[0;32m--> 471\u001b[0;31m         \u001b[0;32mreturn\u001b[0m \u001b[0mself\u001b[0m\u001b[0;34m.\u001b[0m\u001b[0mdataset\u001b[0m\u001b[0;34m[\u001b[0m\u001b[0mself\u001b[0m\u001b[0;34m.\u001b[0m\u001b[0mindices\u001b[0m\u001b[0;34m[\u001b[0m\u001b[0midx\u001b[0m\u001b[0;34m]\u001b[0m\u001b[0;34m]\u001b[0m\u001b[0;34m\u001b[0m\u001b[0;34m\u001b[0m\u001b[0m\n\u001b[0m\u001b[1;32m    472\u001b[0m \u001b[0;34m\u001b[0m\u001b[0m\n\u001b[1;32m    473\u001b[0m     \u001b[0;32mdef\u001b[0m \u001b[0m__len__\u001b[0m\u001b[0;34m(\u001b[0m\u001b[0mself\u001b[0m\u001b[0;34m)\u001b[0m\u001b[0;34m:\u001b[0m\u001b[0;34m\u001b[0m\u001b[0;34m\u001b[0m\u001b[0m\n",
      "\u001b[0;32m~/.local/lib/python3.10/site-packages/torch/utils/data/dataset.py\u001b[0m in \u001b[0;36m__getitem__\u001b[0;34m(self, index)\u001b[0m\n\u001b[1;32m    367\u001b[0m \u001b[0;34m\u001b[0m\u001b[0m\n\u001b[1;32m    368\u001b[0m     \u001b[0;32mdef\u001b[0m \u001b[0m__getitem__\u001b[0m\u001b[0;34m(\u001b[0m\u001b[0mself\u001b[0m\u001b[0;34m,\u001b[0m \u001b[0mindex\u001b[0m\u001b[0;34m)\u001b[0m\u001b[0;34m:\u001b[0m\u001b[0;34m\u001b[0m\u001b[0;34m\u001b[0m\u001b[0m\n\u001b[0;32m--> 369\u001b[0;31m         \u001b[0;32mreturn\u001b[0m \u001b[0mtuple\u001b[0m\u001b[0;34m(\u001b[0m\u001b[0mtensor\u001b[0m\u001b[0;34m[\u001b[0m\u001b[0mindex\u001b[0m\u001b[0;34m]\u001b[0m \u001b[0;32mfor\u001b[0m \u001b[0mtensor\u001b[0m \u001b[0;32min\u001b[0m \u001b[0mself\u001b[0m\u001b[0;34m.\u001b[0m\u001b[0mtensors\u001b[0m\u001b[0;34m)\u001b[0m\u001b[0;34m\u001b[0m\u001b[0;34m\u001b[0m\u001b[0m\n\u001b[0m\u001b[1;32m    370\u001b[0m \u001b[0;34m\u001b[0m\u001b[0m\n\u001b[1;32m    371\u001b[0m     \u001b[0;32mdef\u001b[0m \u001b[0m__len__\u001b[0m\u001b[0;34m(\u001b[0m\u001b[0mself\u001b[0m\u001b[0;34m)\u001b[0m\u001b[0;34m:\u001b[0m\u001b[0;34m\u001b[0m\u001b[0;34m\u001b[0m\u001b[0m\n",
      "\u001b[0;32m~/.local/lib/python3.10/site-packages/torch/utils/data/dataset.py\u001b[0m in \u001b[0;36m<genexpr>\u001b[0;34m(.0)\u001b[0m\n\u001b[1;32m    367\u001b[0m \u001b[0;34m\u001b[0m\u001b[0m\n\u001b[1;32m    368\u001b[0m     \u001b[0;32mdef\u001b[0m \u001b[0m__getitem__\u001b[0m\u001b[0;34m(\u001b[0m\u001b[0mself\u001b[0m\u001b[0;34m,\u001b[0m \u001b[0mindex\u001b[0m\u001b[0;34m)\u001b[0m\u001b[0;34m:\u001b[0m\u001b[0;34m\u001b[0m\u001b[0;34m\u001b[0m\u001b[0m\n\u001b[0;32m--> 369\u001b[0;31m         \u001b[0;32mreturn\u001b[0m \u001b[0mtuple\u001b[0m\u001b[0;34m(\u001b[0m\u001b[0mtensor\u001b[0m\u001b[0;34m[\u001b[0m\u001b[0mindex\u001b[0m\u001b[0;34m]\u001b[0m \u001b[0;32mfor\u001b[0m \u001b[0mtensor\u001b[0m \u001b[0;32min\u001b[0m \u001b[0mself\u001b[0m\u001b[0;34m.\u001b[0m\u001b[0mtensors\u001b[0m\u001b[0;34m)\u001b[0m\u001b[0;34m\u001b[0m\u001b[0;34m\u001b[0m\u001b[0m\n\u001b[0m\u001b[1;32m    370\u001b[0m \u001b[0;34m\u001b[0m\u001b[0m\n\u001b[1;32m    371\u001b[0m     \u001b[0;32mdef\u001b[0m \u001b[0m__len__\u001b[0m\u001b[0;34m(\u001b[0m\u001b[0mself\u001b[0m\u001b[0;34m)\u001b[0m\u001b[0;34m:\u001b[0m\u001b[0;34m\u001b[0m\u001b[0;34m\u001b[0m\u001b[0m\n",
      "\u001b[0;31mKeyboardInterrupt\u001b[0m: "
     ]
    }
   ],
   "source": [
    "import time\n",
    "N_scan = 7\n",
    "results_train, results_test = [], []\n",
    "\n",
    "learning_rates = learning_rate * np.logspace(-1, 1, 7, base=10)\n",
    "for learning_rate_ in learning_rates:\n",
    "    tic = time.time()\n",
    "    trans, loss_train, loss_test, p_1, p_2, p_2_pred = fit_data(df_1, df_2, learning_rate=learning_rate_, verbose=False)\n",
    "    print(f'Pour learning_rate= {learning_rate_:.2e}, {loss_train=:.2e} / {loss_test=:.2e}; le temps de calcul est {time.time()-tic:.3f} s')\n",
    "    results_train.append(loss_train)\n",
    "    results_test.append(loss_test)\n",
    "\n",
    "fig, ax = plt.subplots(figsize = (13, 8))\n",
    "ax.plot(learning_rates, results_train, '--')\n",
    "ax.plot(learning_rates, results_test)\n",
    "ax.set_xlabel = 'learning rate'\n",
    "ax.set_ylabel = 'Loss'\n",
    "ax.set_yscale('log');\n",
    "ax.set_xscale('log');"
   ]
  },
  {
   "cell_type": "code",
   "execution_count": null,
   "metadata": {},
   "outputs": [],
   "source": [
    "results_train, results_test = [], []\n",
    "batch_sizes = (batch_size * np.arange(1, N_scan) ** 2) // 8\n",
    "print(batch_sizes)\n",
    "for batch_size_ in batch_sizes:\n",
    "    tic = time.time()\n",
    "    trans, loss_train, loss_test, p_1, p_2, p_2_pred = fit_data(df_1, df_2, batch_size=batch_size_, verbose=False)\n",
    "    print(f'Pour batch_size= {batch_size_}, {loss_train=:.2e} / {loss_test=:.2e}; le temps de calcul est {time.time()-tic:.3f} s')\n",
    "    results_train.append(loss_train)\n",
    "    results_test.append(loss_test)\n",
    "\n",
    "fig, ax = plt.subplots(figsize = (13, 8))\n",
    "ax.plot(batch_sizes, results_train, '--')\n",
    "ax.plot(batch_sizes, results_test)\n",
    "ax.set_xlabel = 'batch size'\n",
    "ax.set_ylabel = 'Loss'\n",
    "ax.set_yscale('log');\n",
    "ax.set_xscale('log');"
   ]
  },
  {
   "cell_type": "code",
   "execution_count": null,
   "metadata": {},
   "outputs": [],
   "source": [
    "beta1s = 1 - (1 - beta1) * np.logspace(-1, 1, 7, base=10)\n",
    "print(beta1s)"
   ]
  },
  {
   "cell_type": "code",
   "execution_count": null,
   "metadata": {},
   "outputs": [],
   "source": [
    "results_train, results_test = [], []\n",
    "beta1s = 1 - (1 - beta1) * np.logspace(-1, 1, 7, base=10)\n",
    "print(beta1s)\n",
    "for beta1_ in beta1s:\n",
    "    tic = time.time()\n",
    "    trans, loss_train, loss_test, p_1, p_2, p_2_pred = fit_data(df_1, df_2, beta1=beta1_, verbose=False)\n",
    "    print(f'Pour beta1= {beta1_:.2e}, {loss_train=:.2e} / {loss_test=:.2e}; le temps de calcul est {time.time()-tic:.3f} s')\n",
    "    results_train.append(loss_train)\n",
    "    results_test.append(loss_test)\n",
    "\n",
    "fig, ax = plt.subplots(figsize = (13, 8))\n",
    "ax.plot(beta1s, results_train, '--')\n",
    "ax.plot(beta1s, results_test)\n",
    "ax.set_xlabel = 'beta1'\n",
    "ax.set_ylabel = 'Loss';\n",
    "ax.set_yscale('log');\n",
    "#ax.set_xscale('log');"
   ]
  },
  {
   "cell_type": "code",
   "execution_count": null,
   "metadata": {},
   "outputs": [],
   "source": [
    "results_train, results_test = [], []\n",
    "beta2s = 1 - (1 - .95) * np.logspace(-1, 1, 7, base=10)\n",
    "for beta2_ in beta2s:\n",
    "    tic = time.time()\n",
    "    trans, loss_train, loss_test, p_1, p_2, p_2_pred = fit_data(df_1, df_2, beta2=beta2_, verbose=False)\n",
    "    print(f'Pour beta2= {beta2_:.2e}, {loss_train=:.2e} / {loss_test=:.2e}; le temps de calcul est {time.time()-tic:.3f} s')\n",
    "    results_train.append(loss_train)\n",
    "    results_test.append(loss_test)\n",
    "\n",
    "fig, ax = plt.subplots(figsize = (13, 8))\n",
    "ax.plot(beta2s, results_train, '--')\n",
    "ax.plot(beta2s, results_test)\n",
    "ax.set_xlabel = 'beta2 with Adam instead of SGD'\n",
    "ax.set_ylabel = 'Loss'\n",
    "ax.set_yscale('log');\n",
    "ax.set_xscale('log');"
   ]
  },
  {
   "cell_type": "code",
   "execution_count": null,
   "metadata": {
    "tags": []
   },
   "outputs": [],
   "source": [
    "results_train, results_test = [], []\n",
    "num_epochss = ((num_epochs-1) * np.arange(1, N_scan) ** 2) // 8 + 1\n",
    "print(num_epochss)\n",
    "for num_epochs_ in num_epochss:\n",
    "    tic = time.time()\n",
    "    trans, loss_train, loss_test, p_1, p_2, p_2_pred = fit_data(df_1, df_2, num_epochs=num_epochs_, verbose=False)\n",
    "    print(f'Pour num_epochs={num_epochs_}, {loss_train=:.2e} / {loss_test=:.2e}; le temps de calcul est {time.time()-tic:.3f} s')\n",
    "    results_train.append(loss_train)\n",
    "    results_test.append(loss_test)\n",
    "\n",
    "fig, ax = plt.subplots(figsize = (13, 8))\n",
    "ax.plot(num_epochss, results_train, '--')\n",
    "ax.plot(num_epochss, results_test)\n",
    "ax.set_xlabel = 'batch size'\n",
    "ax.set_ylabel = 'Loss'\n",
    "ax.set_yscale('log');\n",
    "ax.set_xscale('log');"
   ]
  }
 ],
 "metadata": {
  "colab": {
   "collapsed_sections": [],
   "include_colab_link": true,
   "name": "Welcome To Colaboratory",
   "provenance": [],
   "toc_visible": true
  },
  "kernelspec": {
   "display_name": "Python 3 (ipykernel)",
   "language": "python",
   "name": "python3"
  },
  "language_info": {
   "codemirror_mode": {
    "name": "ipython",
    "version": 3
   },
   "file_extension": ".py",
   "mimetype": "text/x-python",
   "name": "python",
   "nbconvert_exporter": "python",
   "pygments_lexer": "ipython3",
   "version": "3.10.4"
  }
 },
 "nbformat": 4,
 "nbformat_minor": 4
}
