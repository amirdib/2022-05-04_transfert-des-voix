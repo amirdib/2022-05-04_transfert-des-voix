{
 "cells": [
  {
   "cell_type": "markdown",
   "metadata": {},
   "source": [
    "tl;dr : *Inférence du transfert des voix entre candidats.*\n",
    "\n",
    "Afin d'analyser les résultats des élections, par exemple les dernières élections présidentielles de 2022 en France, et de mieux comprendre la dynamique des choix de vote entre les différents groupes de population, il peut être utile d'utiliser des outils d'apprentissage automatique pour inférer des données *a priori* cachées dans les données. En particulier, inspiré par cet [article du Monde](https://www.lemonde.fr/les-decodeurs/article/2022/05/04/election-presidentielle-2022-quels-reports-de-voix-entre-les-deux-tours_6124672_4355770.html), on peut se poser la question de savoir si on peut extraire depuis les données brutes des élections une estimation des report de voix entre les choix de vote au premier tour et ceux qui sont effectués au deuxième tour.\n",
    "\n",
    "Pour cela nous allons utiliser les outils mathématiques de l'apprentissage automatique et en particulier l'utilisation des probabilités. Cette théorie va nous permettre d'exprimer le fait que les résultats telles qu'ils sont obtenus peuvent présenter une variabilité mais que celle-ci réelle résulte de préférence de chaque individu dans la population votante. En particulier, on peut considérer que chaque individu va avoir une préférence pour chacun des candidats au premier et second tour et que les votes effectués vont correspondre à la réalisation de ces préférences (en effet, on ne peut voter que pour un candidat par scrutin). \n",
    "\n",
    "Bien sûr on a accès ni au vote de chaque individu et encore moins à ses préférences. Mais comme mais comme chaque bureau de vote présente des variabilité liée au contexte local et qui fait que la population a une préférence pour certains choix plutôt que d'autres, on peut considérer chaque bureau de vote comme une population individuelle pour lequel nous allons essayer de prédire les résultats du vote au deuxième tour. Cette prediction, si elle est efficace, peut donner une idée du transfert de vote entre les deux tours qui a lieu en fonction des préférences des votes de chaque individu.\n",
    "\n",
    "<!-- TEASER_END -->"
   ]
  },
  {
   "cell_type": "markdown",
   "metadata": {},
   "source": [
    "Celà se modélise mathématiquement par un [processus de Bernoulli](https://fr.wikipedia.org/wiki/Processus_de_Bernoulli) relatif à ces préférences.\n",
    "\n",
    "Grâce à l'ouverture des données (notamment pour la recherche), on peut obtenir librement les résultats des [premier](https://www.data.gouv.fr/fr/datasets/election-presidentielle-des-10-et-24-avril-2022-resultats-definitifs-du-1er-tour/) et [second](https://www.data.gouv.fr/fr/datasets/election-presidentielle-des-10-et-24-avril-2022-resultats-definitifs-du-2nd-tour/) tours. Il est intéressant de noter que ses résultats sont indiqués pour chacun des bureaux de vote. \n",
    "\n",
    "Pour cela nous allons faire deux hypothèses: \n",
    "\n",
    "Tout d'abord nous allons estimer que pour chaque individu, il existe une préférence pour les candidats du premier tour ainsi que pour les candidats du deuxieme tour. Si on note les différentes alternatives au premier tour comme $i \\in \\{ \\text{'nul'}, \\text{'abstention'}, \\ldots, \\text{'Macron'}, \\text{'Poutou'} \\}$ et au deuxième tour  $j \\in \\{ \\text{'nul'}, \\text{'abstention'}, \\ldots, \\text{'Macron'}, \\text{'Le Pen'} \\}$. Alors, on peut écrire pour chaque individu $k$ les probabilités de vote $p^k_i$ et $q^k_j$ (chacune de ces valeurs étant comprises entre $0$ et $1$ représentant un biais de probabilité pour chacune des alternatives). On pourra vérifier que $\\forall k$ (pour tout individu),  $\\sum_i p^k_i = 1$ et $\\sum_j q^k_j = 1$.\n",
    "\n",
    "Avec une telle modélisation on peut prévoir les résultats du vote car les préférences de chacun individu pour telle ou telle choix doit se révéler au niveau de la population totale suivant le théorème central limite qui indique que la moyenne observée tend vers ces probabilités avec une précision (inverse de la variance) qui augmente linéairement avec le nombre d'observations. En particulier les résultats des votes au premier et second tour seront donnés par respectivement $\\frac 1 K \\cdot \\sum_k p^k_i$ et $\\frac 1 K \\cdot \\sum_k q^k_j$ avec $K$ la taille de la population (nous vérifierons ce point plus bas)."
   ]
  },
  {
   "cell_type": "markdown",
   "metadata": {},
   "source": [
    "Une deuxième hypothèse que nous allons faire et que si on considère la transition entre les préférences qui sont faites au premier tour et celles qui sont faites au second tour, les préférences évoluent avec chaque invidu mais la transition est homogène au sein de la population (par exemple \"une personne qui choisit de s'abstenir s'abstiendra\"). C'est certe une hypothèse grossière mais assez générale pour refléter les tendances au niveau de la population globale. Cette hypothèse est basée sur la modélisation de séquence d'événements aléatoires basé sur un [processus dit de Markov](https://fr.wikipedia.org/wiki/Cha%C3%AEne_de_Markov). En particulier nous allons formaliser cette hypothèse en faisant l'hypothèse de l'existence d'une matrice de transition $M$ qui permet de prédire la préférence $\\hat{q}^k_j$ d'un individu au second tour à partir de ses préférences au premier tour. En particulier, cette hypothèse peut être formulée comme un simple produit matriciel :\n",
    "\n",
    "$$\n",
    "\\hat{q}^k_j = \\sum_i M_{i, j} \\cdot p^k_i \n",
    "$$\n",
    "\n",
    "En termes plus simples, cette formule exprime que la préférence d'un individu au second tour et le mélange de ses préférences individuelles au premier tour avec des poids indiquant les affinités entre les différentes alternatives aux deux tours. Il est important de noter qu'il existe une contrainte  pour chaque colonne de cette matrice de transition de sorte que la somme des différentes éléments sur les différentes lignes de la matrice pour chaque colonne est égal à $1$ : $\\forall j$, $ \\sum_i M_{i, j} = 1$. Cette propriété découle des contraintes de représentation des préférences au premier et au deuxième tour que nous avons évoquées plus haut ($\\sum_i p^k_i = 1$ et $\\sum_j q^k_j = 1$).\n",
    "\n",
    "D'une cette certaine façon, cette matrice de transition décrit exactement les affinités de chacun des individus pour les différents choix de vote au niveau de la population globale. C'est donc un indicateur des report de vote qui vont être effectivement effectués entre les deux tours."
   ]
  },
  {
   "cell_type": "markdown",
   "metadata": {
    "tags": []
   },
   "source": [
    "## Collecte des données\n",
    "\n",
    "La première partie de ce travail consiste à collecter les données et elle est représenté d'une façon utile. On va utiliser les données disponibles sur https://www.data.gouv.fr en se concentrant sur les résultats définitifs par bureau de vote. \n",
    "Commençons notre procédure avec le traitement des données du premier tour. Une fois que nous aurons décortiqué cette méthode, nous passerons au deuxième tour.\n",
    "\n",
    "### Données du premier tour\n",
    "\n",
    "Pour cela nous allons utiliser deux premières librairie python : `numpy` pour le traitement de données numériques puis `pandas` pour la représentation deces données sous forme de tableau tableaux."
   ]
  },
  {
   "cell_type": "code",
   "execution_count": 1,
   "metadata": {
    "execution": {
     "iopub.execute_input": "2022-05-22T14:56:33.672139Z",
     "iopub.status.busy": "2022-05-22T14:56:33.671679Z",
     "iopub.status.idle": "2022-05-22T14:56:33.913839Z",
     "shell.execute_reply": "2022-05-22T14:56:33.913209Z"
    }
   },
   "outputs": [],
   "source": [
    "import numpy as np\n",
    "import pandas as pd"
   ]
  },
  {
   "cell_type": "markdown",
   "metadata": {},
   "source": [
    "On peut directement enregistrer à partir de l'adresse des données puis extraire ses données numériques depuis le tableau Excel grâce a la [fonction suivante](https://pandas.pydata.org/pandas-docs/stable/reference/api/pandas.read_excel.html):"
   ]
  },
  {
   "cell_type": "code",
   "execution_count": 2,
   "metadata": {
    "execution": {
     "iopub.execute_input": "2022-05-22T14:56:33.918266Z",
     "iopub.status.busy": "2022-05-22T14:56:33.918111Z",
     "iopub.status.idle": "2022-05-22T14:56:33.921257Z",
     "shell.execute_reply": "2022-05-22T14:56:33.920809Z"
    }
   },
   "outputs": [],
   "source": [
    "import os"
   ]
  },
  {
   "cell_type": "code",
   "execution_count": 3,
   "metadata": {
    "execution": {
     "iopub.execute_input": "2022-05-22T14:56:33.925549Z",
     "iopub.status.busy": "2022-05-22T14:56:33.925356Z",
     "iopub.status.idle": "2022-05-22T14:57:51.184712Z",
     "shell.execute_reply": "2022-05-22T14:57:51.184158Z"
    }
   },
   "outputs": [],
   "source": [
    "fname = '/tmp/T1.xlsx'\n",
    "\n",
    "if not os.path.isfile(fname):\n",
    "    url = 'https://static.data.gouv.fr/resources/election-presidentielle-des-10-et-24-avril-2022-resultats-definitifs-du-1er-tour/20220414-152612/resultats-par-niveau-burvot-t1-france-entiere.xlsx' # XLSX\n",
    "    import urllib.request\n",
    "    urllib.request.urlretrieve(url, fname)\n",
    "\n",
    "\n",
    "T1 = pd.read_excel(fname)"
   ]
  },
  {
   "cell_type": "markdown",
   "metadata": {},
   "source": [
    "On peut avoir une première idée de ces données et du nombre total de bureaux de vote :"
   ]
  },
  {
   "cell_type": "code",
   "execution_count": 4,
   "metadata": {
    "execution": {
     "iopub.execute_input": "2022-05-22T14:57:51.187969Z",
     "iopub.status.busy": "2022-05-22T14:57:51.187812Z",
     "iopub.status.idle": "2022-05-22T14:57:51.218808Z",
     "shell.execute_reply": "2022-05-22T14:57:51.218030Z"
    }
   },
   "outputs": [
    {
     "data": {
      "text/html": [
       "<div>\n",
       "<style scoped>\n",
       "    .dataframe tbody tr th:only-of-type {\n",
       "        vertical-align: middle;\n",
       "    }\n",
       "\n",
       "    .dataframe tbody tr th {\n",
       "        vertical-align: top;\n",
       "    }\n",
       "\n",
       "    .dataframe thead th {\n",
       "        text-align: right;\n",
       "    }\n",
       "</style>\n",
       "<table border=\"1\" class=\"dataframe\">\n",
       "  <thead>\n",
       "    <tr style=\"text-align: right;\">\n",
       "      <th></th>\n",
       "      <th>Code du département</th>\n",
       "      <th>Libellé du département</th>\n",
       "      <th>Code de la circonscription</th>\n",
       "      <th>Libellé de la circonscription</th>\n",
       "      <th>Code de la commune</th>\n",
       "      <th>Libellé de la commune</th>\n",
       "      <th>Code du b.vote</th>\n",
       "      <th>Inscrits</th>\n",
       "      <th>Abstentions</th>\n",
       "      <th>% Abs/Ins</th>\n",
       "      <th>...</th>\n",
       "      <th>Unnamed: 95</th>\n",
       "      <th>Unnamed: 96</th>\n",
       "      <th>Unnamed: 97</th>\n",
       "      <th>Unnamed: 98</th>\n",
       "      <th>Unnamed: 99</th>\n",
       "      <th>Unnamed: 100</th>\n",
       "      <th>Unnamed: 101</th>\n",
       "      <th>Unnamed: 102</th>\n",
       "      <th>Unnamed: 103</th>\n",
       "      <th>Unnamed: 104</th>\n",
       "    </tr>\n",
       "  </thead>\n",
       "  <tbody>\n",
       "    <tr>\n",
       "      <th>69677</th>\n",
       "      <td>ZZ</td>\n",
       "      <td>Français établis hors de France</td>\n",
       "      <td>6</td>\n",
       "      <td>6ème circonscription</td>\n",
       "      <td>229</td>\n",
       "      <td>Zurich</td>\n",
       "      <td>0001</td>\n",
       "      <td>24868</td>\n",
       "      <td>14101</td>\n",
       "      <td>56.70</td>\n",
       "      <td>...</td>\n",
       "      <td>47</td>\n",
       "      <td>0.19</td>\n",
       "      <td>0.44</td>\n",
       "      <td>12</td>\n",
       "      <td>M</td>\n",
       "      <td>DUPONT-AIGNAN</td>\n",
       "      <td>Nicolas</td>\n",
       "      <td>189</td>\n",
       "      <td>0.76</td>\n",
       "      <td>1.77</td>\n",
       "    </tr>\n",
       "    <tr>\n",
       "      <th>69678</th>\n",
       "      <td>ZZ</td>\n",
       "      <td>Français établis hors de France</td>\n",
       "      <td>11</td>\n",
       "      <td>11ème circonscription</td>\n",
       "      <td>231</td>\n",
       "      <td>Taipei</td>\n",
       "      <td>0001</td>\n",
       "      <td>1709</td>\n",
       "      <td>942</td>\n",
       "      <td>55.12</td>\n",
       "      <td>...</td>\n",
       "      <td>10</td>\n",
       "      <td>0.59</td>\n",
       "      <td>1.32</td>\n",
       "      <td>12</td>\n",
       "      <td>M</td>\n",
       "      <td>DUPONT-AIGNAN</td>\n",
       "      <td>Nicolas</td>\n",
       "      <td>10</td>\n",
       "      <td>0.59</td>\n",
       "      <td>1.32</td>\n",
       "    </tr>\n",
       "    <tr>\n",
       "      <th>69679</th>\n",
       "      <td>ZZ</td>\n",
       "      <td>Français établis hors de France</td>\n",
       "      <td>11</td>\n",
       "      <td>11ème circonscription</td>\n",
       "      <td>233</td>\n",
       "      <td>Nour-Soultan</td>\n",
       "      <td>0001</td>\n",
       "      <td>117</td>\n",
       "      <td>64</td>\n",
       "      <td>54.70</td>\n",
       "      <td>...</td>\n",
       "      <td>0</td>\n",
       "      <td>0.00</td>\n",
       "      <td>0.00</td>\n",
       "      <td>12</td>\n",
       "      <td>M</td>\n",
       "      <td>DUPONT-AIGNAN</td>\n",
       "      <td>Nicolas</td>\n",
       "      <td>1</td>\n",
       "      <td>0.85</td>\n",
       "      <td>1.96</td>\n",
       "    </tr>\n",
       "    <tr>\n",
       "      <th>69680</th>\n",
       "      <td>ZZ</td>\n",
       "      <td>Français établis hors de France</td>\n",
       "      <td>2</td>\n",
       "      <td>2ème circonscription</td>\n",
       "      <td>234</td>\n",
       "      <td>Monterrey</td>\n",
       "      <td>0001</td>\n",
       "      <td>713</td>\n",
       "      <td>553</td>\n",
       "      <td>77.56</td>\n",
       "      <td>...</td>\n",
       "      <td>1</td>\n",
       "      <td>0.14</td>\n",
       "      <td>0.63</td>\n",
       "      <td>12</td>\n",
       "      <td>M</td>\n",
       "      <td>DUPONT-AIGNAN</td>\n",
       "      <td>Nicolas</td>\n",
       "      <td>1</td>\n",
       "      <td>0.14</td>\n",
       "      <td>0.63</td>\n",
       "    </tr>\n",
       "    <tr>\n",
       "      <th>69681</th>\n",
       "      <td>ZZ</td>\n",
       "      <td>Français établis hors de France</td>\n",
       "      <td>2</td>\n",
       "      <td>2ème circonscription</td>\n",
       "      <td>235</td>\n",
       "      <td>Bahamas (Nassau)</td>\n",
       "      <td>0001</td>\n",
       "      <td>136</td>\n",
       "      <td>78</td>\n",
       "      <td>57.35</td>\n",
       "      <td>...</td>\n",
       "      <td>0</td>\n",
       "      <td>0.00</td>\n",
       "      <td>0.00</td>\n",
       "      <td>12</td>\n",
       "      <td>M</td>\n",
       "      <td>DUPONT-AIGNAN</td>\n",
       "      <td>Nicolas</td>\n",
       "      <td>1</td>\n",
       "      <td>0.74</td>\n",
       "      <td>1.82</td>\n",
       "    </tr>\n",
       "  </tbody>\n",
       "</table>\n",
       "<p>5 rows × 105 columns</p>\n",
       "</div>"
      ],
      "text/plain": [
       "      Code du département           Libellé du département  \\\n",
       "69677                  ZZ  Français établis hors de France   \n",
       "69678                  ZZ  Français établis hors de France   \n",
       "69679                  ZZ  Français établis hors de France   \n",
       "69680                  ZZ  Français établis hors de France   \n",
       "69681                  ZZ  Français établis hors de France   \n",
       "\n",
       "       Code de la circonscription Libellé de la circonscription  \\\n",
       "69677                           6          6ème circonscription   \n",
       "69678                          11         11ème circonscription   \n",
       "69679                          11         11ème circonscription   \n",
       "69680                           2          2ème circonscription   \n",
       "69681                           2          2ème circonscription   \n",
       "\n",
       "       Code de la commune Libellé de la commune Code du b.vote  Inscrits  \\\n",
       "69677                 229                Zurich           0001     24868   \n",
       "69678                 231                Taipei           0001      1709   \n",
       "69679                 233          Nour-Soultan           0001       117   \n",
       "69680                 234             Monterrey           0001       713   \n",
       "69681                 235      Bahamas (Nassau)           0001       136   \n",
       "\n",
       "       Abstentions  % Abs/Ins  ...  Unnamed: 95  Unnamed: 96  Unnamed: 97  \\\n",
       "69677        14101      56.70  ...           47         0.19         0.44   \n",
       "69678          942      55.12  ...           10         0.59         1.32   \n",
       "69679           64      54.70  ...            0         0.00         0.00   \n",
       "69680          553      77.56  ...            1         0.14         0.63   \n",
       "69681           78      57.35  ...            0         0.00         0.00   \n",
       "\n",
       "       Unnamed: 98  Unnamed: 99   Unnamed: 100  Unnamed: 101  Unnamed: 102  \\\n",
       "69677           12            M  DUPONT-AIGNAN       Nicolas           189   \n",
       "69678           12            M  DUPONT-AIGNAN       Nicolas            10   \n",
       "69679           12            M  DUPONT-AIGNAN       Nicolas             1   \n",
       "69680           12            M  DUPONT-AIGNAN       Nicolas             1   \n",
       "69681           12            M  DUPONT-AIGNAN       Nicolas             1   \n",
       "\n",
       "       Unnamed: 103  Unnamed: 104  \n",
       "69677          0.76          1.77  \n",
       "69678          0.59          1.32  \n",
       "69679          0.85          1.96  \n",
       "69680          0.14          0.63  \n",
       "69681          0.74          1.82  \n",
       "\n",
       "[5 rows x 105 columns]"
      ]
     },
     "execution_count": 4,
     "metadata": {},
     "output_type": "execute_result"
    }
   ],
   "source": [
    "T1.tail()"
   ]
  },
  {
   "cell_type": "markdown",
   "metadata": {},
   "source": [
    "Les données sont organisées suivant des colonnes qui vont représenter les différents choix et aussi d'autres métadonnées. Il va falloir faire quelques hypothèses pour récupérer les données utiles…"
   ]
  },
  {
   "cell_type": "code",
   "execution_count": 5,
   "metadata": {
    "execution": {
     "iopub.execute_input": "2022-05-22T14:57:51.244961Z",
     "iopub.status.busy": "2022-05-22T14:57:51.244713Z",
     "iopub.status.idle": "2022-05-22T14:57:51.249873Z",
     "shell.execute_reply": "2022-05-22T14:57:51.249264Z"
    }
   },
   "outputs": [
    {
     "data": {
      "text/plain": [
       "Index(['Code du département', 'Libellé du département',\n",
       "       'Code de la circonscription', 'Libellé de la circonscription',\n",
       "       'Code de la commune', 'Libellé de la commune', 'Code du b.vote',\n",
       "       'Inscrits', 'Abstentions', '% Abs/Ins',\n",
       "       ...\n",
       "       'Unnamed: 95', 'Unnamed: 96', 'Unnamed: 97', 'Unnamed: 98',\n",
       "       'Unnamed: 99', 'Unnamed: 100', 'Unnamed: 101', 'Unnamed: 102',\n",
       "       'Unnamed: 103', 'Unnamed: 104'],\n",
       "      dtype='object', length=105)"
      ]
     },
     "execution_count": 5,
     "metadata": {},
     "output_type": "execute_result"
    }
   ],
   "source": [
    "T1.columns"
   ]
  },
  {
   "cell_type": "markdown",
   "metadata": {},
   "source": [
    "Première colonne concerne les nuls, blancs et abstention, que l'on peut enregistrer dans un nouveau tableau :"
   ]
  },
  {
   "cell_type": "code",
   "execution_count": 6,
   "metadata": {
    "execution": {
     "iopub.execute_input": "2022-05-22T14:57:51.252520Z",
     "iopub.status.busy": "2022-05-22T14:57:51.252150Z",
     "iopub.status.idle": "2022-05-22T14:57:51.262161Z",
     "shell.execute_reply": "2022-05-22T14:57:51.261595Z"
    }
   },
   "outputs": [
    {
     "data": {
      "text/html": [
       "<div>\n",
       "<style scoped>\n",
       "    .dataframe tbody tr th:only-of-type {\n",
       "        vertical-align: middle;\n",
       "    }\n",
       "\n",
       "    .dataframe tbody tr th {\n",
       "        vertical-align: top;\n",
       "    }\n",
       "\n",
       "    .dataframe thead th {\n",
       "        text-align: right;\n",
       "    }\n",
       "</style>\n",
       "<table border=\"1\" class=\"dataframe\">\n",
       "  <thead>\n",
       "    <tr style=\"text-align: right;\">\n",
       "      <th></th>\n",
       "      <th>Nuls</th>\n",
       "      <th>Blancs</th>\n",
       "      <th>Abstentions</th>\n",
       "    </tr>\n",
       "  </thead>\n",
       "  <tbody>\n",
       "    <tr>\n",
       "      <th>0</th>\n",
       "      <td>1</td>\n",
       "      <td>16</td>\n",
       "      <td>108</td>\n",
       "    </tr>\n",
       "    <tr>\n",
       "      <th>1</th>\n",
       "      <td>1</td>\n",
       "      <td>3</td>\n",
       "      <td>38</td>\n",
       "    </tr>\n",
       "    <tr>\n",
       "      <th>2</th>\n",
       "      <td>5</td>\n",
       "      <td>18</td>\n",
       "      <td>266</td>\n",
       "    </tr>\n",
       "    <tr>\n",
       "      <th>3</th>\n",
       "      <td>6</td>\n",
       "      <td>15</td>\n",
       "      <td>265</td>\n",
       "    </tr>\n",
       "    <tr>\n",
       "      <th>4</th>\n",
       "      <td>8</td>\n",
       "      <td>10</td>\n",
       "      <td>246</td>\n",
       "    </tr>\n",
       "  </tbody>\n",
       "</table>\n",
       "</div>"
      ],
      "text/plain": [
       "   Nuls  Blancs  Abstentions\n",
       "0     1      16          108\n",
       "1     1       3           38\n",
       "2     5      18          266\n",
       "3     6      15          265\n",
       "4     8      10          246"
      ]
     },
     "execution_count": 6,
     "metadata": {},
     "output_type": "execute_result"
    }
   ],
   "source": [
    "df_1 = T1[['Nuls', 'Blancs', 'Abstentions']].copy()\n",
    "df_1.head()"
   ]
  },
  {
   "cell_type": "code",
   "execution_count": 7,
   "metadata": {
    "execution": {
     "iopub.execute_input": "2022-05-22T14:57:51.264916Z",
     "iopub.status.busy": "2022-05-22T14:57:51.264741Z",
     "iopub.status.idle": "2022-05-22T14:57:51.274903Z",
     "shell.execute_reply": "2022-05-22T14:57:51.274467Z"
    }
   },
   "outputs": [
    {
     "data": {
      "text/html": [
       "<div>\n",
       "<style scoped>\n",
       "    .dataframe tbody tr th:only-of-type {\n",
       "        vertical-align: middle;\n",
       "    }\n",
       "\n",
       "    .dataframe tbody tr th {\n",
       "        vertical-align: top;\n",
       "    }\n",
       "\n",
       "    .dataframe thead th {\n",
       "        text-align: right;\n",
       "    }\n",
       "</style>\n",
       "<table border=\"1\" class=\"dataframe\">\n",
       "  <thead>\n",
       "    <tr style=\"text-align: right;\">\n",
       "      <th></th>\n",
       "      <th>Nuls</th>\n",
       "      <th>Blancs</th>\n",
       "      <th>Abstentions</th>\n",
       "    </tr>\n",
       "  </thead>\n",
       "  <tbody>\n",
       "    <tr>\n",
       "      <th>0</th>\n",
       "      <td>1</td>\n",
       "      <td>16</td>\n",
       "      <td>108</td>\n",
       "    </tr>\n",
       "    <tr>\n",
       "      <th>1</th>\n",
       "      <td>1</td>\n",
       "      <td>3</td>\n",
       "      <td>38</td>\n",
       "    </tr>\n",
       "    <tr>\n",
       "      <th>2</th>\n",
       "      <td>5</td>\n",
       "      <td>18</td>\n",
       "      <td>266</td>\n",
       "    </tr>\n",
       "    <tr>\n",
       "      <th>3</th>\n",
       "      <td>6</td>\n",
       "      <td>15</td>\n",
       "      <td>265</td>\n",
       "    </tr>\n",
       "    <tr>\n",
       "      <th>4</th>\n",
       "      <td>8</td>\n",
       "      <td>10</td>\n",
       "      <td>246</td>\n",
       "    </tr>\n",
       "    <tr>\n",
       "      <th>...</th>\n",
       "      <td>...</td>\n",
       "      <td>...</td>\n",
       "      <td>...</td>\n",
       "    </tr>\n",
       "    <tr>\n",
       "      <th>69677</th>\n",
       "      <td>31</td>\n",
       "      <td>40</td>\n",
       "      <td>14101</td>\n",
       "    </tr>\n",
       "    <tr>\n",
       "      <th>69678</th>\n",
       "      <td>2</td>\n",
       "      <td>8</td>\n",
       "      <td>942</td>\n",
       "    </tr>\n",
       "    <tr>\n",
       "      <th>69679</th>\n",
       "      <td>0</td>\n",
       "      <td>2</td>\n",
       "      <td>64</td>\n",
       "    </tr>\n",
       "    <tr>\n",
       "      <th>69680</th>\n",
       "      <td>2</td>\n",
       "      <td>0</td>\n",
       "      <td>553</td>\n",
       "    </tr>\n",
       "    <tr>\n",
       "      <th>69681</th>\n",
       "      <td>0</td>\n",
       "      <td>3</td>\n",
       "      <td>78</td>\n",
       "    </tr>\n",
       "  </tbody>\n",
       "</table>\n",
       "<p>69682 rows × 3 columns</p>\n",
       "</div>"
      ],
      "text/plain": [
       "       Nuls  Blancs  Abstentions\n",
       "0         1      16          108\n",
       "1         1       3           38\n",
       "2         5      18          266\n",
       "3         6      15          265\n",
       "4         8      10          246\n",
       "...     ...     ...          ...\n",
       "69677    31      40        14101\n",
       "69678     2       8          942\n",
       "69679     0       2           64\n",
       "69680     2       0          553\n",
       "69681     0       3           78\n",
       "\n",
       "[69682 rows x 3 columns]"
      ]
     },
     "execution_count": 7,
     "metadata": {},
     "output_type": "execute_result"
    }
   ],
   "source": [
    "df_1"
   ]
  },
  {
   "cell_type": "markdown",
   "metadata": {},
   "source": [
    "### extraction des résultats de vote"
   ]
  },
  {
   "cell_type": "markdown",
   "metadata": {},
   "source": [
    "Les 23 premières colonnes correspondent aux métadonnées :"
   ]
  },
  {
   "cell_type": "code",
   "execution_count": 8,
   "metadata": {
    "execution": {
     "iopub.execute_input": "2022-05-22T14:57:51.279205Z",
     "iopub.status.busy": "2022-05-22T14:57:51.278927Z",
     "iopub.status.idle": "2022-05-22T14:57:51.283489Z",
     "shell.execute_reply": "2022-05-22T14:57:51.283017Z"
    }
   },
   "outputs": [
    {
     "data": {
      "text/plain": [
       "Index(['Code du département', 'Libellé du département',\n",
       "       'Code de la circonscription', 'Libellé de la circonscription',\n",
       "       'Code de la commune', 'Libellé de la commune', 'Code du b.vote',\n",
       "       'Inscrits', 'Abstentions', '% Abs/Ins', 'Votants', '% Vot/Ins',\n",
       "       'Blancs', '% Blancs/Ins', '% Blancs/Vot', 'Nuls', '% Nuls/Ins',\n",
       "       '% Nuls/Vot', 'Exprimés', '% Exp/Ins', '% Exp/Vot', 'N°Panneau',\n",
       "       'Sexe'],\n",
       "      dtype='object')"
      ]
     },
     "execution_count": 8,
     "metadata": {},
     "output_type": "execute_result"
    }
   ],
   "source": [
    "T1.columns[:23]"
   ]
  },
  {
   "cell_type": "markdown",
   "metadata": {},
   "source": [
    "Les colonnes suivant la colonne numéro 23 vont concerner les résultats candidats par candidats :"
   ]
  },
  {
   "cell_type": "code",
   "execution_count": 9,
   "metadata": {
    "execution": {
     "iopub.execute_input": "2022-05-22T14:57:51.287006Z",
     "iopub.status.busy": "2022-05-22T14:57:51.286646Z",
     "iopub.status.idle": "2022-05-22T14:57:51.289722Z",
     "shell.execute_reply": "2022-05-22T14:57:51.289051Z"
    }
   },
   "outputs": [],
   "source": [
    "col_start = 23\n",
    "col_par_cdt = 7"
   ]
  },
  {
   "cell_type": "markdown",
   "metadata": {},
   "source": [
    "On peut extraire les noms des candidats présents au premier tour :"
   ]
  },
  {
   "cell_type": "code",
   "execution_count": 10,
   "metadata": {
    "execution": {
     "iopub.execute_input": "2022-05-22T14:57:51.292817Z",
     "iopub.status.busy": "2022-05-22T14:57:51.292576Z",
     "iopub.status.idle": "2022-05-22T14:57:51.298287Z",
     "shell.execute_reply": "2022-05-22T14:57:51.297721Z"
    }
   },
   "outputs": [
    {
     "data": {
      "text/plain": [
       "Nom                   ARTHAUD\n",
       "Unnamed: 30           ROUSSEL\n",
       "Unnamed: 37            MACRON\n",
       "Unnamed: 44          LASSALLE\n",
       "Unnamed: 51            LE PEN\n",
       "Unnamed: 58           ZEMMOUR\n",
       "Unnamed: 65         MÉLENCHON\n",
       "Unnamed: 72           HIDALGO\n",
       "Unnamed: 79             JADOT\n",
       "Unnamed: 86          PÉCRESSE\n",
       "Unnamed: 93            POUTOU\n",
       "Unnamed: 100    DUPONT-AIGNAN\n",
       "Name: 0, dtype: object"
      ]
     },
     "execution_count": 10,
     "metadata": {},
     "output_type": "execute_result"
    }
   ],
   "source": [
    "candidats = T1.iloc[0][col_start::col_par_cdt]\n",
    "candidats"
   ]
  },
  {
   "cell_type": "markdown",
   "metadata": {},
   "source": [
    "On peut par exemple extraire les résultats pour le premier bureau de vote et donner le nombre de suffrages exprimés pour chaque candidat :"
   ]
  },
  {
   "cell_type": "code",
   "execution_count": 11,
   "metadata": {
    "execution": {
     "iopub.execute_input": "2022-05-22T14:57:51.301719Z",
     "iopub.status.busy": "2022-05-22T14:57:51.301241Z",
     "iopub.status.idle": "2022-05-22T14:57:51.308633Z",
     "shell.execute_reply": "2022-05-22T14:57:51.308158Z"
    }
   },
   "outputs": [
    {
     "data": {
      "text/plain": [
       "Voix              3\n",
       "Unnamed: 32       6\n",
       "Unnamed: 39     150\n",
       "Unnamed: 46      18\n",
       "Unnamed: 53     149\n",
       "Unnamed: 60      43\n",
       "Unnamed: 67      66\n",
       "Unnamed: 74       5\n",
       "Unnamed: 81      30\n",
       "Unnamed: 88      26\n",
       "Unnamed: 95       3\n",
       "Unnamed: 102     21\n",
       "Name: 0, dtype: object"
      ]
     },
     "execution_count": 11,
     "metadata": {},
     "output_type": "execute_result"
    }
   ],
   "source": [
    "résultats = T1.iloc[0][(col_start+2)::col_par_cdt]\n",
    "résultats"
   ]
  },
  {
   "cell_type": "markdown",
   "metadata": {},
   "source": [
    "Grâce à ces connaissances, nous allons pouvoir maintenant récolter les données pour chaque candidat et pour tous les bureaux de vote en utilisant la fonction suivante :"
   ]
  },
  {
   "cell_type": "code",
   "execution_count": 12,
   "metadata": {
    "execution": {
     "iopub.execute_input": "2022-05-22T14:57:51.313980Z",
     "iopub.status.busy": "2022-05-22T14:57:51.313811Z",
     "iopub.status.idle": "2022-05-22T14:57:51.334013Z",
     "shell.execute_reply": "2022-05-22T14:57:51.333395Z"
    }
   },
   "outputs": [
    {
     "name": "stdout",
     "output_type": "stream",
     "text": [
      "# colonne 25  résultats= [3 2 4 ... 0 0 0]\n",
      "# colonne 32  résultats= [ 6  7 30 ...  1  1  1]\n",
      "# colonne 39  résultats= [150  50 159 ...  25  96  25]\n",
      "# colonne 46  résultats= [18 10 24 ...  1  1  0]\n",
      "# colonne 53  résultats= [149  23 237 ...   3   4   3]\n",
      "# colonne 60  résultats= [43 14 69 ...  7 18 17]\n",
      "# colonne 67  résultats= [ 66  41 216 ...   9  19   2]\n",
      "# colonne 74  résultats= [ 5  3 15 ...  0  2  0]\n",
      "# colonne 81  résultats= [30 10 25 ...  4 10  0]\n",
      "# colonne 88  résultats= [26  8 40 ...  0  5  6]\n",
      "# colonne 95  résultats= [3 3 8 ... 0 1 0]\n",
      "# colonne 102  résultats= [21  0 13 ...  1  1  1]\n"
     ]
    }
   ],
   "source": [
    "for i_candidat, candidat in enumerate(candidats):\n",
    "    i_col = col_start + i_candidat*col_par_cdt + 2\n",
    "    print('# colonne', i_col, ' résultats=', T1.iloc[:, i_col].values)\n",
    "    df_1[candidat] = T1.iloc[:, i_col].values"
   ]
  },
  {
   "cell_type": "markdown",
   "metadata": {},
   "source": [
    "Nous avons récolté les données utiles dans un nouveau tableau :"
   ]
  },
  {
   "cell_type": "code",
   "execution_count": 13,
   "metadata": {
    "execution": {
     "iopub.execute_input": "2022-05-22T14:57:51.337146Z",
     "iopub.status.busy": "2022-05-22T14:57:51.336947Z",
     "iopub.status.idle": "2022-05-22T14:57:51.352946Z",
     "shell.execute_reply": "2022-05-22T14:57:51.352447Z"
    }
   },
   "outputs": [
    {
     "name": "stdout",
     "output_type": "stream",
     "text": [
      "<class 'pandas.core.frame.DataFrame'>\n",
      "RangeIndex: 69682 entries, 0 to 69681\n",
      "Data columns (total 15 columns):\n",
      " #   Column         Non-Null Count  Dtype\n",
      "---  ------         --------------  -----\n",
      " 0   Nuls           69682 non-null  int64\n",
      " 1   Blancs         69682 non-null  int64\n",
      " 2   Abstentions    69682 non-null  int64\n",
      " 3   ARTHAUD        69682 non-null  int64\n",
      " 4   ROUSSEL        69682 non-null  int64\n",
      " 5   MACRON         69682 non-null  int64\n",
      " 6   LASSALLE       69682 non-null  int64\n",
      " 7   LE PEN         69682 non-null  int64\n",
      " 8   ZEMMOUR        69682 non-null  int64\n",
      " 9   MÉLENCHON      69682 non-null  int64\n",
      " 10  HIDALGO        69682 non-null  int64\n",
      " 11  JADOT          69682 non-null  int64\n",
      " 12  PÉCRESSE       69682 non-null  int64\n",
      " 13  POUTOU         69682 non-null  int64\n",
      " 14  DUPONT-AIGNAN  69682 non-null  int64\n",
      "dtypes: int64(15)\n",
      "memory usage: 8.0 MB\n",
      "None\n"
     ]
    }
   ],
   "source": [
    "print(df_1.info())"
   ]
  },
  {
   "cell_type": "markdown",
   "metadata": {},
   "source": [
    "Ceci nous permet par exemple d'extraire les résultats pour un candidat donné et pour tous les bureaux de vote :"
   ]
  },
  {
   "cell_type": "code",
   "execution_count": 14,
   "metadata": {
    "execution": {
     "iopub.execute_input": "2022-05-22T14:57:51.356486Z",
     "iopub.status.busy": "2022-05-22T14:57:51.356273Z",
     "iopub.status.idle": "2022-05-22T14:57:51.364207Z",
     "shell.execute_reply": "2022-05-22T14:57:51.363530Z"
    }
   },
   "outputs": [
    {
     "data": {
      "text/plain": [
       "0         3\n",
       "1         3\n",
       "2         8\n",
       "3         4\n",
       "4         3\n",
       "         ..\n",
       "69677    47\n",
       "69678    10\n",
       "69679     0\n",
       "69680     1\n",
       "69681     0\n",
       "Name: POUTOU, Length: 69682, dtype: int64"
      ]
     },
     "execution_count": 14,
     "metadata": {},
     "output_type": "execute_result"
    }
   ],
   "source": [
    "df_1['POUTOU']"
   ]
  },
  {
   "cell_type": "markdown",
   "metadata": {},
   "source": [
    "En particulier, on a le nombre suivant de bureaux de vote :"
   ]
  },
  {
   "cell_type": "code",
   "execution_count": 15,
   "metadata": {
    "execution": {
     "iopub.execute_input": "2022-05-22T14:57:51.367600Z",
     "iopub.status.busy": "2022-05-22T14:57:51.367240Z",
     "iopub.status.idle": "2022-05-22T14:57:51.371564Z",
     "shell.execute_reply": "2022-05-22T14:57:51.371097Z"
    }
   },
   "outputs": [
    {
     "data": {
      "text/plain": [
       "69682"
      ]
     },
     "execution_count": 15,
     "metadata": {},
     "output_type": "execute_result"
    }
   ],
   "source": [
    "len(df_1)"
   ]
  },
  {
   "cell_type": "markdown",
   "metadata": {},
   "source": [
    "Et on peut calculer pour chaque alternative le nombre total de choix ainsi que le nombre total de choix dans les data:"
   ]
  },
  {
   "cell_type": "code",
   "execution_count": 16,
   "metadata": {
    "execution": {
     "iopub.execute_input": "2022-05-22T14:57:51.375242Z",
     "iopub.status.busy": "2022-05-22T14:57:51.375069Z",
     "iopub.status.idle": "2022-05-22T14:57:51.384389Z",
     "shell.execute_reply": "2022-05-22T14:57:51.383799Z"
    }
   },
   "outputs": [
    {
     "data": {
      "text/plain": [
       "(Nuls               247151\n",
       " Blancs             543609\n",
       " Abstentions      12824169\n",
       " ARTHAUD            197094\n",
       " ROUSSEL            802422\n",
       " MACRON            9783058\n",
       " LASSALLE          1101387\n",
       " LE PEN            8133828\n",
       " ZEMMOUR           2485226\n",
       " MÉLENCHON         7712520\n",
       " HIDALGO            616478\n",
       " JADOT             1627853\n",
       " PÉCRESSE          1679001\n",
       " POUTOU             268904\n",
       " DUPONT-AIGNAN      725176\n",
       " dtype: int64,\n",
       " 48747876)"
      ]
     },
     "execution_count": 16,
     "metadata": {},
     "output_type": "execute_result"
    }
   ],
   "source": [
    "df_1.sum(), df_1.sum().sum()"
   ]
  },
  {
   "cell_type": "markdown",
   "metadata": {},
   "source": [
    "Par exemple, on note qu'environ 13 millions de personnes se sont abstenues, alors que environ 10 millions de personnes ont voté pour Macron."
   ]
  },
  {
   "cell_type": "markdown",
   "metadata": {},
   "source": [
    "Sous un format graphique on peut représenter ainsi les résultats du vote au premier tour et pour cela nous allons utiliser la librairie `matplotlib`:"
   ]
  },
  {
   "cell_type": "code",
   "execution_count": 17,
   "metadata": {
    "execution": {
     "iopub.execute_input": "2022-05-22T14:57:51.387322Z",
     "iopub.status.busy": "2022-05-22T14:57:51.387069Z",
     "iopub.status.idle": "2022-05-22T14:57:51.982522Z",
     "shell.execute_reply": "2022-05-22T14:57:51.981885Z"
    }
   },
   "outputs": [],
   "source": [
    "import matplotlib.pyplot as plt"
   ]
  },
  {
   "cell_type": "code",
   "execution_count": 18,
   "metadata": {
    "execution": {
     "iopub.execute_input": "2022-05-22T14:57:51.986733Z",
     "iopub.status.busy": "2022-05-22T14:57:51.986493Z",
     "iopub.status.idle": "2022-05-22T14:57:52.159294Z",
     "shell.execute_reply": "2022-05-22T14:57:52.158506Z"
    }
   },
   "outputs": [
    {
     "data": {
      "image/png": "[encoded data removed]",
      "text/plain": [
       "<Figure size 936x360 with 1 Axes>"
      ]
     },
     "metadata": {
      "needs_background": "light"
     },
     "output_type": "display_data"
    }
   ],
   "source": [
    "fig, ax = plt.subplots(figsize=(13, 5))\n",
    "k = df_1.sum()/df_1.sum().sum()\n",
    "ax = k.plot.bar(ax=ax)\n",
    "ax.set_xlabel('Choix 1er tour')\n",
    "ax.set_ylabel('Pourcentage');"
   ]
  },
  {
   "cell_type": "markdown",
   "metadata": {},
   "source": [
    "On remarque le fort taux d'abstention qui a été observé au premier tour, ainsi que les deux candidats qui se distinguent par le plus grand nombre de voix et qui sont sélectionnés pour le second tour."
   ]
  },
  {
   "cell_type": "markdown",
   "metadata": {
    "tags": []
   },
   "source": [
    "### données du 2ème tour"
   ]
  },
  {
   "cell_type": "markdown",
   "metadata": {},
   "source": [
    "Nous allons maintenant répéter la même opération pour les données obtenues au deuxième tour :"
   ]
  },
  {
   "cell_type": "code",
   "execution_count": 19,
   "metadata": {
    "execution": {
     "iopub.execute_input": "2022-05-22T14:57:52.162086Z",
     "iopub.status.busy": "2022-05-22T14:57:52.161830Z",
     "iopub.status.idle": "2022-05-22T14:58:18.064390Z",
     "shell.execute_reply": "2022-05-22T14:58:18.063920Z"
    }
   },
   "outputs": [
    {
     "data": {
      "text/html": [
       "<div>\n",
       "<style scoped>\n",
       "    .dataframe tbody tr th:only-of-type {\n",
       "        vertical-align: middle;\n",
       "    }\n",
       "\n",
       "    .dataframe tbody tr th {\n",
       "        vertical-align: top;\n",
       "    }\n",
       "\n",
       "    .dataframe thead th {\n",
       "        text-align: right;\n",
       "    }\n",
       "</style>\n",
       "<table border=\"1\" class=\"dataframe\">\n",
       "  <thead>\n",
       "    <tr style=\"text-align: right;\">\n",
       "      <th></th>\n",
       "      <th>Code du département</th>\n",
       "      <th>Libellé du département</th>\n",
       "      <th>Code de la circonscription</th>\n",
       "      <th>Libellé de la circonscription</th>\n",
       "      <th>Code de la commune</th>\n",
       "      <th>Libellé de la commune</th>\n",
       "      <th>Code du b.vote</th>\n",
       "      <th>Inscrits</th>\n",
       "      <th>Abstentions</th>\n",
       "      <th>% Abs/Ins</th>\n",
       "      <th>...</th>\n",
       "      <th>Voix</th>\n",
       "      <th>% Voix/Ins</th>\n",
       "      <th>% Voix/Exp</th>\n",
       "      <th>Unnamed: 28</th>\n",
       "      <th>Unnamed: 29</th>\n",
       "      <th>Unnamed: 30</th>\n",
       "      <th>Unnamed: 31</th>\n",
       "      <th>Unnamed: 32</th>\n",
       "      <th>Unnamed: 33</th>\n",
       "      <th>Unnamed: 34</th>\n",
       "    </tr>\n",
       "  </thead>\n",
       "  <tbody>\n",
       "    <tr>\n",
       "      <th>69677</th>\n",
       "      <td>ZZ</td>\n",
       "      <td>Français établis hors de France</td>\n",
       "      <td>6</td>\n",
       "      <td>6ème circonscription</td>\n",
       "      <td>229</td>\n",
       "      <td>Zurich</td>\n",
       "      <td>0001</td>\n",
       "      <td>24867</td>\n",
       "      <td>13153</td>\n",
       "      <td>52.89</td>\n",
       "      <td>...</td>\n",
       "      <td>10166</td>\n",
       "      <td>40.88</td>\n",
       "      <td>88.88</td>\n",
       "      <td>2</td>\n",
       "      <td>F</td>\n",
       "      <td>LE PEN</td>\n",
       "      <td>Marine</td>\n",
       "      <td>1272</td>\n",
       "      <td>5.12</td>\n",
       "      <td>11.12</td>\n",
       "    </tr>\n",
       "    <tr>\n",
       "      <th>69678</th>\n",
       "      <td>ZZ</td>\n",
       "      <td>Français établis hors de France</td>\n",
       "      <td>11</td>\n",
       "      <td>11ème circonscription</td>\n",
       "      <td>231</td>\n",
       "      <td>Taipei</td>\n",
       "      <td>0001</td>\n",
       "      <td>1703</td>\n",
       "      <td>928</td>\n",
       "      <td>54.49</td>\n",
       "      <td>...</td>\n",
       "      <td>611</td>\n",
       "      <td>35.88</td>\n",
       "      <td>82.23</td>\n",
       "      <td>2</td>\n",
       "      <td>F</td>\n",
       "      <td>LE PEN</td>\n",
       "      <td>Marine</td>\n",
       "      <td>132</td>\n",
       "      <td>7.75</td>\n",
       "      <td>17.77</td>\n",
       "    </tr>\n",
       "    <tr>\n",
       "      <th>69679</th>\n",
       "      <td>ZZ</td>\n",
       "      <td>Français établis hors de France</td>\n",
       "      <td>11</td>\n",
       "      <td>11ème circonscription</td>\n",
       "      <td>233</td>\n",
       "      <td>Nour-Soultan</td>\n",
       "      <td>0001</td>\n",
       "      <td>117</td>\n",
       "      <td>64</td>\n",
       "      <td>54.70</td>\n",
       "      <td>...</td>\n",
       "      <td>39</td>\n",
       "      <td>33.33</td>\n",
       "      <td>78.00</td>\n",
       "      <td>2</td>\n",
       "      <td>F</td>\n",
       "      <td>LE PEN</td>\n",
       "      <td>Marine</td>\n",
       "      <td>11</td>\n",
       "      <td>9.40</td>\n",
       "      <td>22.00</td>\n",
       "    </tr>\n",
       "    <tr>\n",
       "      <th>69680</th>\n",
       "      <td>ZZ</td>\n",
       "      <td>Français établis hors de France</td>\n",
       "      <td>2</td>\n",
       "      <td>2ème circonscription</td>\n",
       "      <td>234</td>\n",
       "      <td>Monterrey</td>\n",
       "      <td>0001</td>\n",
       "      <td>715</td>\n",
       "      <td>510</td>\n",
       "      <td>71.33</td>\n",
       "      <td>...</td>\n",
       "      <td>181</td>\n",
       "      <td>25.31</td>\n",
       "      <td>89.60</td>\n",
       "      <td>2</td>\n",
       "      <td>F</td>\n",
       "      <td>LE PEN</td>\n",
       "      <td>Marine</td>\n",
       "      <td>21</td>\n",
       "      <td>2.94</td>\n",
       "      <td>10.40</td>\n",
       "    </tr>\n",
       "    <tr>\n",
       "      <th>69681</th>\n",
       "      <td>ZZ</td>\n",
       "      <td>Français établis hors de France</td>\n",
       "      <td>2</td>\n",
       "      <td>2ème circonscription</td>\n",
       "      <td>235</td>\n",
       "      <td>Bahamas (Nassau)</td>\n",
       "      <td>0001</td>\n",
       "      <td>137</td>\n",
       "      <td>78</td>\n",
       "      <td>56.93</td>\n",
       "      <td>...</td>\n",
       "      <td>35</td>\n",
       "      <td>25.55</td>\n",
       "      <td>68.63</td>\n",
       "      <td>2</td>\n",
       "      <td>F</td>\n",
       "      <td>LE PEN</td>\n",
       "      <td>Marine</td>\n",
       "      <td>16</td>\n",
       "      <td>11.68</td>\n",
       "      <td>31.37</td>\n",
       "    </tr>\n",
       "  </tbody>\n",
       "</table>\n",
       "<p>5 rows × 35 columns</p>\n",
       "</div>"
      ],
      "text/plain": [
       "      Code du département           Libellé du département  \\\n",
       "69677                  ZZ  Français établis hors de France   \n",
       "69678                  ZZ  Français établis hors de France   \n",
       "69679                  ZZ  Français établis hors de France   \n",
       "69680                  ZZ  Français établis hors de France   \n",
       "69681                  ZZ  Français établis hors de France   \n",
       "\n",
       "       Code de la circonscription Libellé de la circonscription  \\\n",
       "69677                           6          6ème circonscription   \n",
       "69678                          11         11ème circonscription   \n",
       "69679                          11         11ème circonscription   \n",
       "69680                           2          2ème circonscription   \n",
       "69681                           2          2ème circonscription   \n",
       "\n",
       "       Code de la commune Libellé de la commune Code du b.vote  Inscrits  \\\n",
       "69677                 229                Zurich           0001     24867   \n",
       "69678                 231                Taipei           0001      1703   \n",
       "69679                 233          Nour-Soultan           0001       117   \n",
       "69680                 234             Monterrey           0001       715   \n",
       "69681                 235      Bahamas (Nassau)           0001       137   \n",
       "\n",
       "       Abstentions  % Abs/Ins  ...   Voix  % Voix/Ins  % Voix/Exp  \\\n",
       "69677        13153      52.89  ...  10166       40.88       88.88   \n",
       "69678          928      54.49  ...    611       35.88       82.23   \n",
       "69679           64      54.70  ...     39       33.33       78.00   \n",
       "69680          510      71.33  ...    181       25.31       89.60   \n",
       "69681           78      56.93  ...     35       25.55       68.63   \n",
       "\n",
       "       Unnamed: 28  Unnamed: 29  Unnamed: 30  Unnamed: 31  Unnamed: 32  \\\n",
       "69677            2            F       LE PEN       Marine         1272   \n",
       "69678            2            F       LE PEN       Marine          132   \n",
       "69679            2            F       LE PEN       Marine           11   \n",
       "69680            2            F       LE PEN       Marine           21   \n",
       "69681            2            F       LE PEN       Marine           16   \n",
       "\n",
       "       Unnamed: 33  Unnamed: 34  \n",
       "69677         5.12        11.12  \n",
       "69678         7.75        17.77  \n",
       "69679         9.40        22.00  \n",
       "69680         2.94        10.40  \n",
       "69681        11.68        31.37  \n",
       "\n",
       "[5 rows x 35 columns]"
      ]
     },
     "execution_count": 19,
     "metadata": {},
     "output_type": "execute_result"
    }
   ],
   "source": [
    "fname = '/tmp/T2.xlsx'\n",
    "\n",
    "if not os.path.isfile(fname):\n",
    "    url = 'https://static.data.gouv.fr/resources/election-presidentielle-des-10-et-24-avril-2022-resultats-definitifs-du-2nd-tour/20220428-142301/resultats-par-niveau-burvot-t2-france-entiere.xlsx' # XLSX\n",
    "    import urllib.request\n",
    "    urllib.request.urlretrieve(url, fname)\n",
    "\n",
    "T2 = pd.read_excel(fname)\n",
    "\n",
    "T2.tail()"
   ]
  },
  {
   "cell_type": "markdown",
   "metadata": {},
   "source": [
    "On vérifie que les données sont une nouvelle fois organisé suivant la même structure :"
   ]
  },
  {
   "cell_type": "code",
   "execution_count": 20,
   "metadata": {
    "execution": {
     "iopub.execute_input": "2022-05-22T14:58:18.069022Z",
     "iopub.status.busy": "2022-05-22T14:58:18.068869Z",
     "iopub.status.idle": "2022-05-22T14:58:18.073400Z",
     "shell.execute_reply": "2022-05-22T14:58:18.072731Z"
    }
   },
   "outputs": [
    {
     "data": {
      "text/plain": [
       "Index(['Code du département', 'Libellé du département',\n",
       "       'Code de la circonscription', 'Libellé de la circonscription',\n",
       "       'Code de la commune', 'Libellé de la commune', 'Code du b.vote',\n",
       "       'Inscrits', 'Abstentions', '% Abs/Ins', 'Votants', '% Vot/Ins',\n",
       "       'Blancs', '% Blancs/Ins', '% Blancs/Vot', 'Nuls', '% Nuls/Ins',\n",
       "       '% Nuls/Vot', 'Exprimés', '% Exp/Ins', '% Exp/Vot', 'N°Panneau', 'Sexe',\n",
       "       'Nom', 'Prénom', 'Voix', '% Voix/Ins', '% Voix/Exp', 'Unnamed: 28',\n",
       "       'Unnamed: 29', 'Unnamed: 30', 'Unnamed: 31', 'Unnamed: 32',\n",
       "       'Unnamed: 33', 'Unnamed: 34'],\n",
       "      dtype='object')"
      ]
     },
     "execution_count": 20,
     "metadata": {},
     "output_type": "execute_result"
    }
   ],
   "source": [
    "T2.columns"
   ]
  },
  {
   "cell_type": "code",
   "execution_count": 21,
   "metadata": {
    "execution": {
     "iopub.execute_input": "2022-05-22T14:58:18.078523Z",
     "iopub.status.busy": "2022-05-22T14:58:18.078183Z",
     "iopub.status.idle": "2022-05-22T14:58:18.083555Z",
     "shell.execute_reply": "2022-05-22T14:58:18.083052Z"
    }
   },
   "outputs": [
    {
     "data": {
      "text/plain": [
       "Index(['Code du département', 'Libellé du département',\n",
       "       'Code de la circonscription', 'Libellé de la circonscription',\n",
       "       'Code de la commune', 'Libellé de la commune', 'Code du b.vote',\n",
       "       'Inscrits', 'Abstentions', '% Abs/Ins', 'Votants', '% Vot/Ins',\n",
       "       'Blancs', '% Blancs/Ins', '% Blancs/Vot', 'Nuls', '% Nuls/Ins',\n",
       "       '% Nuls/Vot', 'Exprimés', '% Exp/Ins', '% Exp/Vot', 'N°Panneau',\n",
       "       'Sexe'],\n",
       "      dtype='object')"
      ]
     },
     "execution_count": 21,
     "metadata": {},
     "output_type": "execute_result"
    }
   ],
   "source": [
    "T2.columns[:23]"
   ]
  },
  {
   "cell_type": "code",
   "execution_count": 22,
   "metadata": {
    "execution": {
     "iopub.execute_input": "2022-05-22T14:58:18.086328Z",
     "iopub.status.busy": "2022-05-22T14:58:18.086119Z",
     "iopub.status.idle": "2022-05-22T14:58:18.090700Z",
     "shell.execute_reply": "2022-05-22T14:58:18.090087Z"
    }
   },
   "outputs": [
    {
     "data": {
      "text/plain": [
       "Index(['Nom', 'Prénom', 'Voix', '% Voix/Ins', '% Voix/Exp', 'Unnamed: 28',\n",
       "       'Unnamed: 29', 'Unnamed: 30', 'Unnamed: 31', 'Unnamed: 32',\n",
       "       'Unnamed: 33', 'Unnamed: 34'],\n",
       "      dtype='object')"
      ]
     },
     "execution_count": 22,
     "metadata": {},
     "output_type": "execute_result"
    }
   ],
   "source": [
    "T2.columns[23:]"
   ]
  },
  {
   "cell_type": "code",
   "execution_count": 23,
   "metadata": {
    "execution": {
     "iopub.execute_input": "2022-05-22T14:58:18.093942Z",
     "iopub.status.busy": "2022-05-22T14:58:18.093715Z",
     "iopub.status.idle": "2022-05-22T14:58:18.099698Z",
     "shell.execute_reply": "2022-05-22T14:58:18.099051Z"
    }
   },
   "outputs": [
    {
     "data": {
      "text/plain": [
       "Nom              MACRON\n",
       "Prénom         Emmanuel\n",
       "Voix                237\n",
       "% Voix/Ins        36.86\n",
       "% Voix/Exp        52.67\n",
       "Unnamed: 28           2\n",
       "Unnamed: 29           F\n",
       "Unnamed: 30      LE PEN\n",
       "Unnamed: 31      Marine\n",
       "Unnamed: 32         213\n",
       "Unnamed: 33       33.13\n",
       "Unnamed: 34       47.33\n",
       "Name: 0, dtype: object"
      ]
     },
     "execution_count": 23,
     "metadata": {},
     "output_type": "execute_result"
    }
   ],
   "source": [
    "T2.iloc[0, 23:]"
   ]
  },
  {
   "cell_type": "code",
   "execution_count": 24,
   "metadata": {
    "execution": {
     "iopub.execute_input": "2022-05-22T14:58:18.103068Z",
     "iopub.status.busy": "2022-05-22T14:58:18.102766Z",
     "iopub.status.idle": "2022-05-22T14:58:18.109746Z",
     "shell.execute_reply": "2022-05-22T14:58:18.109139Z"
    }
   },
   "outputs": [
    {
     "data": {
      "text/plain": [
       "Nom            MACRON\n",
       "Unnamed: 30    LE PEN\n",
       "Name: 0, dtype: object"
      ]
     },
     "execution_count": 24,
     "metadata": {},
     "output_type": "execute_result"
    }
   ],
   "source": [
    "col_start = 23\n",
    "col_par_cdt = 7\n",
    "candidats = T2.iloc[0][col_start::col_par_cdt]\n",
    "candidats"
   ]
  },
  {
   "cell_type": "markdown",
   "metadata": {},
   "source": [
    "Une fois cette vérification faite nous pouvons extraire les données dans un nouveau tableau :"
   ]
  },
  {
   "cell_type": "code",
   "execution_count": 25,
   "metadata": {
    "execution": {
     "iopub.execute_input": "2022-05-22T14:58:18.113596Z",
     "iopub.status.busy": "2022-05-22T14:58:18.113282Z",
     "iopub.status.idle": "2022-05-22T14:58:18.124735Z",
     "shell.execute_reply": "2022-05-22T14:58:18.124254Z"
    },
    "tags": []
   },
   "outputs": [
    {
     "data": {
      "text/html": [
       "<div>\n",
       "<style scoped>\n",
       "    .dataframe tbody tr th:only-of-type {\n",
       "        vertical-align: middle;\n",
       "    }\n",
       "\n",
       "    .dataframe tbody tr th {\n",
       "        vertical-align: top;\n",
       "    }\n",
       "\n",
       "    .dataframe thead th {\n",
       "        text-align: right;\n",
       "    }\n",
       "</style>\n",
       "<table border=\"1\" class=\"dataframe\">\n",
       "  <thead>\n",
       "    <tr style=\"text-align: right;\">\n",
       "      <th></th>\n",
       "      <th>Nuls</th>\n",
       "      <th>Blancs</th>\n",
       "      <th>Abstentions</th>\n",
       "    </tr>\n",
       "  </thead>\n",
       "  <tbody>\n",
       "    <tr>\n",
       "      <th>0</th>\n",
       "      <td>5</td>\n",
       "      <td>42</td>\n",
       "      <td>146</td>\n",
       "    </tr>\n",
       "    <tr>\n",
       "      <th>1</th>\n",
       "      <td>3</td>\n",
       "      <td>23</td>\n",
       "      <td>45</td>\n",
       "    </tr>\n",
       "    <tr>\n",
       "      <th>2</th>\n",
       "      <td>22</td>\n",
       "      <td>71</td>\n",
       "      <td>322</td>\n",
       "    </tr>\n",
       "    <tr>\n",
       "      <th>3</th>\n",
       "      <td>18</td>\n",
       "      <td>45</td>\n",
       "      <td>313</td>\n",
       "    </tr>\n",
       "    <tr>\n",
       "      <th>4</th>\n",
       "      <td>21</td>\n",
       "      <td>87</td>\n",
       "      <td>303</td>\n",
       "    </tr>\n",
       "  </tbody>\n",
       "</table>\n",
       "</div>"
      ],
      "text/plain": [
       "   Nuls  Blancs  Abstentions\n",
       "0     5      42          146\n",
       "1     3      23           45\n",
       "2    22      71          322\n",
       "3    18      45          313\n",
       "4    21      87          303"
      ]
     },
     "execution_count": 25,
     "metadata": {},
     "output_type": "execute_result"
    }
   ],
   "source": [
    "df_2 = T2[['Nuls', 'Blancs', 'Abstentions']].copy()\n",
    "#df_1 = df_1.rename(columns={\"Nuls\": \"1_Nuls\", \"Abstentions\": \"1_Abstentions\"})\n",
    "df_2.head()"
   ]
  },
  {
   "cell_type": "markdown",
   "metadata": {},
   "source": [
    "Nous vérifions aussi que nous avons le même nombre de bureaux de vote :"
   ]
  },
  {
   "cell_type": "code",
   "execution_count": 26,
   "metadata": {
    "execution": {
     "iopub.execute_input": "2022-05-22T14:58:18.128885Z",
     "iopub.status.busy": "2022-05-22T14:58:18.128730Z",
     "iopub.status.idle": "2022-05-22T14:58:18.132399Z",
     "shell.execute_reply": "2022-05-22T14:58:18.131872Z"
    }
   },
   "outputs": [
    {
     "data": {
      "text/plain": [
       "69682"
      ]
     },
     "execution_count": 26,
     "metadata": {},
     "output_type": "execute_result"
    }
   ],
   "source": [
    "len(df_2)"
   ]
  },
  {
   "cell_type": "code",
   "execution_count": 27,
   "metadata": {
    "execution": {
     "iopub.execute_input": "2022-05-22T14:58:18.135348Z",
     "iopub.status.busy": "2022-05-22T14:58:18.135098Z",
     "iopub.status.idle": "2022-05-22T14:58:18.143288Z",
     "shell.execute_reply": "2022-05-22T14:58:18.142539Z"
    }
   },
   "outputs": [
    {
     "name": "stdout",
     "output_type": "stream",
     "text": [
      "25 [237  94 360 ...  39 181  35]\n",
      "32 [213  48 355 ...  11  21  16]\n"
     ]
    }
   ],
   "source": [
    "for i_candidat, candidat in enumerate(candidats):\n",
    "    i_col = col_start + i_candidat*col_par_cdt + 2\n",
    "    print(i_col, T2.iloc[:, i_col].values)\n",
    "    df_2[candidat] = T2.iloc[:, i_col].values"
   ]
  },
  {
   "cell_type": "code",
   "execution_count": 28,
   "metadata": {
    "execution": {
     "iopub.execute_input": "2022-05-22T14:58:18.147354Z",
     "iopub.status.busy": "2022-05-22T14:58:18.146942Z",
     "iopub.status.idle": "2022-05-22T14:58:18.158885Z",
     "shell.execute_reply": "2022-05-22T14:58:18.158446Z"
    }
   },
   "outputs": [
    {
     "data": {
      "text/html": [
       "<div>\n",
       "<style scoped>\n",
       "    .dataframe tbody tr th:only-of-type {\n",
       "        vertical-align: middle;\n",
       "    }\n",
       "\n",
       "    .dataframe tbody tr th {\n",
       "        vertical-align: top;\n",
       "    }\n",
       "\n",
       "    .dataframe thead th {\n",
       "        text-align: right;\n",
       "    }\n",
       "</style>\n",
       "<table border=\"1\" class=\"dataframe\">\n",
       "  <thead>\n",
       "    <tr style=\"text-align: right;\">\n",
       "      <th></th>\n",
       "      <th>Nuls</th>\n",
       "      <th>Blancs</th>\n",
       "      <th>Abstentions</th>\n",
       "      <th>MACRON</th>\n",
       "      <th>LE PEN</th>\n",
       "    </tr>\n",
       "  </thead>\n",
       "  <tbody>\n",
       "    <tr>\n",
       "      <th>0</th>\n",
       "      <td>5</td>\n",
       "      <td>42</td>\n",
       "      <td>146</td>\n",
       "      <td>237</td>\n",
       "      <td>213</td>\n",
       "    </tr>\n",
       "    <tr>\n",
       "      <th>1</th>\n",
       "      <td>3</td>\n",
       "      <td>23</td>\n",
       "      <td>45</td>\n",
       "      <td>94</td>\n",
       "      <td>48</td>\n",
       "    </tr>\n",
       "    <tr>\n",
       "      <th>2</th>\n",
       "      <td>22</td>\n",
       "      <td>71</td>\n",
       "      <td>322</td>\n",
       "      <td>360</td>\n",
       "      <td>355</td>\n",
       "    </tr>\n",
       "    <tr>\n",
       "      <th>3</th>\n",
       "      <td>18</td>\n",
       "      <td>45</td>\n",
       "      <td>313</td>\n",
       "      <td>426</td>\n",
       "      <td>327</td>\n",
       "    </tr>\n",
       "    <tr>\n",
       "      <th>4</th>\n",
       "      <td>21</td>\n",
       "      <td>87</td>\n",
       "      <td>303</td>\n",
       "      <td>449</td>\n",
       "      <td>353</td>\n",
       "    </tr>\n",
       "    <tr>\n",
       "      <th>...</th>\n",
       "      <td>...</td>\n",
       "      <td>...</td>\n",
       "      <td>...</td>\n",
       "      <td>...</td>\n",
       "      <td>...</td>\n",
       "    </tr>\n",
       "    <tr>\n",
       "      <th>69677</th>\n",
       "      <td>49</td>\n",
       "      <td>227</td>\n",
       "      <td>13153</td>\n",
       "      <td>10166</td>\n",
       "      <td>1272</td>\n",
       "    </tr>\n",
       "    <tr>\n",
       "      <th>69678</th>\n",
       "      <td>6</td>\n",
       "      <td>26</td>\n",
       "      <td>928</td>\n",
       "      <td>611</td>\n",
       "      <td>132</td>\n",
       "    </tr>\n",
       "    <tr>\n",
       "      <th>69679</th>\n",
       "      <td>0</td>\n",
       "      <td>3</td>\n",
       "      <td>64</td>\n",
       "      <td>39</td>\n",
       "      <td>11</td>\n",
       "    </tr>\n",
       "    <tr>\n",
       "      <th>69680</th>\n",
       "      <td>1</td>\n",
       "      <td>2</td>\n",
       "      <td>510</td>\n",
       "      <td>181</td>\n",
       "      <td>21</td>\n",
       "    </tr>\n",
       "    <tr>\n",
       "      <th>69681</th>\n",
       "      <td>1</td>\n",
       "      <td>7</td>\n",
       "      <td>78</td>\n",
       "      <td>35</td>\n",
       "      <td>16</td>\n",
       "    </tr>\n",
       "  </tbody>\n",
       "</table>\n",
       "<p>69682 rows × 5 columns</p>\n",
       "</div>"
      ],
      "text/plain": [
       "       Nuls  Blancs  Abstentions  MACRON  LE PEN\n",
       "0         5      42          146     237     213\n",
       "1         3      23           45      94      48\n",
       "2        22      71          322     360     355\n",
       "3        18      45          313     426     327\n",
       "4        21      87          303     449     353\n",
       "...     ...     ...          ...     ...     ...\n",
       "69677    49     227        13153   10166    1272\n",
       "69678     6      26          928     611     132\n",
       "69679     0       3           64      39      11\n",
       "69680     1       2          510     181      21\n",
       "69681     1       7           78      35      16\n",
       "\n",
       "[69682 rows x 5 columns]"
      ]
     },
     "execution_count": 28,
     "metadata": {},
     "output_type": "execute_result"
    }
   ],
   "source": [
    "df_2"
   ]
  },
  {
   "cell_type": "markdown",
   "metadata": {},
   "source": [
    "De la même façon que pour le premier tour, nous pouvons représenter les résultats totaux obtenus au second tour de façon graphique :"
   ]
  },
  {
   "cell_type": "code",
   "execution_count": 29,
   "metadata": {
    "execution": {
     "iopub.execute_input": "2022-05-22T14:58:18.163024Z",
     "iopub.status.busy": "2022-05-22T14:58:18.162813Z",
     "iopub.status.idle": "2022-05-22T14:58:18.303640Z",
     "shell.execute_reply": "2022-05-22T14:58:18.303042Z"
    }
   },
   "outputs": [
    {
     "data": {
      "image/png": "[encoded data removed]",
      "text/plain": [
       "<Figure size 936x360 with 1 Axes>"
      ]
     },
     "metadata": {
      "needs_background": "light"
     },
     "output_type": "display_data"
    }
   ],
   "source": [
    "fig, ax = plt.subplots(figsize=(13, 5))\n",
    "k = df_2.sum()/df_2.sum().sum()\n",
    "ax = k.plot.bar(ax=ax)\n",
    "ax.set_xlabel('Candidat')\n",
    "#ax.set_xlim(1, 10)\n",
    "#ax.set_xticks(np.arange(1, 10)+.5)\n",
    "#ax.set_xticklabels(np.arange(1, 10)) , rotation=45\n",
    "ax.set_ylabel('pourcentage');"
   ]
  },
  {
   "cell_type": "markdown",
   "metadata": {},
   "source": [
    "### non aux nans\n",
    "\n",
    "Certains bureaux de vote n'ont pas de votants au premier ou au deuxieme. Ceci peut engendrer des problèmes numériques en générant des divisions par zéro, des `Not a Number (NaN)` dans le jargon informatique. Comme ceux-ci représentent un nombre très faible d'électeurs nous allons les ignorer par rapport au reste de la population."
   ]
  },
  {
   "cell_type": "markdown",
   "metadata": {},
   "source": [
    "Nous pouvons d'abord compter le nombre de bureaux de vote qui n'ont aucun suffrage enregistré:"
   ]
  },
  {
   "cell_type": "code",
   "execution_count": 30,
   "metadata": {
    "execution": {
     "iopub.execute_input": "2022-05-22T14:58:18.306774Z",
     "iopub.status.busy": "2022-05-22T14:58:18.306415Z",
     "iopub.status.idle": "2022-05-22T14:58:18.319206Z",
     "shell.execute_reply": "2022-05-22T14:58:18.318708Z"
    }
   },
   "outputs": [
    {
     "data": {
      "text/plain": [
       "(10, 11)"
      ]
     },
     "execution_count": 30,
     "metadata": {},
     "output_type": "execute_result"
    }
   ],
   "source": [
    "(df_1.sum(axis=1)==0).sum(), (df_2.sum(axis=1)==0).sum()"
   ]
  },
  {
   "cell_type": "markdown",
   "metadata": {},
   "source": [
    "Nous pouvons \"effacer\" ces bureaux du vote en commençant par filtrer ceux qui n'ont aucun suffrage enregistré au premier tour :"
   ]
  },
  {
   "cell_type": "code",
   "execution_count": 31,
   "metadata": {
    "execution": {
     "iopub.execute_input": "2022-05-22T14:58:18.322188Z",
     "iopub.status.busy": "2022-05-22T14:58:18.322018Z",
     "iopub.status.idle": "2022-05-22T14:58:18.336127Z",
     "shell.execute_reply": "2022-05-22T14:58:18.335531Z"
    }
   },
   "outputs": [],
   "source": [
    "df_2.drop(df_2.loc[df_1.sum(axis=1)==0].index, inplace=True)\n",
    "df_1.drop(df_1.loc[df_1.sum(axis=1)==0].index, inplace=True)"
   ]
  },
  {
   "cell_type": "code",
   "execution_count": 32,
   "metadata": {
    "execution": {
     "iopub.execute_input": "2022-05-22T14:58:18.340132Z",
     "iopub.status.busy": "2022-05-22T14:58:18.339856Z",
     "iopub.status.idle": "2022-05-22T14:58:18.348829Z",
     "shell.execute_reply": "2022-05-22T14:58:18.348364Z"
    }
   },
   "outputs": [
    {
     "data": {
      "text/plain": [
       "(0, 2)"
      ]
     },
     "execution_count": 32,
     "metadata": {},
     "output_type": "execute_result"
    }
   ],
   "source": [
    "(df_1.sum(axis=1)==0).sum(), (df_2.sum(axis=1)==0).sum()"
   ]
  },
  {
   "cell_type": "markdown",
   "metadata": {},
   "source": [
    "Et maintenant répéter la même procédure sur les bureaux de vote qui n'ont aucun suffrage enregistré au second tour :"
   ]
  },
  {
   "cell_type": "code",
   "execution_count": 33,
   "metadata": {
    "execution": {
     "iopub.execute_input": "2022-05-22T14:58:18.352513Z",
     "iopub.status.busy": "2022-05-22T14:58:18.352178Z",
     "iopub.status.idle": "2022-05-22T14:58:18.371950Z",
     "shell.execute_reply": "2022-05-22T14:58:18.371304Z"
    }
   },
   "outputs": [],
   "source": [
    "df_1.drop(df_1.loc[df_2.sum(axis=1)==0].index, inplace=True)\n",
    "df_2.drop(df_2.loc[df_2.sum(axis=1)==0].index, inplace=True)"
   ]
  },
  {
   "cell_type": "code",
   "execution_count": 34,
   "metadata": {
    "execution": {
     "iopub.execute_input": "2022-05-22T14:58:18.376021Z",
     "iopub.status.busy": "2022-05-22T14:58:18.375654Z",
     "iopub.status.idle": "2022-05-22T14:58:18.386886Z",
     "shell.execute_reply": "2022-05-22T14:58:18.385917Z"
    }
   },
   "outputs": [
    {
     "data": {
      "text/plain": [
       "(0, 0)"
      ]
     },
     "execution_count": 34,
     "metadata": {},
     "output_type": "execute_result"
    }
   ],
   "source": [
    "(df_1.sum(axis=1)==0).sum(), (df_2.sum(axis=1)==0).sum()"
   ]
  },
  {
   "cell_type": "markdown",
   "metadata": {},
   "source": [
    "### statistiques de second ordre\n",
    "\n",
    "Comme cela est montré dans l'[article du Monde](https://www.lemonde.fr/les-decodeurs/article/2022/05/04/election-presidentielle-2022-quels-reports-de-voix-entre-les-deux-tours_6124672_4355770.html) on peut montrer la dépendance entre les choix qui sont effectués au premier tour et ceux qui sont effectués au deuxième tour. On va utiliser des représentations graphiques similaires à ceux de l'article pour d'une première part les répliquer et vérifier que la méthode est correct et d'un autre côté pour mieux comprendre comment nous pouvons tirer dans ses enseignements depuis ces observations."
   ]
  },
  {
   "cell_type": "code",
   "execution_count": 35,
   "metadata": {
    "execution": {
     "iopub.execute_input": "2022-05-22T14:58:18.391546Z",
     "iopub.status.busy": "2022-05-22T14:58:18.391138Z",
     "iopub.status.idle": "2022-05-22T14:58:18.395910Z",
     "shell.execute_reply": "2022-05-22T14:58:18.395128Z"
    }
   },
   "outputs": [],
   "source": [
    "df_12 = pd.DataFrame()"
   ]
  },
  {
   "cell_type": "code",
   "execution_count": 36,
   "metadata": {
    "execution": {
     "iopub.execute_input": "2022-05-22T14:58:18.399425Z",
     "iopub.status.busy": "2022-05-22T14:58:18.399085Z",
     "iopub.status.idle": "2022-05-22T14:58:18.410387Z",
     "shell.execute_reply": "2022-05-22T14:58:18.409536Z"
    }
   },
   "outputs": [],
   "source": [
    "df_12['1_MÉLENCHON'] = df_1['MÉLENCHON'].copy()\n",
    "df_12['MACRON'] = df_2['MACRON'].copy()"
   ]
  },
  {
   "cell_type": "code",
   "execution_count": 37,
   "metadata": {
    "execution": {
     "iopub.execute_input": "2022-05-22T14:58:18.414480Z",
     "iopub.status.busy": "2022-05-22T14:58:18.414127Z",
     "iopub.status.idle": "2022-05-22T14:58:18.426845Z",
     "shell.execute_reply": "2022-05-22T14:58:18.425990Z"
    }
   },
   "outputs": [
    {
     "name": "stdout",
     "output_type": "stream",
     "text": [
      "<class 'pandas.core.frame.DataFrame'>\n",
      "Int64Index: 69670 entries, 0 to 69681\n",
      "Data columns (total 2 columns):\n",
      " #   Column       Non-Null Count  Dtype\n",
      "---  ------       --------------  -----\n",
      " 0   1_MÉLENCHON  69670 non-null  int64\n",
      " 1   MACRON       69670 non-null  int64\n",
      "dtypes: int64(2)\n",
      "memory usage: 1.6 MB\n"
     ]
    }
   ],
   "source": [
    "df_12.info()"
   ]
  },
  {
   "cell_type": "code",
   "execution_count": 38,
   "metadata": {
    "execution": {
     "iopub.execute_input": "2022-05-22T14:58:18.429778Z",
     "iopub.status.busy": "2022-05-22T14:58:18.429501Z",
     "iopub.status.idle": "2022-05-22T14:58:18.439158Z",
     "shell.execute_reply": "2022-05-22T14:58:18.438300Z"
    }
   },
   "outputs": [],
   "source": [
    "df_12['1_MÉLENCHON'] = df_12['1_MÉLENCHON']/df_1.sum(axis=1)\n",
    "df_12['MACRON'] = df_12['MACRON']/df_2.sum(axis=1)"
   ]
  },
  {
   "cell_type": "code",
   "execution_count": 39,
   "metadata": {
    "execution": {
     "iopub.execute_input": "2022-05-22T14:58:18.442821Z",
     "iopub.status.busy": "2022-05-22T14:58:18.442531Z",
     "iopub.status.idle": "2022-05-22T14:58:18.704279Z",
     "shell.execute_reply": "2022-05-22T14:58:18.703620Z"
    }
   },
   "outputs": [],
   "source": [
    "import seaborn as sns"
   ]
  },
  {
   "cell_type": "code",
   "execution_count": 40,
   "metadata": {
    "execution": {
     "iopub.execute_input": "2022-05-22T14:58:18.708601Z",
     "iopub.status.busy": "2022-05-22T14:58:18.708438Z",
     "iopub.status.idle": "2022-05-22T14:58:19.694984Z",
     "shell.execute_reply": "2022-05-22T14:58:19.694223Z"
    }
   },
   "outputs": [
    {
     "data": {
      "image/png": "[encoded data removed]",
      "text/plain": [
       "<Figure size 576x576 with 3 Axes>"
      ]
     },
     "metadata": {
      "needs_background": "light"
     },
     "output_type": "display_data"
    }
   ],
   "source": [
    "sns.jointplot(x=df_12['1_MÉLENCHON'], y=df_12['MACRON'], kind='hist', height=8);"
   ]
  },
  {
   "cell_type": "markdown",
   "metadata": {},
   "source": [
    "On remarque effectivement une dépendance entre le choix. Un premier candidat effectué au premier tour et celui qui est effectué au second tour. Nous allons essayer d'inférer de façon plus précise cette dépendance grâce au modèle de transition que nous avons exposer au début de cet article."
   ]
  },
  {
   "cell_type": "markdown",
   "metadata": {},
   "source": [
    "## fit model de transfert des voix\n",
    "\n",
    "Tenant que nous avons récolté toutes les données pour les deux tours, et que nous avons une idée qu'il existe une dépendance entre les choix qui sont faits entre un tour et le suivant, nous allons pouvoir utiliser des librairies de tes apprentissage automatique machine Learning en anglais pour pouvoir insérer le report de voix entre les deux tours :. Pour cela nous allons utiliser un travail précédemment effectué appliquer à l'[exploration du comportement humain](https://laurentperrinet.github.io/sciblog/posts/2020-04-08-fitting-a-psychometric-curve-using-pytorch.html) ou alors pour [l'épidémiologie du Covid](https://laurentperrinet.github.io/sciblog/posts/2020-10-10-fitting-covid-data.html)."
   ]
  },
  {
   "cell_type": "markdown",
   "metadata": {},
   "source": [
    "### Formatage des données au format de la librairie `torch`\n",
    "\n",
    "Pendant un aperçu des résultats au premier tour :"
   ]
  },
  {
   "cell_type": "code",
   "execution_count": 41,
   "metadata": {
    "execution": {
     "iopub.execute_input": "2022-05-22T14:58:19.700607Z",
     "iopub.status.busy": "2022-05-22T14:58:19.700194Z",
     "iopub.status.idle": "2022-05-22T14:58:19.714278Z",
     "shell.execute_reply": "2022-05-22T14:58:19.713433Z"
    }
   },
   "outputs": [
    {
     "data": {
      "text/html": [
       "<div>\n",
       "<style scoped>\n",
       "    .dataframe tbody tr th:only-of-type {\n",
       "        vertical-align: middle;\n",
       "    }\n",
       "\n",
       "    .dataframe tbody tr th {\n",
       "        vertical-align: top;\n",
       "    }\n",
       "\n",
       "    .dataframe thead th {\n",
       "        text-align: right;\n",
       "    }\n",
       "</style>\n",
       "<table border=\"1\" class=\"dataframe\">\n",
       "  <thead>\n",
       "    <tr style=\"text-align: right;\">\n",
       "      <th></th>\n",
       "      <th>Nuls</th>\n",
       "      <th>Blancs</th>\n",
       "      <th>Abstentions</th>\n",
       "      <th>ARTHAUD</th>\n",
       "      <th>ROUSSEL</th>\n",
       "      <th>MACRON</th>\n",
       "      <th>LASSALLE</th>\n",
       "      <th>LE PEN</th>\n",
       "      <th>ZEMMOUR</th>\n",
       "      <th>MÉLENCHON</th>\n",
       "      <th>HIDALGO</th>\n",
       "      <th>JADOT</th>\n",
       "      <th>PÉCRESSE</th>\n",
       "      <th>POUTOU</th>\n",
       "      <th>DUPONT-AIGNAN</th>\n",
       "    </tr>\n",
       "  </thead>\n",
       "  <tbody>\n",
       "    <tr>\n",
       "      <th>0</th>\n",
       "      <td>1</td>\n",
       "      <td>16</td>\n",
       "      <td>108</td>\n",
       "      <td>3</td>\n",
       "      <td>6</td>\n",
       "      <td>150</td>\n",
       "      <td>18</td>\n",
       "      <td>149</td>\n",
       "      <td>43</td>\n",
       "      <td>66</td>\n",
       "      <td>5</td>\n",
       "      <td>30</td>\n",
       "      <td>26</td>\n",
       "      <td>3</td>\n",
       "      <td>21</td>\n",
       "    </tr>\n",
       "    <tr>\n",
       "      <th>1</th>\n",
       "      <td>1</td>\n",
       "      <td>3</td>\n",
       "      <td>38</td>\n",
       "      <td>2</td>\n",
       "      <td>7</td>\n",
       "      <td>50</td>\n",
       "      <td>10</td>\n",
       "      <td>23</td>\n",
       "      <td>14</td>\n",
       "      <td>41</td>\n",
       "      <td>3</td>\n",
       "      <td>10</td>\n",
       "      <td>8</td>\n",
       "      <td>3</td>\n",
       "      <td>0</td>\n",
       "    </tr>\n",
       "    <tr>\n",
       "      <th>2</th>\n",
       "      <td>5</td>\n",
       "      <td>18</td>\n",
       "      <td>266</td>\n",
       "      <td>4</td>\n",
       "      <td>30</td>\n",
       "      <td>159</td>\n",
       "      <td>24</td>\n",
       "      <td>237</td>\n",
       "      <td>69</td>\n",
       "      <td>216</td>\n",
       "      <td>15</td>\n",
       "      <td>25</td>\n",
       "      <td>40</td>\n",
       "      <td>8</td>\n",
       "      <td>13</td>\n",
       "    </tr>\n",
       "    <tr>\n",
       "      <th>3</th>\n",
       "      <td>6</td>\n",
       "      <td>15</td>\n",
       "      <td>265</td>\n",
       "      <td>6</td>\n",
       "      <td>13</td>\n",
       "      <td>201</td>\n",
       "      <td>19</td>\n",
       "      <td>210</td>\n",
       "      <td>68</td>\n",
       "      <td>194</td>\n",
       "      <td>19</td>\n",
       "      <td>46</td>\n",
       "      <td>42</td>\n",
       "      <td>4</td>\n",
       "      <td>20</td>\n",
       "    </tr>\n",
       "    <tr>\n",
       "      <th>4</th>\n",
       "      <td>8</td>\n",
       "      <td>10</td>\n",
       "      <td>246</td>\n",
       "      <td>8</td>\n",
       "      <td>18</td>\n",
       "      <td>229</td>\n",
       "      <td>28</td>\n",
       "      <td>227</td>\n",
       "      <td>74</td>\n",
       "      <td>227</td>\n",
       "      <td>16</td>\n",
       "      <td>65</td>\n",
       "      <td>35</td>\n",
       "      <td>3</td>\n",
       "      <td>19</td>\n",
       "    </tr>\n",
       "  </tbody>\n",
       "</table>\n",
       "</div>"
      ],
      "text/plain": [
       "   Nuls  Blancs  Abstentions  ARTHAUD  ROUSSEL  MACRON  LASSALLE  LE PEN  \\\n",
       "0     1      16          108        3        6     150        18     149   \n",
       "1     1       3           38        2        7      50        10      23   \n",
       "2     5      18          266        4       30     159        24     237   \n",
       "3     6      15          265        6       13     201        19     210   \n",
       "4     8      10          246        8       18     229        28     227   \n",
       "\n",
       "   ZEMMOUR  MÉLENCHON  HIDALGO  JADOT  PÉCRESSE  POUTOU  DUPONT-AIGNAN  \n",
       "0       43         66        5     30        26       3             21  \n",
       "1       14         41        3     10         8       3              0  \n",
       "2       69        216       15     25        40       8             13  \n",
       "3       68        194       19     46        42       4             20  \n",
       "4       74        227       16     65        35       3             19  "
      ]
     },
     "execution_count": 41,
     "metadata": {},
     "output_type": "execute_result"
    }
   ],
   "source": [
    "df_1.head()"
   ]
  },
  {
   "cell_type": "markdown",
   "metadata": {},
   "source": [
    "Nous avons donc comptabilisé ces différentes alternatives au premier tour :"
   ]
  },
  {
   "cell_type": "code",
   "execution_count": 42,
   "metadata": {
    "execution": {
     "iopub.execute_input": "2022-05-22T14:58:19.718358Z",
     "iopub.status.busy": "2022-05-22T14:58:19.718150Z",
     "iopub.status.idle": "2022-05-22T14:58:19.722754Z",
     "shell.execute_reply": "2022-05-22T14:58:19.722043Z"
    }
   },
   "outputs": [
    {
     "data": {
      "text/plain": [
       "15"
      ]
     },
     "execution_count": 42,
     "metadata": {},
     "output_type": "execute_result"
    }
   ],
   "source": [
    "len(df_1.columns)"
   ]
  },
  {
   "cell_type": "markdown",
   "metadata": {},
   "source": [
    "De sorte que sur les bureaux de vote que nous avons validé nous avons les deux tableaux suivants :"
   ]
  },
  {
   "cell_type": "code",
   "execution_count": 43,
   "metadata": {
    "execution": {
     "iopub.execute_input": "2022-05-22T14:58:19.726369Z",
     "iopub.status.busy": "2022-05-22T14:58:19.726029Z",
     "iopub.status.idle": "2022-05-22T14:58:19.731778Z",
     "shell.execute_reply": "2022-05-22T14:58:19.731290Z"
    }
   },
   "outputs": [
    {
     "data": {
      "text/plain": [
       "((69670, 15), (69670, 5))"
      ]
     },
     "execution_count": 43,
     "metadata": {},
     "output_type": "execute_result"
    }
   ],
   "source": [
    "df_1.values.shape, df_2.values.shape"
   ]
  },
  {
   "cell_type": "markdown",
   "metadata": {},
   "source": [
    "Nous allons maintenant utiliser la librairie `torch` pour enregistrer ses données sous la forme d'une matrice (ou tenseur dans le jargon de cette librairie) :"
   ]
  },
  {
   "cell_type": "code",
   "execution_count": 44,
   "metadata": {
    "execution": {
     "iopub.execute_input": "2022-05-22T14:58:19.734938Z",
     "iopub.status.busy": "2022-05-22T14:58:19.734762Z",
     "iopub.status.idle": "2022-05-22T14:58:20.119448Z",
     "shell.execute_reply": "2022-05-22T14:58:20.118927Z"
    }
   },
   "outputs": [],
   "source": [
    "import torch\n",
    "\n",
    "X_1, X_2 = df_1.values, df_2.values\n",
    "x_1, x_2 = torch.Tensor(X_1), torch.Tensor(X_2)\n"
   ]
  },
  {
   "cell_type": "code",
   "execution_count": 45,
   "metadata": {
    "execution": {
     "iopub.execute_input": "2022-05-22T14:58:20.123741Z",
     "iopub.status.busy": "2022-05-22T14:58:20.123576Z",
     "iopub.status.idle": "2022-05-22T14:58:20.127894Z",
     "shell.execute_reply": "2022-05-22T14:58:20.127128Z"
    }
   },
   "outputs": [
    {
     "data": {
      "text/plain": [
       "torch.Size([69670, 15])"
      ]
     },
     "execution_count": 45,
     "metadata": {},
     "output_type": "execute_result"
    }
   ],
   "source": [
    "x_1.shape"
   ]
  },
  {
   "cell_type": "markdown",
   "metadata": {},
   "source": [
    "Ainsi nous allons très facilement pouvoir représenter les données pour pouvoir les apprendre. Une pratique extrêmement importante dans l'apprentissage automatique et de séparer les données qui sont utilisés pour apprendre le modèle, avec celles qui sont utilisés pour tester ce modèle :"
   ]
  },
  {
   "cell_type": "code",
   "execution_count": 46,
   "metadata": {
    "execution": {
     "iopub.execute_input": "2022-05-22T14:58:20.132716Z",
     "iopub.status.busy": "2022-05-22T14:58:20.132501Z",
     "iopub.status.idle": "2022-05-22T14:58:20.141230Z",
     "shell.execute_reply": "2022-05-22T14:58:20.140691Z"
    }
   },
   "outputs": [],
   "source": [
    "from torch.utils.data import TensorDataset, DataLoader\n",
    "\n",
    "dataset = TensorDataset(x_1, x_2)\n",
    "\n",
    "# Random split\n",
    "train_set_size = int(len(dataset) * 0.8)\n",
    "test_set_size = len(dataset) - train_set_size\n",
    "train_set, test_set = torch.utils.data.random_split(dataset, [train_set_size, test_set_size])\n"
   ]
  },
  {
   "cell_type": "markdown",
   "metadata": {},
   "source": [
    "Ainsi nous pourrons utiliser l'ensemble d'apprentissage au cours des différentes époques d'apprentissage utilisé plus bas :"
   ]
  },
  {
   "cell_type": "code",
   "execution_count": 47,
   "metadata": {
    "execution": {
     "iopub.execute_input": "2022-05-22T14:58:20.144107Z",
     "iopub.status.busy": "2022-05-22T14:58:20.143928Z",
     "iopub.status.idle": "2022-05-22T14:58:20.147085Z",
     "shell.execute_reply": "2022-05-22T14:58:20.146596Z"
    }
   },
   "outputs": [],
   "source": [
    "train_loader = DataLoader(train_set, batch_size=32, shuffle=True)"
   ]
  },
  {
   "cell_type": "code",
   "execution_count": 48,
   "metadata": {
    "execution": {
     "iopub.execute_input": "2022-05-22T14:58:20.149637Z",
     "iopub.status.busy": "2022-05-22T14:58:20.149458Z",
     "iopub.status.idle": "2022-05-22T14:58:20.159462Z",
     "shell.execute_reply": "2022-05-22T14:58:20.158922Z"
    }
   },
   "outputs": [],
   "source": [
    "for n_1, n_2 in train_loader:\n",
    "    break"
   ]
  },
  {
   "cell_type": "markdown",
   "metadata": {},
   "source": [
    "En particulier nous allons couper les données de façon aléatoire puis il est représenté sous la forme de différents « paquet » dont la taille est fixé ici à 32, et nous verrons plus tard que si cette procédure permet d'accélérer l'apprentissage la taille du paquet n'a plus d'influence sur le résultat final."
   ]
  },
  {
   "cell_type": "code",
   "execution_count": 49,
   "metadata": {
    "execution": {
     "iopub.execute_input": "2022-05-22T14:58:20.162933Z",
     "iopub.status.busy": "2022-05-22T14:58:20.162743Z",
     "iopub.status.idle": "2022-05-22T14:58:20.167045Z",
     "shell.execute_reply": "2022-05-22T14:58:20.166509Z"
    }
   },
   "outputs": [
    {
     "data": {
      "text/plain": [
       "(torch.Size([32, 15]), torch.Size([32, 5]))"
      ]
     },
     "execution_count": 49,
     "metadata": {},
     "output_type": "execute_result"
    }
   ],
   "source": [
    "n_1.shape, n_2.shape"
   ]
  },
  {
   "cell_type": "markdown",
   "metadata": {},
   "source": [
    "Dans chaque paquet nous pouvons compter le nombre de votes pour les différentes alternatives :"
   ]
  },
  {
   "cell_type": "code",
   "execution_count": 50,
   "metadata": {
    "execution": {
     "iopub.execute_input": "2022-05-22T14:58:20.170960Z",
     "iopub.status.busy": "2022-05-22T14:58:20.170721Z",
     "iopub.status.idle": "2022-05-22T14:58:20.177064Z",
     "shell.execute_reply": "2022-05-22T14:58:20.176487Z"
    },
    "tags": []
   },
   "outputs": [
    {
     "data": {
      "text/plain": [
       "(tensor([ 919.,  268., 1488., 1215.,  315.,  129.,  910.,  758.,  488., 1225.,\n",
       "         1061.,  951.,   36.,  585.,  840., 1159., 1400., 1117.,  556.,  267.,\n",
       "          358.,  859.,  149.,  650.,  209.,  102.,  148.,  869.,  677.,  421.,\n",
       "          141.,  167.]),\n",
       " tensor([ 922.,  268., 1488., 1216.,  314.,  129.,  910.,  758.,  490., 1227.,\n",
       "         1060.,  952.,   36.,  585.,  841., 1158., 1400., 1118.,  555.,  267.,\n",
       "          359.,  860.,  149.,  649.,  209.,  102.,  148.,  869.,  677.,  421.,\n",
       "          141.,  167.]))"
      ]
     },
     "execution_count": 50,
     "metadata": {},
     "output_type": "execute_result"
    }
   ],
   "source": [
    "sum_1, sum_2 = n_1.sum(axis=1), n_2.sum(axis=1)\n",
    "sum_1, sum_2"
   ]
  },
  {
   "cell_type": "markdown",
   "metadata": {},
   "source": [
    "Nous pouvons aussi vérifier que parmi toutes les et les alternatives on peut calculer des fréquences d'occurrence, et que comme chaque individu peut faire un seul un choix est un seul, la somme de ses fréquences d'occurrence pour chacun des paquets est égal à $1$."
   ]
  },
  {
   "cell_type": "code",
   "execution_count": 51,
   "metadata": {
    "execution": {
     "iopub.execute_input": "2022-05-22T14:58:20.180254Z",
     "iopub.status.busy": "2022-05-22T14:58:20.180003Z",
     "iopub.status.idle": "2022-05-22T14:58:20.185749Z",
     "shell.execute_reply": "2022-05-22T14:58:20.185090Z"
    }
   },
   "outputs": [
    {
     "data": {
      "text/plain": [
       "tensor([1.0000, 1.0000, 1.0000, 1.0000, 1.0000, 1.0000, 1.0000, 1.0000, 1.0000,\n",
       "        1.0000, 1.0000, 1.0000, 1.0000, 1.0000, 1.0000, 1.0000, 1.0000, 1.0000,\n",
       "        1.0000, 1.0000, 1.0000, 1.0000, 1.0000, 1.0000, 1.0000, 1.0000, 1.0000,\n",
       "        1.0000, 1.0000, 1.0000, 1.0000, 1.0000])"
      ]
     },
     "execution_count": 51,
     "metadata": {},
     "output_type": "execute_result"
    }
   ],
   "source": [
    "(n_1/sum_1[:, None]).sum(axis=1)"
   ]
  },
  {
   "cell_type": "markdown",
   "metadata": {},
   "source": [
    "Nous pourrons aussi aisément utiliser les données qui sont représentés dans l'ensemble de test :"
   ]
  },
  {
   "cell_type": "code",
   "execution_count": 52,
   "metadata": {
    "execution": {
     "iopub.execute_input": "2022-05-22T14:58:20.188869Z",
     "iopub.status.busy": "2022-05-22T14:58:20.188557Z",
     "iopub.status.idle": "2022-05-22T14:58:20.200427Z",
     "shell.execute_reply": "2022-05-22T14:58:20.199592Z"
    }
   },
   "outputs": [
    {
     "data": {
      "text/plain": [
       "(torch.Size([13934, 15]), torch.Size([13934, 5]))"
      ]
     },
     "execution_count": 52,
     "metadata": {},
     "output_type": "execute_result"
    }
   ],
   "source": [
    "n_1, n_2 = dataset[test_set.indices]\n",
    "n_1.shape, n_2.shape"
   ]
  },
  {
   "cell_type": "markdown",
   "metadata": {},
   "source": [
    "### Modèle `torch` de transition de probabilités\n",
    "\n",
    "\n",
    "Maintenant que nous avons correctement formater les données, nous allons exprimer dans le langage de la librairie torche le modèle qui nous permet d'exprimer la transition entre les préférences au premier tour et les préférences au premier second tour. En particulier la matrice de transition sera définie par une matric `self.M` de telle sorte que quand on l'utilise, la contrainte qui fait que la somme des éléments colonne par colonne est bien égal à $1$ (utilisation de `torch.softmax(self.M, axis=0)`):"
   ]
  },
  {
   "cell_type": "code",
   "execution_count": 53,
   "metadata": {
    "execution": {
     "iopub.execute_input": "2022-05-22T14:58:20.204001Z",
     "iopub.status.busy": "2022-05-22T14:58:20.203829Z",
     "iopub.status.idle": "2022-05-22T14:58:20.209016Z",
     "shell.execute_reply": "2022-05-22T14:58:20.208377Z"
    },
    "tags": []
   },
   "outputs": [],
   "source": [
    "import torch\n",
    "from torch.utils.data import TensorDataset, DataLoader, random_split\n",
    "import torch.nn.functional as F\n",
    "\n",
    "#torch.set_default_tensor_type(\"torch.DoubleTensor\")\n",
    "torch.set_default_tensor_type(\"torch.FloatTensor\")\n",
    "\n",
    "class TransfertVoix(torch.nn.Module):\n",
    "    def __init__(self, N_1er, N_2eme):#, device=None):\n",
    "        super(TransfertVoix, self).__init__()\n",
    "        #if device is None: device = torch.device(\"cuda\" if torch.cuda.is_available() else \"cpu\")\n",
    "        M = torch.randn((N_1er, N_2eme))\n",
    "        self.M = torch.nn.Parameter(M, requires_grad=True)#.to(device)\n",
    "\n",
    "    def forward(self, p_1):\n",
    "        M = torch.softmax(self.M, axis=0)\n",
    "        p_2_pred = torch.matmul(p_1, M)\n",
    "        return p_2_pred"
   ]
  },
  {
   "cell_type": "markdown",
   "metadata": {},
   "source": [
    "Ce modèle va utiliser comme dimension le nombre de différentes alternatives au premier et deuxième tour :"
   ]
  },
  {
   "cell_type": "code",
   "execution_count": 54,
   "metadata": {
    "execution": {
     "iopub.execute_input": "2022-05-22T14:58:20.212079Z",
     "iopub.status.busy": "2022-05-22T14:58:20.211814Z",
     "iopub.status.idle": "2022-05-22T14:58:20.216384Z",
     "shell.execute_reply": "2022-05-22T14:58:20.215755Z"
    }
   },
   "outputs": [
    {
     "data": {
      "text/plain": [
       "(15, 5)"
      ]
     },
     "execution_count": 54,
     "metadata": {},
     "output_type": "execute_result"
    }
   ],
   "source": [
    "N_1er, N_2eme = len(df_1.columns), len(df_2.columns)\n",
    "N_1er, N_2eme"
   ]
  },
  {
   "cell_type": "markdown",
   "metadata": {},
   "source": [
    "De telle sorte que nous allons pouvoir instancier un tel modèle, sachant que la matrice de transition sera choisi de façon totalement aléatoire et donc déconnecté des données à l'initialisation de cet apprentissage :"
   ]
  },
  {
   "cell_type": "code",
   "execution_count": 55,
   "metadata": {
    "execution": {
     "iopub.execute_input": "2022-05-22T14:58:20.219446Z",
     "iopub.status.busy": "2022-05-22T14:58:20.219127Z",
     "iopub.status.idle": "2022-05-22T14:58:20.222994Z",
     "shell.execute_reply": "2022-05-22T14:58:20.222289Z"
    }
   },
   "outputs": [],
   "source": [
    "trans = TransfertVoix(N_1er, N_2eme)"
   ]
  },
  {
   "cell_type": "code",
   "execution_count": 56,
   "metadata": {
    "execution": {
     "iopub.execute_input": "2022-05-22T14:58:20.227000Z",
     "iopub.status.busy": "2022-05-22T14:58:20.226766Z",
     "iopub.status.idle": "2022-05-22T14:58:20.232549Z",
     "shell.execute_reply": "2022-05-22T14:58:20.231726Z"
    }
   },
   "outputs": [
    {
     "name": "stdout",
     "output_type": "stream",
     "text": [
      "Parameter containing:\n",
      "tensor([[-0.8098, -0.3568, -0.5401,  1.4585, -1.7516],\n",
      "        [-1.4530,  1.3753,  0.3182, -0.2069,  0.8985],\n",
      "        [-0.2669, -1.0582,  0.2892,  1.8189, -1.3834],\n",
      "        [ 0.7788, -1.3350, -0.7239,  0.0977,  1.0099],\n",
      "        [ 0.9271,  0.6008,  1.3304, -0.7115,  0.8799],\n",
      "        [-0.6158,  0.8062,  0.6706, -0.7045,  1.6533],\n",
      "        [-1.3220, -1.2100,  0.3080, -0.7575,  1.1207],\n",
      "        [-2.2250, -2.0180, -0.8908, -0.3897, -0.8227],\n",
      "        [ 1.1197, -1.9382,  1.9062,  1.2546, -0.2346],\n",
      "        [-0.1165,  0.1807, -0.9502, -1.3439,  1.1565],\n",
      "        [-0.6390, -0.6608, -0.8820,  0.0782, -0.1696],\n",
      "        [-1.7445,  1.1308,  0.2186, -0.7951, -1.2045],\n",
      "        [-0.1640,  0.0537,  0.3857, -0.1636, -1.6979],\n",
      "        [ 1.8123, -1.8104, -0.6524,  0.4301, -0.6481],\n",
      "        [ 0.7535, -0.4628,  0.0125, -0.2615,  0.9897]], requires_grad=True)\n"
     ]
    }
   ],
   "source": [
    "for p in trans.parameters():print(p)"
   ]
  },
  {
   "cell_type": "code",
   "execution_count": 57,
   "metadata": {
    "execution": {
     "iopub.execute_input": "2022-05-22T14:58:20.236431Z",
     "iopub.status.busy": "2022-05-22T14:58:20.236193Z",
     "iopub.status.idle": "2022-05-22T14:58:20.244152Z",
     "shell.execute_reply": "2022-05-22T14:58:20.243367Z"
    }
   },
   "outputs": [
    {
     "data": {
      "text/plain": [
       "tensor([[0.0214, 0.0422, 0.0253, 0.1872, 0.0069],\n",
       "        [0.0112, 0.2388, 0.0596, 0.0354, 0.0972],\n",
       "        [0.0368, 0.0210, 0.0579, 0.2684, 0.0099],\n",
       "        [0.1047, 0.0159, 0.0210, 0.0480, 0.1086],\n",
       "        [0.1214, 0.1101, 0.1640, 0.0214, 0.0954],\n",
       "        [0.0259, 0.1352, 0.0848, 0.0215, 0.2067],\n",
       "        [0.0128, 0.0180, 0.0590, 0.0204, 0.1213],\n",
       "        [0.0052, 0.0080, 0.0178, 0.0295, 0.0174],\n",
       "        [0.1472, 0.0087, 0.2917, 0.1527, 0.0313],\n",
       "        [0.0427, 0.0723, 0.0168, 0.0114, 0.1258],\n",
       "        [0.0254, 0.0312, 0.0179, 0.0471, 0.0334],\n",
       "        [0.0084, 0.1870, 0.0540, 0.0197, 0.0119],\n",
       "        [0.0408, 0.0637, 0.0638, 0.0370, 0.0072],\n",
       "        [0.2942, 0.0099, 0.0226, 0.0669, 0.0207],\n",
       "        [0.1020, 0.0380, 0.0439, 0.0335, 0.1064]], grad_fn=<SoftmaxBackward0>)"
      ]
     },
     "execution_count": 57,
     "metadata": {},
     "output_type": "execute_result"
    }
   ],
   "source": [
    "torch.softmax(trans.M, axis=0)"
   ]
  },
  {
   "cell_type": "markdown",
   "metadata": {},
   "source": [
    "Nous vérifions que la contrainte sur chaque colonne de la matrice de transition et bien vérifiée :"
   ]
  },
  {
   "cell_type": "code",
   "execution_count": 58,
   "metadata": {
    "execution": {
     "iopub.execute_input": "2022-05-22T14:58:20.247908Z",
     "iopub.status.busy": "2022-05-22T14:58:20.247644Z",
     "iopub.status.idle": "2022-05-22T14:58:20.255393Z",
     "shell.execute_reply": "2022-05-22T14:58:20.254684Z"
    }
   },
   "outputs": [
    {
     "data": {
      "text/plain": [
       "tensor([1.0000, 1.0000, 1.0000, 1.0000, 1.0000], grad_fn=<SumBackward1>)"
      ]
     },
     "execution_count": 58,
     "metadata": {},
     "output_type": "execute_result"
    }
   ],
   "source": [
    "torch.softmax(trans.M, axis=0).sum(axis=0)"
   ]
  },
  {
   "cell_type": "markdown",
   "metadata": {},
   "source": [
    "Exprimons maintenant pour chacun des bureaux de vote les probabilités de préférence qui sont exprimées localement :"
   ]
  },
  {
   "cell_type": "code",
   "execution_count": 59,
   "metadata": {
    "execution": {
     "iopub.execute_input": "2022-05-22T14:58:20.259121Z",
     "iopub.status.busy": "2022-05-22T14:58:20.258620Z",
     "iopub.status.idle": "2022-05-22T14:58:20.272914Z",
     "shell.execute_reply": "2022-05-22T14:58:20.272406Z"
    }
   },
   "outputs": [],
   "source": [
    "sum_1, sum_2 = n_1.sum(axis=1), n_2.sum(axis=1)\n",
    "p_1 = n_1/sum_1[:, None]"
   ]
  },
  {
   "cell_type": "markdown",
   "metadata": {},
   "source": [
    "Cette probabilité va pouvoir être multiplié par la matrice de transition de probabilité et nous vérifions dans les lignes suivantes la compatibilité entre les différentes dimensions des données représentées :"
   ]
  },
  {
   "cell_type": "code",
   "execution_count": 60,
   "metadata": {
    "execution": {
     "iopub.execute_input": "2022-05-22T14:58:20.275939Z",
     "iopub.status.busy": "2022-05-22T14:58:20.275753Z",
     "iopub.status.idle": "2022-05-22T14:58:20.280699Z",
     "shell.execute_reply": "2022-05-22T14:58:20.280209Z"
    }
   },
   "outputs": [
    {
     "data": {
      "text/plain": [
       "(torch.Size([13934, 15]),\n",
       " tensor([1.0000, 1.0000, 1.0000,  ..., 1.0000, 1.0000, 1.0000]))"
      ]
     },
     "execution_count": 60,
     "metadata": {},
     "output_type": "execute_result"
    }
   ],
   "source": [
    "p_1.shape, p_1.sum(axis=1)"
   ]
  },
  {
   "cell_type": "code",
   "execution_count": 61,
   "metadata": {
    "execution": {
     "iopub.execute_input": "2022-05-22T14:58:20.283069Z",
     "iopub.status.busy": "2022-05-22T14:58:20.282887Z",
     "iopub.status.idle": "2022-05-22T14:58:20.286748Z",
     "shell.execute_reply": "2022-05-22T14:58:20.286190Z"
    }
   },
   "outputs": [
    {
     "data": {
      "text/plain": [
       "(torch.Size([13934, 15]), torch.Size([15, 5]))"
      ]
     },
     "execution_count": 61,
     "metadata": {},
     "output_type": "execute_result"
    }
   ],
   "source": [
    "p_1.shape, trans.M.shape"
   ]
  },
  {
   "cell_type": "code",
   "execution_count": 62,
   "metadata": {
    "execution": {
     "iopub.execute_input": "2022-05-22T14:58:20.289574Z",
     "iopub.status.busy": "2022-05-22T14:58:20.289355Z",
     "iopub.status.idle": "2022-05-22T14:58:20.297356Z",
     "shell.execute_reply": "2022-05-22T14:58:20.296827Z"
    }
   },
   "outputs": [
    {
     "data": {
      "text/plain": [
       "torch.Size([13934, 5])"
      ]
     },
     "execution_count": 62,
     "metadata": {},
     "output_type": "execute_result"
    }
   ],
   "source": [
    "torch.matmul(p_1, torch.softmax(trans.M, axis=0)).shape"
   ]
  },
  {
   "cell_type": "code",
   "execution_count": 63,
   "metadata": {
    "execution": {
     "iopub.execute_input": "2022-05-22T14:58:20.300736Z",
     "iopub.status.busy": "2022-05-22T14:58:20.300472Z",
     "iopub.status.idle": "2022-05-22T14:58:20.307915Z",
     "shell.execute_reply": "2022-05-22T14:58:20.307302Z"
    }
   },
   "outputs": [
    {
     "data": {
      "text/plain": [
       "tensor([[0.0386, 0.0605, 0.0623, 0.0650, 0.0849],\n",
       "        [0.0339, 0.0740, 0.0618, 0.0724, 0.0954],\n",
       "        [0.0347, 0.0578, 0.0627, 0.0765, 0.0897],\n",
       "        ...,\n",
       "        [0.0413, 0.0538, 0.0654, 0.0882, 0.0744],\n",
       "        [0.0400, 0.0637, 0.0630, 0.0998, 0.0810],\n",
       "        [0.0355, 0.0473, 0.0564, 0.0984, 0.0645]],\n",
       "       grad_fn=<ReshapeAliasBackward0>)"
      ]
     },
     "execution_count": 63,
     "metadata": {},
     "output_type": "execute_result"
    }
   ],
   "source": [
    "torch.tensordot(p_1, torch.softmax(trans.M, axis=0), dims=1)"
   ]
  },
  {
   "cell_type": "markdown",
   "metadata": {},
   "source": [
    "Ces différentes vérifications nous permettent de valider l'utilisation directe du modèle pour prédire la probabilité de préférence dans ce bureau de vote au second tour à partir de celle observée au premier tour :"
   ]
  },
  {
   "cell_type": "code",
   "execution_count": 64,
   "metadata": {
    "execution": {
     "iopub.execute_input": "2022-05-22T14:58:20.310506Z",
     "iopub.status.busy": "2022-05-22T14:58:20.310287Z",
     "iopub.status.idle": "2022-05-22T14:58:20.316457Z",
     "shell.execute_reply": "2022-05-22T14:58:20.315825Z"
    }
   },
   "outputs": [
    {
     "data": {
      "text/plain": [
       "(tensor([0.0377, 0.0591, 0.0622, 0.0902, 0.0764], grad_fn=<MeanBackward1>),\n",
       " tensor(0.3256, grad_fn=<SumBackward0>))"
      ]
     },
     "execution_count": 64,
     "metadata": {},
     "output_type": "execute_result"
    }
   ],
   "source": [
    "p_2_pred = trans(n_1/sum_1[:, None])\n",
    "p_2_pred.mean(axis=0), p_2_pred.mean(axis=0).sum()"
   ]
  },
  {
   "cell_type": "markdown",
   "metadata": {},
   "source": [
    "Au cours de l'apprentissage, nous allons pouvoir comparer cette probabilité prédit avec celle qui a été effectivement observée :"
   ]
  },
  {
   "cell_type": "code",
   "execution_count": 65,
   "metadata": {
    "execution": {
     "iopub.execute_input": "2022-05-22T14:58:20.319169Z",
     "iopub.status.busy": "2022-05-22T14:58:20.318978Z",
     "iopub.status.idle": "2022-05-22T14:58:20.326656Z",
     "shell.execute_reply": "2022-05-22T14:58:20.326150Z"
    }
   },
   "outputs": [
    {
     "data": {
      "text/plain": [
       "(tensor([0.0186, 0.0498, 0.2544, 0.3691, 0.3081]), tensor(1.))"
      ]
     },
     "execution_count": 65,
     "metadata": {},
     "output_type": "execute_result"
    }
   ],
   "source": [
    "p_2 = n_2/sum_2[:, None]\n",
    "p_2.mean(axis=0), p_2.mean(axis=0).sum()"
   ]
  },
  {
   "cell_type": "markdown",
   "metadata": {},
   "source": [
    "Nous allons aussi vérifier graphiquement que les résultats moyen des votes au second tour peuvent être inférer à partir des données de probabilité multiplié par la taille de chacun des bureaux de vote :"
   ]
  },
  {
   "cell_type": "code",
   "execution_count": 66,
   "metadata": {
    "execution": {
     "iopub.execute_input": "2022-05-22T14:58:20.330442Z",
     "iopub.status.busy": "2022-05-22T14:58:20.330262Z",
     "iopub.status.idle": "2022-05-22T14:58:20.467141Z",
     "shell.execute_reply": "2022-05-22T14:58:20.466528Z"
    }
   },
   "outputs": [
    {
     "data": {
      "image/png": "[encoded data removed]",
      "text/plain": [
       "<Figure size 936x360 with 1 Axes>"
      ]
     },
     "metadata": {
      "needs_background": "light"
     },
     "output_type": "display_data"
    }
   ],
   "source": [
    "fig, ax = plt.subplots(figsize=(13, 5))\n",
    "k = df_2.sum()/df_2.sum().sum()\n",
    "ax = k.plot.bar(ax=ax)\n",
    "p_2_average = (p_2*sum_2[:, None]).sum(axis=0)/sum_2.sum()\n",
    "ax.plot(p_2_average)\n",
    "ax.set_xlabel('Candidat')\n",
    "ax.set_ylabel('pourcentage');"
   ]
  },
  {
   "cell_type": "markdown",
   "metadata": {},
   "source": [
    "Ainsi que la concordance entre les résultats finaux obtenu est ce que nous représentons dans notre modèle :"
   ]
  },
  {
   "cell_type": "code",
   "execution_count": 67,
   "metadata": {
    "execution": {
     "iopub.execute_input": "2022-05-22T14:58:20.470116Z",
     "iopub.status.busy": "2022-05-22T14:58:20.469954Z",
     "iopub.status.idle": "2022-05-22T14:58:20.475258Z",
     "shell.execute_reply": "2022-05-22T14:58:20.474788Z"
    }
   },
   "outputs": [
    {
     "data": {
      "text/plain": [
       "(Nuls            1.651714\n",
       " Blancs          4.582147\n",
       " Abstentions    28.010677\n",
       " MACRON         38.497926\n",
       " LE PEN         27.257536\n",
       " dtype: float64,\n",
       " tensor([ 1.6276,  4.5614, 28.0915, 38.4221, 27.2974]))"
      ]
     },
     "execution_count": 67,
     "metadata": {},
     "output_type": "execute_result"
    }
   ],
   "source": [
    "k*100, p_2_average*100"
   ]
  },
  {
   "cell_type": "code",
   "execution_count": 68,
   "metadata": {
    "execution": {
     "iopub.execute_input": "2022-05-22T14:58:20.479162Z",
     "iopub.status.busy": "2022-05-22T14:58:20.478995Z",
     "iopub.status.idle": "2022-05-22T14:58:20.483420Z",
     "shell.execute_reply": "2022-05-22T14:58:20.482810Z"
    }
   },
   "outputs": [
    {
     "data": {
      "text/plain": [
       "tensor(2.1147)"
      ]
     },
     "execution_count": 68,
     "metadata": {},
     "output_type": "execute_result"
    }
   ],
   "source": [
    "F.binary_cross_entropy(p_2_average, p_2_average, reduction=\"sum\")"
   ]
  },
  {
   "cell_type": "markdown",
   "metadata": {},
   "source": [
    "### Modèle `torch` d'apprentissage:\n",
    "\n",
    "Maintenant que nous avons défini le modèle de transition des probabilités entre les préférences au premier tour et au second tour, nous pouvons maintenant écrire un algorithme d'apprentissage qui permet d'optimiser la concordance entre la prédiction et les observations. \n",
    "\n",
    "Nous allons utiliser les distributions observées $q$ et prédites $\\hat{q}$ (celle-ci dépendant de $M$) pour calculer un coût à minimiser\n",
    "$$\n",
    "\\mathcal{L} =  KL(q, \\hat{q})\n",
    "$$\n",
    "\n",
    "où la [divergence de Kullback-Leibler](https://fr.wikipedia.org/wiki/Divergence_de_Kullback-Leibler) est calculée comme\n",
    "\n",
    "$$\n",
    "KL(P, Q) = \\sum_j P_j \\cdot \\log \\frac {P_j}{Q_j}\n",
    "$$\n",
    "\n",
    "\n",
    "Cette divergence est l'équivalent d'une distance dans les espaces de probabilité. Mathémamatiquement, c'est une semi-normes car elle obéit à deux propriétés fondamentales: elle est toujours positive et est égale à zéro quand elle est appliquée à distributions identiques."
   ]
  },
  {
   "cell_type": "code",
   "execution_count": 69,
   "metadata": {
    "execution": {
     "iopub.execute_input": "2022-05-22T14:58:20.486819Z",
     "iopub.status.busy": "2022-05-22T14:58:20.486617Z",
     "iopub.status.idle": "2022-05-22T14:58:20.504372Z",
     "shell.execute_reply": "2022-05-22T14:58:20.503477Z"
    }
   },
   "outputs": [],
   "source": [
    "import torch.nn.functional as F\n",
    "\n",
    "learning_rate = 0.1\n",
    "beta1, beta2 = 0.99, 0\n",
    "# beta1, beta2 = 0.9, 0.999\n",
    "num_epochs = 2 ** 11 + 1\n",
    "batch_size = 2 ** 10\n",
    "do_optim = True\n",
    "do_optim = False\n",
    "\n",
    "def fit_data(\n",
    "    df_1,\n",
    "    df_2,\n",
    "    learning_rate=learning_rate,\n",
    "    batch_size=batch_size,\n",
    "    num_epochs=num_epochs,\n",
    "    beta1=beta1,\n",
    "    beta2=beta2, \n",
    "    do_optim=do_optim, \n",
    "    split_ratio=.9, \n",
    "    seed=2022, # graine du générateur de nombre aléatoires utilisé dans le split test vs train\n",
    "    verbose=False\n",
    "):\n",
    "\n",
    "    device = torch.device(\"cuda\" if torch.cuda.is_available() else \"cpu\")\n",
    "\n",
    "    N_1er, N_2eme = len(df_1.columns), len(df_2.columns)\n",
    "    trans = TransfertVoix(N_1er, N_2eme)\n",
    "    trans = trans.to(device)\n",
    "    \n",
    "    X_1, X_2 = df_1.values, df_2.values\n",
    "    x_1, x_2 = torch.Tensor(X_1), torch.Tensor(X_2)\n",
    "\n",
    "    # split train and test\n",
    "    dataset = TensorDataset(x_1, x_2)\n",
    "    train_set_size = int(len(dataset) * split_ratio)\n",
    "    test_set_size = len(dataset) - train_set_size\n",
    "    train_set, test_set = random_split(dataset, [train_set_size, test_set_size], generator=torch.Generator().manual_seed(seed))\n",
    "    train_loader = DataLoader(train_set, batch_size=int(batch_size), shuffle=True)\n",
    "\n",
    "    # apprentissage\n",
    "    if beta2==0: \n",
    "        optimizer = torch.optim.SGD(trans.parameters(), lr=learning_rate, momentum=beta1, nesterov=do_optim)\n",
    "    else:\n",
    "        optimizer = torch.optim.Adam(trans.parameters(), lr=learning_rate, betas=(beta1, beta2), amsgrad=do_optim)\n",
    "    optimizer = optimizer.to(device)\n",
    "\n",
    "    for epoch in range(int(num_epochs)):\n",
    "        losses = []\n",
    "        for n_1, n_2 in train_loader:\n",
    "            n_1, n_2 = n_1.to(device), n_2.to(device)\n",
    "            \n",
    "            sum_1, sum_2 = n_1.sum(axis=1), n_2.sum(axis=1)\n",
    "            p_1 = n_1/sum_1[:, None]\n",
    "            p_2 = n_2/sum_2[:, None]\n",
    "\n",
    "            p_2_pred = trans(p_1)\n",
    "            weight = sum_2/sum_2.sum() # donne un poids à chaque bureau de vote proportionnel à sa taille\n",
    "\n",
    "            if False:\n",
    "                ind_nonzero = (p_2==0) + (p_2_pred==0)\n",
    "                p_2[ind_nonzero] = 1.\n",
    "                p_2_pred[ind_nonzero] = 1.\n",
    "\n",
    "                kl_div = p_2 * (p_2.log() - p_2_pred.log())\n",
    "                loss_train = (kl_div * weight[:, None]).sum()\n",
    "            elif False:\n",
    "                div = torch.absolute(p_2 - p_2_pred)\n",
    "                loss_train = (div * weight[:, None]).sum() \n",
    "            else:\n",
    "                loss_train = F.binary_cross_entropy(p_2_pred, p_2, reduction=\"sum\", weight=weight[:, None])\n",
    "                loss_train -= F.binary_cross_entropy(p_2, p_2, reduction=\"sum\", weight=weight[:, None])\n",
    "            optimizer.zero_grad()\n",
    "            loss_train.backward()\n",
    "            optimizer.step()\n",
    "\n",
    "            losses.append(loss_train.item())\n",
    "\n",
    "        if verbose and (epoch % (num_epochs // 32) == 0):\n",
    "            print(f\"Iteration: {epoch} / {num_epochs} - Loss: {np.sum(losses):.5e}\")\n",
    "\n",
    "    loss_train = np.sum(losses) # somme des loss à la dernière époque\n",
    "    loss_train = loss_train/split_ratio # normalise par rapport à la taille du train dataset\n",
    "\n",
    "    # Test\n",
    "    with torch.no_grad():\n",
    "        n_1, n_2 = dataset[test_set.indices]\n",
    "        sum_1, sum_2 = n_1.sum(axis=1), n_2.sum(axis=1)\n",
    "        p_2 = n_2/sum_2[:, None]\n",
    "        p_1 = n_1/sum_1[:, None]\n",
    "        p_2_pred = trans(p_1)\n",
    "        weight = sum_2/sum_2.sum()\n",
    "        loss_test = F.binary_cross_entropy(p_2_pred, p_2, reduction=\"sum\", weight=weight[:, None])\n",
    "        loss_test -= F.binary_cross_entropy(p_2, p_2, reduction=\"sum\", weight=weight[:, None])\n",
    "\n",
    "        loss_test = loss_test/(1-split_ratio) # normalise par rapport à la taille du test dataset\n",
    "\n",
    "    return trans, loss_train, loss_test, p_1.detach().numpy(), p_2.detach().numpy(), p_2_pred.detach().numpy()"
   ]
  },
  {
   "cell_type": "code",
   "execution_count": 70,
   "metadata": {
    "execution": {
     "iopub.execute_input": "2022-05-22T14:58:20.507702Z",
     "iopub.status.busy": "2022-05-22T14:58:20.507249Z",
     "iopub.status.idle": "2022-05-22T14:58:21.062058Z",
     "shell.execute_reply": "2022-05-22T14:58:21.061577Z"
    }
   },
   "outputs": [
    {
     "ename": "TypeError",
     "evalue": "__init__() takes 3 positional arguments but 4 were given",
     "output_type": "error",
     "traceback": [
      "\u001b[0;31m---------------------------------------------------------------------------\u001b[0m",
      "\u001b[0;31mTypeError\u001b[0m                                 Traceback (most recent call last)",
      "Input \u001b[0;32mIn [70]\u001b[0m, in \u001b[0;36m<cell line: 1>\u001b[0;34m()\u001b[0m\n\u001b[0;32m----> 1\u001b[0m trans, loss_train, loss_test, p_1, p_2, p_2_pred \u001b[38;5;241m=\u001b[39m \u001b[43mfit_data\u001b[49m\u001b[43m(\u001b[49m\u001b[43mdf_1\u001b[49m\u001b[43m,\u001b[49m\u001b[43m \u001b[49m\u001b[43mdf_2\u001b[49m\u001b[43m,\u001b[49m\u001b[43m \u001b[49m\u001b[43mverbose\u001b[49m\u001b[38;5;241;43m=\u001b[39;49m\u001b[38;5;28;43;01mTrue\u001b[39;49;00m\u001b[43m)\u001b[49m\n",
      "Input \u001b[0;32mIn [69]\u001b[0m, in \u001b[0;36mfit_data\u001b[0;34m(df_1, df_2, learning_rate, batch_size, num_epochs, beta1, beta2, do_optim, split_ratio, seed, verbose)\u001b[0m\n\u001b[1;32m     25\u001b[0m device \u001b[38;5;241m=\u001b[39m torch\u001b[38;5;241m.\u001b[39mdevice(\u001b[38;5;124m\"\u001b[39m\u001b[38;5;124mcuda\u001b[39m\u001b[38;5;124m\"\u001b[39m \u001b[38;5;28;01mif\u001b[39;00m torch\u001b[38;5;241m.\u001b[39mcuda\u001b[38;5;241m.\u001b[39mis_available() \u001b[38;5;28;01melse\u001b[39;00m \u001b[38;5;124m\"\u001b[39m\u001b[38;5;124mcpu\u001b[39m\u001b[38;5;124m\"\u001b[39m)\n\u001b[1;32m     27\u001b[0m N_1er, N_2eme \u001b[38;5;241m=\u001b[39m \u001b[38;5;28mlen\u001b[39m(df_1\u001b[38;5;241m.\u001b[39mcolumns), \u001b[38;5;28mlen\u001b[39m(df_2\u001b[38;5;241m.\u001b[39mcolumns)\n\u001b[0;32m---> 28\u001b[0m trans \u001b[38;5;241m=\u001b[39m \u001b[43mTransfertVoix\u001b[49m\u001b[43m(\u001b[49m\u001b[43mN_1er\u001b[49m\u001b[43m,\u001b[49m\u001b[43m \u001b[49m\u001b[43mN_2eme\u001b[49m\u001b[43m,\u001b[49m\u001b[43m \u001b[49m\u001b[43mdevice\u001b[49m\u001b[43m)\u001b[49m\u001b[38;5;241m.\u001b[39mto(device)\n\u001b[1;32m     30\u001b[0m X_1, X_2 \u001b[38;5;241m=\u001b[39m df_1\u001b[38;5;241m.\u001b[39mvalues, df_2\u001b[38;5;241m.\u001b[39mvalues\n\u001b[1;32m     31\u001b[0m x_1, x_2 \u001b[38;5;241m=\u001b[39m torch\u001b[38;5;241m.\u001b[39mTensor(X_1), torch\u001b[38;5;241m.\u001b[39mTensor(X_2)\n",
      "\u001b[0;31mTypeError\u001b[0m: __init__() takes 3 positional arguments but 4 were given"
     ]
    }
   ],
   "source": [
    "trans, loss_train, loss_test, p_1, p_2, p_2_pred = fit_data(df_1, df_2, verbose=True)"
   ]
  },
  {
   "cell_type": "code",
   "execution_count": 71,
   "metadata": {
    "execution": {
     "iopub.execute_input": "2022-05-22T14:58:21.067382Z",
     "iopub.status.busy": "2022-05-22T14:58:21.067012Z",
     "iopub.status.idle": "2022-05-22T14:58:23.273951Z",
     "shell.execute_reply": "2022-05-22T14:58:23.272513Z"
    }
   },
   "outputs": [
    {
     "ename": "RuntimeError",
     "evalue": "Can't call numpy() on Tensor that requires grad. Use tensor.detach().numpy() instead.",
     "output_type": "error",
     "traceback": [
      "\u001b[0;31m---------------------------------------------------------------------------\u001b[0m",
      "\u001b[0;31mRuntimeError\u001b[0m                              Traceback (most recent call last)",
      "Input \u001b[0;32mIn [71]\u001b[0m, in \u001b[0;36m<cell line: 2>\u001b[0;34m()\u001b[0m\n\u001b[1;32m      2\u001b[0m \u001b[38;5;28;01mfor\u001b[39;00m i_col, candidat \u001b[38;5;129;01min\u001b[39;00m \u001b[38;5;28menumerate\u001b[39m(df_2\u001b[38;5;241m.\u001b[39mcolumns):\n\u001b[1;32m      3\u001b[0m     \u001b[38;5;66;03m#axs[i_col].scatter(p_2[:,i_col], p_2_pred[:,i_col], alpha=.005)\u001b[39;00m\n\u001b[1;32m      4\u001b[0m     axs[i_col]\u001b[38;5;241m.\u001b[39mplot([\u001b[38;5;241m0\u001b[39m, \u001b[38;5;241m1\u001b[39m], [\u001b[38;5;241m0\u001b[39m, \u001b[38;5;241m1\u001b[39m], \u001b[38;5;124m'\u001b[39m\u001b[38;5;124mr--\u001b[39m\u001b[38;5;124m'\u001b[39m)\n\u001b[0;32m----> 5\u001b[0m     \u001b[43msns\u001b[49m\u001b[38;5;241;43m.\u001b[39;49m\u001b[43mhistplot\u001b[49m\u001b[43m(\u001b[49m\u001b[43mx\u001b[49m\u001b[38;5;241;43m=\u001b[39;49m\u001b[43mp_2\u001b[49m\u001b[43m[\u001b[49m\u001b[43m:\u001b[49m\u001b[43m,\u001b[49m\u001b[43m \u001b[49m\u001b[43mi_col\u001b[49m\u001b[43m]\u001b[49m\u001b[43m,\u001b[49m\u001b[43m \u001b[49m\u001b[43my\u001b[49m\u001b[38;5;241;43m=\u001b[39;49m\u001b[43mp_2_pred\u001b[49m\u001b[43m[\u001b[49m\u001b[43m:\u001b[49m\u001b[43m,\u001b[49m\u001b[43m \u001b[49m\u001b[43mi_col\u001b[49m\u001b[43m]\u001b[49m\u001b[43m,\u001b[49m\u001b[43m \u001b[49m\u001b[43max\u001b[49m\u001b[38;5;241;43m=\u001b[39;49m\u001b[43maxs\u001b[49m\u001b[43m[\u001b[49m\u001b[43mi_col\u001b[49m\u001b[43m]\u001b[49m\u001b[43m)\u001b[49m\n\u001b[1;32m      6\u001b[0m     axs[i_col]\u001b[38;5;241m.\u001b[39mset_xlabel(candidat)\n\u001b[1;32m      7\u001b[0m     axs[i_col]\u001b[38;5;241m.\u001b[39mset_xlim(\u001b[38;5;241m0\u001b[39m, \u001b[38;5;241m1\u001b[39m)\n",
      "File \u001b[0;32m~/.local/lib/python3.8/site-packages/seaborn/distributions.py:1430\u001b[0m, in \u001b[0;36mhistplot\u001b[0;34m(data, x, y, hue, weights, stat, bins, binwidth, binrange, discrete, cumulative, common_bins, common_norm, multiple, element, fill, shrink, kde, kde_kws, line_kws, thresh, pthresh, pmax, cbar, cbar_ax, cbar_kws, palette, hue_order, hue_norm, color, log_scale, legend, ax, **kwargs)\u001b[0m\n\u001b[1;32m   1409\u001b[0m \u001b[38;5;28;01mdef\u001b[39;00m \u001b[38;5;21mhistplot\u001b[39m(\n\u001b[1;32m   1410\u001b[0m     data\u001b[38;5;241m=\u001b[39m\u001b[38;5;28;01mNone\u001b[39;00m, \u001b[38;5;241m*\u001b[39m,\n\u001b[1;32m   1411\u001b[0m     \u001b[38;5;66;03m# Vector variables\u001b[39;00m\n\u001b[0;32m   (...)\u001b[0m\n\u001b[1;32m   1427\u001b[0m     \u001b[38;5;241m*\u001b[39m\u001b[38;5;241m*\u001b[39mkwargs,\n\u001b[1;32m   1428\u001b[0m ):\n\u001b[0;32m-> 1430\u001b[0m     p \u001b[38;5;241m=\u001b[39m \u001b[43m_DistributionPlotter\u001b[49m\u001b[43m(\u001b[49m\n\u001b[1;32m   1431\u001b[0m \u001b[43m        \u001b[49m\u001b[43mdata\u001b[49m\u001b[38;5;241;43m=\u001b[39;49m\u001b[43mdata\u001b[49m\u001b[43m,\u001b[49m\n\u001b[1;32m   1432\u001b[0m \u001b[43m        \u001b[49m\u001b[43mvariables\u001b[49m\u001b[38;5;241;43m=\u001b[39;49m\u001b[43m_DistributionPlotter\u001b[49m\u001b[38;5;241;43m.\u001b[39;49m\u001b[43mget_semantics\u001b[49m\u001b[43m(\u001b[49m\u001b[38;5;28;43mlocals\u001b[39;49m\u001b[43m(\u001b[49m\u001b[43m)\u001b[49m\u001b[43m)\u001b[49m\n\u001b[1;32m   1433\u001b[0m \u001b[43m    \u001b[49m\u001b[43m)\u001b[49m\n\u001b[1;32m   1435\u001b[0m     p\u001b[38;5;241m.\u001b[39mmap_hue(palette\u001b[38;5;241m=\u001b[39mpalette, order\u001b[38;5;241m=\u001b[39mhue_order, norm\u001b[38;5;241m=\u001b[39mhue_norm)\n\u001b[1;32m   1437\u001b[0m     \u001b[38;5;28;01mif\u001b[39;00m ax \u001b[38;5;129;01mis\u001b[39;00m \u001b[38;5;28;01mNone\u001b[39;00m:\n",
      "File \u001b[0;32m~/.local/lib/python3.8/site-packages/seaborn/distributions.py:111\u001b[0m, in \u001b[0;36m_DistributionPlotter.__init__\u001b[0;34m(self, data, variables)\u001b[0m\n\u001b[1;32m    105\u001b[0m \u001b[38;5;28;01mdef\u001b[39;00m \u001b[38;5;21m__init__\u001b[39m(\n\u001b[1;32m    106\u001b[0m     \u001b[38;5;28mself\u001b[39m,\n\u001b[1;32m    107\u001b[0m     data\u001b[38;5;241m=\u001b[39m\u001b[38;5;28;01mNone\u001b[39;00m,\n\u001b[1;32m    108\u001b[0m     variables\u001b[38;5;241m=\u001b[39m{},\n\u001b[1;32m    109\u001b[0m ):\n\u001b[0;32m--> 111\u001b[0m     \u001b[38;5;28;43msuper\u001b[39;49m\u001b[43m(\u001b[49m\u001b[43m)\u001b[49m\u001b[38;5;241;43m.\u001b[39;49m\u001b[38;5;21;43m__init__\u001b[39;49m\u001b[43m(\u001b[49m\u001b[43mdata\u001b[49m\u001b[38;5;241;43m=\u001b[39;49m\u001b[43mdata\u001b[49m\u001b[43m,\u001b[49m\u001b[43m \u001b[49m\u001b[43mvariables\u001b[49m\u001b[38;5;241;43m=\u001b[39;49m\u001b[43mvariables\u001b[49m\u001b[43m)\u001b[49m\n",
      "File \u001b[0;32m~/.local/lib/python3.8/site-packages/seaborn/_core.py:605\u001b[0m, in \u001b[0;36mVectorPlotter.__init__\u001b[0;34m(self, data, variables)\u001b[0m\n\u001b[1;32m    603\u001b[0m \u001b[38;5;28;01mdef\u001b[39;00m \u001b[38;5;21m__init__\u001b[39m(\u001b[38;5;28mself\u001b[39m, data\u001b[38;5;241m=\u001b[39m\u001b[38;5;28;01mNone\u001b[39;00m, variables\u001b[38;5;241m=\u001b[39m{}):\n\u001b[0;32m--> 605\u001b[0m     \u001b[38;5;28;43mself\u001b[39;49m\u001b[38;5;241;43m.\u001b[39;49m\u001b[43massign_variables\u001b[49m\u001b[43m(\u001b[49m\u001b[43mdata\u001b[49m\u001b[43m,\u001b[49m\u001b[43m \u001b[49m\u001b[43mvariables\u001b[49m\u001b[43m)\u001b[49m\n\u001b[1;32m    607\u001b[0m     \u001b[38;5;28;01mfor\u001b[39;00m var, \u001b[38;5;28mcls\u001b[39m \u001b[38;5;129;01min\u001b[39;00m \u001b[38;5;28mself\u001b[39m\u001b[38;5;241m.\u001b[39m_semantic_mappings\u001b[38;5;241m.\u001b[39mitems():\n\u001b[1;32m    608\u001b[0m \n\u001b[1;32m    609\u001b[0m         \u001b[38;5;66;03m# Create the mapping function\u001b[39;00m\n\u001b[1;32m    610\u001b[0m         map_func \u001b[38;5;241m=\u001b[39m partial(\u001b[38;5;28mcls\u001b[39m\u001b[38;5;241m.\u001b[39mmap, plotter\u001b[38;5;241m=\u001b[39m\u001b[38;5;28mself\u001b[39m)\n",
      "File \u001b[0;32m~/.local/lib/python3.8/site-packages/seaborn/_core.py:668\u001b[0m, in \u001b[0;36mVectorPlotter.assign_variables\u001b[0;34m(self, data, variables)\u001b[0m\n\u001b[1;32m    666\u001b[0m \u001b[38;5;28;01melse\u001b[39;00m:\n\u001b[1;32m    667\u001b[0m     \u001b[38;5;28mself\u001b[39m\u001b[38;5;241m.\u001b[39minput_format \u001b[38;5;241m=\u001b[39m \u001b[38;5;124m\"\u001b[39m\u001b[38;5;124mlong\u001b[39m\u001b[38;5;124m\"\u001b[39m\n\u001b[0;32m--> 668\u001b[0m     plot_data, variables \u001b[38;5;241m=\u001b[39m \u001b[38;5;28;43mself\u001b[39;49m\u001b[38;5;241;43m.\u001b[39;49m\u001b[43m_assign_variables_longform\u001b[49m\u001b[43m(\u001b[49m\n\u001b[1;32m    669\u001b[0m \u001b[43m        \u001b[49m\u001b[43mdata\u001b[49m\u001b[43m,\u001b[49m\u001b[43m \u001b[49m\u001b[38;5;241;43m*\u001b[39;49m\u001b[38;5;241;43m*\u001b[39;49m\u001b[43mvariables\u001b[49m\u001b[43m,\u001b[49m\n\u001b[1;32m    670\u001b[0m \u001b[43m    \u001b[49m\u001b[43m)\u001b[49m\n\u001b[1;32m    672\u001b[0m \u001b[38;5;28mself\u001b[39m\u001b[38;5;241m.\u001b[39mplot_data \u001b[38;5;241m=\u001b[39m plot_data\n\u001b[1;32m    673\u001b[0m \u001b[38;5;28mself\u001b[39m\u001b[38;5;241m.\u001b[39mvariables \u001b[38;5;241m=\u001b[39m variables\n",
      "File \u001b[0;32m~/.local/lib/python3.8/site-packages/seaborn/_core.py:927\u001b[0m, in \u001b[0;36mVectorPlotter._assign_variables_longform\u001b[0;34m(self, data, **kwargs)\u001b[0m\n\u001b[1;32m    923\u001b[0m         variables[key] \u001b[38;5;241m=\u001b[39m \u001b[38;5;28mgetattr\u001b[39m(val, \u001b[38;5;124m\"\u001b[39m\u001b[38;5;124mname\u001b[39m\u001b[38;5;124m\"\u001b[39m, \u001b[38;5;28;01mNone\u001b[39;00m)\n\u001b[1;32m    925\u001b[0m \u001b[38;5;66;03m# Construct a tidy plot DataFrame. This will convert a number of\u001b[39;00m\n\u001b[1;32m    926\u001b[0m \u001b[38;5;66;03m# types automatically, aligning on index in case of pandas objects\u001b[39;00m\n\u001b[0;32m--> 927\u001b[0m plot_data \u001b[38;5;241m=\u001b[39m \u001b[43mpd\u001b[49m\u001b[38;5;241;43m.\u001b[39;49m\u001b[43mDataFrame\u001b[49m\u001b[43m(\u001b[49m\u001b[43mplot_data\u001b[49m\u001b[43m)\u001b[49m\n\u001b[1;32m    929\u001b[0m \u001b[38;5;66;03m# Reduce the variables dictionary to fields with valid data\u001b[39;00m\n\u001b[1;32m    930\u001b[0m variables \u001b[38;5;241m=\u001b[39m {\n\u001b[1;32m    931\u001b[0m     var: name\n\u001b[1;32m    932\u001b[0m     \u001b[38;5;28;01mfor\u001b[39;00m var, name \u001b[38;5;129;01min\u001b[39;00m variables\u001b[38;5;241m.\u001b[39mitems()\n\u001b[1;32m    933\u001b[0m     \u001b[38;5;28;01mif\u001b[39;00m plot_data[var]\u001b[38;5;241m.\u001b[39mnotnull()\u001b[38;5;241m.\u001b[39many()\n\u001b[1;32m    934\u001b[0m }\n",
      "File \u001b[0;32m~/.local/lib/python3.8/site-packages/pandas/core/frame.py:636\u001b[0m, in \u001b[0;36mDataFrame.__init__\u001b[0;34m(self, data, index, columns, dtype, copy)\u001b[0m\n\u001b[1;32m    630\u001b[0m     mgr \u001b[38;5;241m=\u001b[39m \u001b[38;5;28mself\u001b[39m\u001b[38;5;241m.\u001b[39m_init_mgr(\n\u001b[1;32m    631\u001b[0m         data, axes\u001b[38;5;241m=\u001b[39m{\u001b[38;5;124m\"\u001b[39m\u001b[38;5;124mindex\u001b[39m\u001b[38;5;124m\"\u001b[39m: index, \u001b[38;5;124m\"\u001b[39m\u001b[38;5;124mcolumns\u001b[39m\u001b[38;5;124m\"\u001b[39m: columns}, dtype\u001b[38;5;241m=\u001b[39mdtype, copy\u001b[38;5;241m=\u001b[39mcopy\n\u001b[1;32m    632\u001b[0m     )\n\u001b[1;32m    634\u001b[0m \u001b[38;5;28;01melif\u001b[39;00m \u001b[38;5;28misinstance\u001b[39m(data, \u001b[38;5;28mdict\u001b[39m):\n\u001b[1;32m    635\u001b[0m     \u001b[38;5;66;03m# GH#38939 de facto copy defaults to False only in non-dict cases\u001b[39;00m\n\u001b[0;32m--> 636\u001b[0m     mgr \u001b[38;5;241m=\u001b[39m \u001b[43mdict_to_mgr\u001b[49m\u001b[43m(\u001b[49m\u001b[43mdata\u001b[49m\u001b[43m,\u001b[49m\u001b[43m \u001b[49m\u001b[43mindex\u001b[49m\u001b[43m,\u001b[49m\u001b[43m \u001b[49m\u001b[43mcolumns\u001b[49m\u001b[43m,\u001b[49m\u001b[43m \u001b[49m\u001b[43mdtype\u001b[49m\u001b[38;5;241;43m=\u001b[39;49m\u001b[43mdtype\u001b[49m\u001b[43m,\u001b[49m\u001b[43m \u001b[49m\u001b[43mcopy\u001b[49m\u001b[38;5;241;43m=\u001b[39;49m\u001b[43mcopy\u001b[49m\u001b[43m,\u001b[49m\u001b[43m \u001b[49m\u001b[43mtyp\u001b[49m\u001b[38;5;241;43m=\u001b[39;49m\u001b[43mmanager\u001b[49m\u001b[43m)\u001b[49m\n\u001b[1;32m    637\u001b[0m \u001b[38;5;28;01melif\u001b[39;00m \u001b[38;5;28misinstance\u001b[39m(data, ma\u001b[38;5;241m.\u001b[39mMaskedArray):\n\u001b[1;32m    638\u001b[0m     \u001b[38;5;28;01mimport\u001b[39;00m \u001b[38;5;21;01mnumpy\u001b[39;00m\u001b[38;5;21;01m.\u001b[39;00m\u001b[38;5;21;01mma\u001b[39;00m\u001b[38;5;21;01m.\u001b[39;00m\u001b[38;5;21;01mmrecords\u001b[39;00m \u001b[38;5;28;01mas\u001b[39;00m \u001b[38;5;21;01mmrecords\u001b[39;00m\n",
      "File \u001b[0;32m~/.local/lib/python3.8/site-packages/pandas/core/internals/construction.py:502\u001b[0m, in \u001b[0;36mdict_to_mgr\u001b[0;34m(data, index, columns, dtype, typ, copy)\u001b[0m\n\u001b[1;32m    494\u001b[0m     arrays \u001b[38;5;241m=\u001b[39m [\n\u001b[1;32m    495\u001b[0m         x\n\u001b[1;32m    496\u001b[0m         \u001b[38;5;28;01mif\u001b[39;00m \u001b[38;5;129;01mnot\u001b[39;00m \u001b[38;5;28mhasattr\u001b[39m(x, \u001b[38;5;124m\"\u001b[39m\u001b[38;5;124mdtype\u001b[39m\u001b[38;5;124m\"\u001b[39m) \u001b[38;5;129;01mor\u001b[39;00m \u001b[38;5;129;01mnot\u001b[39;00m \u001b[38;5;28misinstance\u001b[39m(x\u001b[38;5;241m.\u001b[39mdtype, ExtensionDtype)\n\u001b[1;32m    497\u001b[0m         \u001b[38;5;28;01melse\u001b[39;00m x\u001b[38;5;241m.\u001b[39mcopy()\n\u001b[1;32m    498\u001b[0m         \u001b[38;5;28;01mfor\u001b[39;00m x \u001b[38;5;129;01min\u001b[39;00m arrays\n\u001b[1;32m    499\u001b[0m     ]\n\u001b[1;32m    500\u001b[0m     \u001b[38;5;66;03m# TODO: can we get rid of the dt64tz special case above?\u001b[39;00m\n\u001b[0;32m--> 502\u001b[0m \u001b[38;5;28;01mreturn\u001b[39;00m \u001b[43marrays_to_mgr\u001b[49m\u001b[43m(\u001b[49m\u001b[43marrays\u001b[49m\u001b[43m,\u001b[49m\u001b[43m \u001b[49m\u001b[43mcolumns\u001b[49m\u001b[43m,\u001b[49m\u001b[43m \u001b[49m\u001b[43mindex\u001b[49m\u001b[43m,\u001b[49m\u001b[43m \u001b[49m\u001b[43mdtype\u001b[49m\u001b[38;5;241;43m=\u001b[39;49m\u001b[43mdtype\u001b[49m\u001b[43m,\u001b[49m\u001b[43m \u001b[49m\u001b[43mtyp\u001b[49m\u001b[38;5;241;43m=\u001b[39;49m\u001b[43mtyp\u001b[49m\u001b[43m,\u001b[49m\u001b[43m \u001b[49m\u001b[43mconsolidate\u001b[49m\u001b[38;5;241;43m=\u001b[39;49m\u001b[43mcopy\u001b[49m\u001b[43m)\u001b[49m\n",
      "File \u001b[0;32m~/.local/lib/python3.8/site-packages/pandas/core/internals/construction.py:125\u001b[0m, in \u001b[0;36marrays_to_mgr\u001b[0;34m(arrays, columns, index, dtype, verify_integrity, typ, consolidate)\u001b[0m\n\u001b[1;32m    122\u001b[0m         index \u001b[38;5;241m=\u001b[39m ensure_index(index)\n\u001b[1;32m    124\u001b[0m     \u001b[38;5;66;03m# don't force copy because getting jammed in an ndarray anyway\u001b[39;00m\n\u001b[0;32m--> 125\u001b[0m     arrays \u001b[38;5;241m=\u001b[39m \u001b[43m_homogenize\u001b[49m\u001b[43m(\u001b[49m\u001b[43marrays\u001b[49m\u001b[43m,\u001b[49m\u001b[43m \u001b[49m\u001b[43mindex\u001b[49m\u001b[43m,\u001b[49m\u001b[43m \u001b[49m\u001b[43mdtype\u001b[49m\u001b[43m)\u001b[49m\n\u001b[1;32m    126\u001b[0m     \u001b[38;5;66;03m# _homogenize ensures\u001b[39;00m\n\u001b[1;32m    127\u001b[0m     \u001b[38;5;66;03m#  - all(len(x) == len(index) for x in arrays)\u001b[39;00m\n\u001b[1;32m    128\u001b[0m     \u001b[38;5;66;03m#  - all(x.ndim == 1 for x in arrays)\u001b[39;00m\n\u001b[0;32m   (...)\u001b[0m\n\u001b[1;32m    131\u001b[0m \n\u001b[1;32m    132\u001b[0m \u001b[38;5;28;01melse\u001b[39;00m:\n\u001b[1;32m    133\u001b[0m     index \u001b[38;5;241m=\u001b[39m ensure_index(index)\n",
      "File \u001b[0;32m~/.local/lib/python3.8/site-packages/pandas/core/internals/construction.py:625\u001b[0m, in \u001b[0;36m_homogenize\u001b[0;34m(data, index, dtype)\u001b[0m\n\u001b[1;32m    622\u001b[0m             val \u001b[38;5;241m=\u001b[39m \u001b[38;5;28mdict\u001b[39m(val)\n\u001b[1;32m    623\u001b[0m         val \u001b[38;5;241m=\u001b[39m lib\u001b[38;5;241m.\u001b[39mfast_multiget(val, oindex\u001b[38;5;241m.\u001b[39m_values, default\u001b[38;5;241m=\u001b[39mnp\u001b[38;5;241m.\u001b[39mnan)\n\u001b[0;32m--> 625\u001b[0m     val \u001b[38;5;241m=\u001b[39m \u001b[43msanitize_array\u001b[49m\u001b[43m(\u001b[49m\n\u001b[1;32m    626\u001b[0m \u001b[43m        \u001b[49m\u001b[43mval\u001b[49m\u001b[43m,\u001b[49m\u001b[43m \u001b[49m\u001b[43mindex\u001b[49m\u001b[43m,\u001b[49m\u001b[43m \u001b[49m\u001b[43mdtype\u001b[49m\u001b[38;5;241;43m=\u001b[39;49m\u001b[43mdtype\u001b[49m\u001b[43m,\u001b[49m\u001b[43m \u001b[49m\u001b[43mcopy\u001b[49m\u001b[38;5;241;43m=\u001b[39;49m\u001b[38;5;28;43;01mFalse\u001b[39;49;00m\u001b[43m,\u001b[49m\u001b[43m \u001b[49m\u001b[43mraise_cast_failure\u001b[49m\u001b[38;5;241;43m=\u001b[39;49m\u001b[38;5;28;43;01mFalse\u001b[39;49;00m\n\u001b[1;32m    627\u001b[0m \u001b[43m    \u001b[49m\u001b[43m)\u001b[49m\n\u001b[1;32m    628\u001b[0m     com\u001b[38;5;241m.\u001b[39mrequire_length_match(val, index)\n\u001b[1;32m    630\u001b[0m homogenized\u001b[38;5;241m.\u001b[39mappend(val)\n",
      "File \u001b[0;32m~/.local/lib/python3.8/site-packages/pandas/core/construction.py:586\u001b[0m, in \u001b[0;36msanitize_array\u001b[0;34m(data, index, dtype, copy, raise_cast_failure, allow_2d)\u001b[0m\n\u001b[1;32m    583\u001b[0m \u001b[38;5;66;03m# materialize e.g. generators, convert e.g. tuples, abc.ValueView\u001b[39;00m\n\u001b[1;32m    584\u001b[0m \u001b[38;5;28;01mif\u001b[39;00m \u001b[38;5;28mhasattr\u001b[39m(data, \u001b[38;5;124m\"\u001b[39m\u001b[38;5;124m__array__\u001b[39m\u001b[38;5;124m\"\u001b[39m):\n\u001b[1;32m    585\u001b[0m     \u001b[38;5;66;03m# e.g. dask array GH#38645\u001b[39;00m\n\u001b[0;32m--> 586\u001b[0m     data \u001b[38;5;241m=\u001b[39m \u001b[43mnp\u001b[49m\u001b[38;5;241;43m.\u001b[39;49m\u001b[43masarray\u001b[49m\u001b[43m(\u001b[49m\u001b[43mdata\u001b[49m\u001b[43m)\u001b[49m\n\u001b[1;32m    587\u001b[0m \u001b[38;5;28;01melse\u001b[39;00m:\n\u001b[1;32m    588\u001b[0m     data \u001b[38;5;241m=\u001b[39m \u001b[38;5;28mlist\u001b[39m(data)\n",
      "File \u001b[0;32m~/.local/lib/python3.8/site-packages/torch/_tensor.py:732\u001b[0m, in \u001b[0;36mTensor.__array__\u001b[0;34m(self, dtype)\u001b[0m\n\u001b[1;32m    730\u001b[0m     \u001b[38;5;28;01mreturn\u001b[39;00m handle_torch_function(Tensor\u001b[38;5;241m.\u001b[39m__array__, (\u001b[38;5;28mself\u001b[39m,), \u001b[38;5;28mself\u001b[39m, dtype\u001b[38;5;241m=\u001b[39mdtype)\n\u001b[1;32m    731\u001b[0m \u001b[38;5;28;01mif\u001b[39;00m dtype \u001b[38;5;129;01mis\u001b[39;00m \u001b[38;5;28;01mNone\u001b[39;00m:\n\u001b[0;32m--> 732\u001b[0m     \u001b[38;5;28;01mreturn\u001b[39;00m \u001b[38;5;28;43mself\u001b[39;49m\u001b[38;5;241;43m.\u001b[39;49m\u001b[43mnumpy\u001b[49m\u001b[43m(\u001b[49m\u001b[43m)\u001b[49m\n\u001b[1;32m    733\u001b[0m \u001b[38;5;28;01melse\u001b[39;00m:\n\u001b[1;32m    734\u001b[0m     \u001b[38;5;28;01mreturn\u001b[39;00m \u001b[38;5;28mself\u001b[39m\u001b[38;5;241m.\u001b[39mnumpy()\u001b[38;5;241m.\u001b[39mastype(dtype, copy\u001b[38;5;241m=\u001b[39m\u001b[38;5;28;01mFalse\u001b[39;00m)\n",
      "\u001b[0;31mRuntimeError\u001b[0m: Can't call numpy() on Tensor that requires grad. Use tensor.detach().numpy() instead."
     ]
    },
    {
     "data": {
      "image/png": "[encoded data removed]",
      "text/plain": [
       "<Figure size 936x216 with 5 Axes>"
      ]
     },
     "metadata": {
      "needs_background": "light"
     },
     "output_type": "display_data"
    }
   ],
   "source": [
    "fig, axs = plt.subplots(1, N_2eme, figsize=(13, 3))\n",
    "for i_col, candidat in enumerate(df_2.columns):\n",
    "    #axs[i_col].scatter(p_2[:,i_col], p_2_pred[:,i_col], alpha=.005)\n",
    "    axs[i_col].plot([0, 1], [0, 1], 'r--')\n",
    "    sns.histplot(x=p_2[:, i_col], y=p_2_pred[:, i_col], ax=axs[i_col])\n",
    "    axs[i_col].set_xlabel(candidat)\n",
    "    axs[i_col].set_xlim(0, 1)\n",
    "    axs[i_col].set_ylim(0, 1)"
   ]
  },
  {
   "cell_type": "markdown",
   "metadata": {},
   "source": [
    "Ces graphiques représentent en abscisse les probabilités observées et en ordonnée les probabilités prédites. L'intérieur du graphique représente au niveau de bleu l'histogramme des différentes valeurs telles qu'elles sont observés sur la base de test, c'est-à-dire sur 10 % de l'ensemble des bureeaux de vote."
   ]
  },
  {
   "cell_type": "markdown",
   "metadata": {},
   "source": [
    "On peut maintenant récupérer du modèle la matrice de transition qui a été inférée grâce a notre apprentissage automatique :"
   ]
  },
  {
   "cell_type": "code",
   "execution_count": 72,
   "metadata": {
    "execution": {
     "iopub.execute_input": "2022-05-22T14:58:23.279562Z",
     "iopub.status.busy": "2022-05-22T14:58:23.279128Z",
     "iopub.status.idle": "2022-05-22T14:58:23.292650Z",
     "shell.execute_reply": "2022-05-22T14:58:23.290600Z"
    }
   },
   "outputs": [
    {
     "data": {
      "text/plain": [
       "array([[0.02137125, 0.04224999, 0.02526413, 0.18718964, 0.00686372],\n",
       "       [0.01123333, 0.23882449, 0.05960327, 0.03540176, 0.0971593 ],\n",
       "       [0.03678129, 0.02095245, 0.05790204, 0.26842096, 0.00991886],\n",
       "       [0.10465585, 0.01588638, 0.0210231 , 0.04800725, 0.10861614],\n",
       "       [0.12138133, 0.1100813 , 0.16400768, 0.02137403, 0.09536724],\n",
       "       [0.02594683, 0.13518688, 0.08478791, 0.02152416, 0.20667855],\n",
       "       [0.01280456, 0.01800105, 0.05900053, 0.0204137 , 0.12134226],\n",
       "       [0.00519034, 0.00802428, 0.01779152, 0.02948692, 0.01737702],\n",
       "       [0.1471673 , 0.00869095, 0.29170164, 0.15266432, 0.03128861],\n",
       "       [0.04274692, 0.07232213, 0.01676524, 0.01135558, 0.12575655],\n",
       "       [0.02535047, 0.03117482, 0.01794927, 0.04707862, 0.03339138],\n",
       "       [0.00839267, 0.18702969, 0.05395452, 0.01966032, 0.0118628 ],\n",
       "       [0.04076371, 0.06369615, 0.06376483, 0.03696799, 0.00724225],\n",
       "       [0.29417598, 0.00987536, 0.02258081, 0.06693549, 0.02069241],\n",
       "       [0.1020381 , 0.03800407, 0.04390348, 0.03351931, 0.10644287]],\n",
       "      dtype=float32)"
      ]
     },
     "execution_count": 72,
     "metadata": {},
     "output_type": "execute_result"
    }
   ],
   "source": [
    "M = torch.softmax(trans.M, axis=0).detach().numpy()\n",
    "M"
   ]
  },
  {
   "cell_type": "markdown",
   "metadata": {},
   "source": [
    "On vérifie dans un premier temps que la contrainte est toujours bien respectée :"
   ]
  },
  {
   "cell_type": "code",
   "execution_count": 73,
   "metadata": {
    "execution": {
     "iopub.execute_input": "2022-05-22T14:58:23.296775Z",
     "iopub.status.busy": "2022-05-22T14:58:23.296502Z",
     "iopub.status.idle": "2022-05-22T14:58:23.301675Z",
     "shell.execute_reply": "2022-05-22T14:58:23.301072Z"
    }
   },
   "outputs": [
    {
     "data": {
      "text/plain": [
       "(array([0.99999994, 1.0000001 , 0.99999994, 1.        , 1.        ],\n",
       "       dtype=float32),\n",
       " (15, 5))"
      ]
     },
     "execution_count": 73,
     "metadata": {},
     "output_type": "execute_result"
    }
   ],
   "source": [
    "M.sum(axis=0), M.shape"
   ]
  },
  {
   "cell_type": "markdown",
   "metadata": {},
   "source": [
    "Nous allons nous inspirer d'[un graphique de la galerie matplotlib](https://matplotlib.org/stable/gallery/misc/table_demo.html#sphx-glr-gallery-misc-table-demo-py) pour représenter la la proportion des report de voir en fonction de chacun des choix FE au deuxième tour :"
   ]
  },
  {
   "cell_type": "code",
   "execution_count": 74,
   "metadata": {
    "execution": {
     "iopub.execute_input": "2022-05-22T14:58:23.304218Z",
     "iopub.status.busy": "2022-05-22T14:58:23.304058Z",
     "iopub.status.idle": "2022-05-22T14:58:24.181915Z",
     "shell.execute_reply": "2022-05-22T14:58:24.181080Z"
    }
   },
   "outputs": [
    {
     "data": {
      "image/png": "[encoded data removed]",
      "text/plain": [
       "<Figure size 936x936 with 1 Axes>"
      ]
     },
     "metadata": {
      "needs_background": "light"
     },
     "output_type": "display_data"
    }
   ],
   "source": [
    "fig, ax = plt.subplots(figsize=(13, 13))\n",
    "\n",
    "columns = df_2.columns\n",
    "rows = df_1.columns\n",
    "\n",
    "# Get some shades for the colors\n",
    "colors = plt.cm.tab20c(np.linspace(0, 1, len(rows)))\n",
    "n_rows = len(rows)\n",
    "\n",
    "index = np.arange(len(columns)) + 0.3\n",
    "bar_width = 0.4\n",
    "\n",
    "# Initialize the vertical-offset for the stacked bar chart.\n",
    "y_offset = np.zeros(len(columns))\n",
    "\n",
    "# Plot bars and create text labels for the table\n",
    "cell_text = []\n",
    "for row in range(n_rows):\n",
    "    ax.bar(index, M[row]*100, bar_width, bottom=y_offset, color=colors[row])\n",
    "    y_offset = y_offset + M[row]*100\n",
    "    cell_text.append([f'{x*100:1.1f}%' for x in M[row]])\n",
    "ax.set_ylim(0, 100)\n",
    "\n",
    "# Add a table at the bottom of the axes\n",
    "the_table = ax.table(cellText=cell_text,\n",
    "                      rowLabels=rows,\n",
    "                      rowColours=colors,\n",
    "                      colLabels=columns,\n",
    "                      loc='bottom')\n",
    "\n",
    "# Adjust layout to make room for the table:\n",
    "plt.subplots_adjust(left=0.2, bottom=0.2)\n",
    "\n",
    "plt.ylabel(\"Pourcentage de report des voix\")\n",
    "plt.yticks(np.linspace(0, 100, 6, endpoint=True))\n",
    "plt.xticks([])\n",
    "plt.title(\"Report des voix par résultat du 2nd tour\");"
   ]
  },
  {
   "cell_type": "markdown",
   "metadata": {},
   "source": [
    "C'est des données. Ces données correspondent aux intuitions qu'on peut se faire quand au report des votes. Notamment on remarque que la plupart des individus qui s'abstiennent au second tour se sont abstenus au premier (avec une petite proportion de Mélenchon qui se sont abstenus). Remarque aussi que la majorité des électeurs de Le Pen au premier tour en voter pour la même personne au deuxième tour. Environ un quart des électeurs de Le Pen au second tour s'était abstenu au premier."
   ]
  },
  {
   "cell_type": "code",
   "execution_count": 75,
   "metadata": {
    "execution": {
     "iopub.execute_input": "2022-05-22T14:58:24.186456Z",
     "iopub.status.busy": "2022-05-22T14:58:24.186195Z",
     "iopub.status.idle": "2022-05-22T14:58:24.193602Z",
     "shell.execute_reply": "2022-05-22T14:58:24.192752Z"
    }
   },
   "outputs": [
    {
     "data": {
      "text/plain": [
       "array([[ 2.1,  4.2,  2.5, 18.7,  0.7],\n",
       "       [ 1.1, 23.9,  6. ,  3.5,  9.7],\n",
       "       [ 3.7,  2.1,  5.8, 26.8,  1. ],\n",
       "       [10.5,  1.6,  2.1,  4.8, 10.9],\n",
       "       [12.1, 11. , 16.4,  2.1,  9.5],\n",
       "       [ 2.6, 13.5,  8.5,  2.2, 20.7],\n",
       "       [ 1.3,  1.8,  5.9,  2. , 12.1],\n",
       "       [ 0.5,  0.8,  1.8,  2.9,  1.7],\n",
       "       [14.7,  0.9, 29.2, 15.3,  3.1],\n",
       "       [ 4.3,  7.2,  1.7,  1.1, 12.6],\n",
       "       [ 2.5,  3.1,  1.8,  4.7,  3.3],\n",
       "       [ 0.8, 18.7,  5.4,  2. ,  1.2],\n",
       "       [ 4.1,  6.4,  6.4,  3.7,  0.7],\n",
       "       [29.4,  1. ,  2.3,  6.7,  2.1],\n",
       "       [10.2,  3.8,  4.4,  3.4, 10.6]], dtype=float32)"
      ]
     },
     "execution_count": 75,
     "metadata": {},
     "output_type": "execute_result"
    }
   ],
   "source": [
    "np.set_printoptions(precision=1)\n",
    "np.set_printoptions(suppress=True)\n",
    "M*100"
   ]
  },
  {
   "cell_type": "markdown",
   "metadata": {},
   "source": [
    "On observe aussi quelques points intéressants dans les votes nuls qui proviennent majoritairement de voteur \"nul\" au premier tour (40 %) et ensuite par des électeurs ayant voté pour des candidats marginaux au premier tour (Arnaud, Lassalle, Hidalgo). On observe à peu près la même structure pour les voteurs \"blanc\" avec cette particularité que les individus ayant voté pour Jadot au premier tour ont relativement plus exprimé de votes \"blanc\" (~12 %) par rapport à ce qu'on observe pour les votes \"nul\". On rappelle qu'en France, un vote nul est un bulletin qui n'a pas été validé car il est par exemple raturé alors qu'un vote blanc est exprimé par un bulletin de vote totalement blanc (et qu'il faut préparer en avance). On peut donc expliquer ce dernier par rapport aux particularités du vote écologiques liés aux candidat Jadot."
   ]
  },
  {
   "cell_type": "markdown",
   "metadata": {},
   "source": [
    "Muni de cette matrice de transition on peut maintenant opérer une transformation de telle sorte à ce que nous allons regarder la distribution des report de voix pour chacun des choix qui sont faits au premier tour."
   ]
  },
  {
   "cell_type": "code",
   "execution_count": 76,
   "metadata": {
    "execution": {
     "iopub.execute_input": "2022-05-22T14:58:24.198441Z",
     "iopub.status.busy": "2022-05-22T14:58:24.198100Z",
     "iopub.status.idle": "2022-05-22T14:58:24.205933Z",
     "shell.execute_reply": "2022-05-22T14:58:24.205157Z"
    }
   },
   "outputs": [
    {
     "data": {
      "text/plain": [
       "array([[ 7.6,  2.5,  9.3, 35.1, 23.7,  5.5,  5.5,  6.7, 23.3, 15.9, 16.4,\n",
       "         3. , 19.2, 71. , 31.5],\n",
       "       [14.9, 54. ,  5.3,  5.3, 21.5, 28.5,  7.8, 10.3,  1.4, 26.9, 20.1,\n",
       "        66.6, 30. ,  2.4, 11.7],\n",
       "       [ 8.9, 13.5, 14.7,  7.1, 32. , 17.9, 25.5, 22.8, 46.2,  6.2, 11.6,\n",
       "        19.2, 30. ,  5.5, 13.6],\n",
       "       [66.2,  8. , 68.1, 16.1,  4.2,  4.5,  8.8, 37.9, 24.2,  4.2, 30.4,\n",
       "         7. , 17.4, 16.2, 10.3],\n",
       "       [ 2.4, 22. ,  2.5, 36.4, 18.6, 43.6, 52.4, 22.3,  5. , 46.8, 21.6,\n",
       "         4.2,  3.4,  5. , 32.9]], dtype=float32)"
      ]
     },
     "execution_count": 76,
     "metadata": {},
     "output_type": "execute_result"
    }
   ],
   "source": [
    "MT = M.T\n",
    "MT /= MT.sum(axis=0)\n",
    "MT*100"
   ]
  },
  {
   "cell_type": "code",
   "execution_count": 77,
   "metadata": {
    "execution": {
     "iopub.execute_input": "2022-05-22T14:58:24.209579Z",
     "iopub.status.busy": "2022-05-22T14:58:24.209077Z",
     "iopub.status.idle": "2022-05-22T14:58:24.954312Z",
     "shell.execute_reply": "2022-05-22T14:58:24.953714Z"
    }
   },
   "outputs": [
    {
     "data": {
      "image/png": "[encoded data removed]",
      "text/plain": [
       "<Figure size 1800x576 with 1 Axes>"
      ]
     },
     "metadata": {
      "needs_background": "light"
     },
     "output_type": "display_data"
    }
   ],
   "source": [
    "fig, ax = plt.subplots(figsize=(25, 8))\n",
    "\n",
    "columns = df_1.columns\n",
    "rows = df_2.columns\n",
    "\n",
    "# named colors: https://matplotlib.org/stable/gallery/color/named_colors.html\n",
    "colors = ['blueviolet', 'violet', 'darkviolet', 'steelblue', 'brown' ]\n",
    "n_rows = len(rows)\n",
    "\n",
    "index = np.arange(len(columns)) + 0.3\n",
    "bar_width = 0.4\n",
    "\n",
    "# Initialize the vertical-offset for the stacked bar chart.\n",
    "y_offset = np.zeros(len(columns))\n",
    "\n",
    "# Plot bars and create text labels for the table\n",
    "cell_text = []\n",
    "for row in range(n_rows):\n",
    "    ax.bar(index, MT[row]*100, bar_width, bottom=y_offset, color=colors[row], linewidth=1)\n",
    "    y_offset = y_offset + MT[row]*100\n",
    "    cell_text.append([f'{x*100:1.1f}%' for x in MT[row]])\n",
    "ax.set_ylim(0, 100)\n",
    "\n",
    "# Add a table at the bottom of the axes\n",
    "the_table = ax.table(cellText=cell_text,\n",
    "                      rowLabels=rows,\n",
    "                      rowColours=colors,\n",
    "                      colLabels=columns,\n",
    "                      loc='bottom')\n",
    "\n",
    "# Adjust layout to make room for the table:\n",
    "plt.subplots_adjust(left=0.2, bottom=0.2)\n",
    "\n",
    "plt.ylabel(\"Pourcentage de report des voix\")\n",
    "plt.yticks(np.linspace(0, 100, 6, endpoint=True))\n",
    "plt.xticks([])\n",
    "plt.title(\"Report des voix par résultat du 1er tour\");"
   ]
  },
  {
   "cell_type": "markdown",
   "metadata": {},
   "source": [
    "On peut aussi se restreindre aux votes exprimés :"
   ]
  },
  {
   "cell_type": "code",
   "execution_count": 78,
   "metadata": {
    "execution": {
     "iopub.execute_input": "2022-05-22T14:58:24.959628Z",
     "iopub.status.busy": "2022-05-22T14:58:24.959425Z",
     "iopub.status.idle": "2022-05-22T14:58:24.965306Z",
     "shell.execute_reply": "2022-05-22T14:58:24.964435Z"
    }
   },
   "outputs": [
    {
     "data": {
      "text/plain": [
       "array([[30.7, 18.3,  9.4, 14.4, 62.9, 83. ,  8.3, 58.5, 62.4, 83.6, 76.4,\n",
       "        23.9],\n",
       "       [69.3, 81.7, 90.6, 85.6, 37.1, 17. , 91.7, 41.5, 37.6, 16.4, 23.6,\n",
       "        76.1]], dtype=float32)"
      ]
     },
     "execution_count": 78,
     "metadata": {},
     "output_type": "execute_result"
    }
   ],
   "source": [
    "MT = M[3:, 3:].T\n",
    "MT /= MT.sum(axis=0)\n",
    "MT*100"
   ]
  },
  {
   "cell_type": "code",
   "execution_count": 79,
   "metadata": {
    "execution": {
     "iopub.execute_input": "2022-05-22T14:58:24.969581Z",
     "iopub.status.busy": "2022-05-22T14:58:24.969234Z",
     "iopub.status.idle": "2022-05-22T14:58:25.384813Z",
     "shell.execute_reply": "2022-05-22T14:58:25.384014Z"
    }
   },
   "outputs": [
    {
     "data": {
      "image/png": "[encoded data removed]",
      "text/plain": [
       "<Figure size 1152x360 with 1 Axes>"
      ]
     },
     "metadata": {
      "needs_background": "light"
     },
     "output_type": "display_data"
    }
   ],
   "source": [
    "fig, ax = plt.subplots(figsize=(16, 5))\n",
    "\n",
    "columns = df_1.columns[3:]\n",
    "rows = df_2.columns[3:]\n",
    "\n",
    "# named colors: https://matplotlib.org/stable/gallery/color/named_colors.html\n",
    "colors = ['steelblue', 'brown' ]\n",
    "n_rows = len(rows)\n",
    "\n",
    "index = np.arange(len(columns)) + 0.3\n",
    "bar_width = 0.4\n",
    "\n",
    "# Initialize the vertical-offset for the stacked bar chart.\n",
    "y_offset = np.zeros(len(columns))\n",
    "\n",
    "# Plot bars and create text labels for the table\n",
    "cell_text = []\n",
    "for row in range(n_rows):\n",
    "    ax.bar(index, MT[row]*100, bar_width, bottom=y_offset, color=colors[row], linewidth=1)\n",
    "    y_offset = y_offset + MT[row]*100\n",
    "    cell_text.append([f'{x*100:1.1f}%' for x in MT[row]])\n",
    "ax.set_ylim(0, 100)\n",
    "# Add a table at the bottom of the axes\n",
    "the_table = ax.table(cellText=cell_text, colLoc='center', \n",
    "                      rowLabels=rows, rowLoc='center',\n",
    "                      rowColours=colors,\n",
    "                      colLabels=columns,\n",
    "                      loc='bottom')\n",
    "the_table.auto_set_font_size(False)\n",
    "the_table.set_fontsize(10)\n",
    "# Adjust layout to make room for the table:\n",
    "plt.subplots_adjust(left=0.2, bottom=0.2)\n",
    "\n",
    "plt.ylabel(\"Pourcentage de report des voix\")\n",
    "plt.yticks(np.linspace(0, 100, 6, endpoint=True))\n",
    "plt.xticks([])\n",
    "plt.title(\"Report des voix exprimées connaissant le choix exprimé au 1er tour\")\n",
    "plt.savefig('2022-05-04_transfert-des-voix.png');"
   ]
  },
  {
   "cell_type": "markdown",
   "metadata": {},
   "source": [
    "Ce tableau donne le pourcentage de chances d'exprimer une voix pour un candidat ou pour l'autre en fonction du choix qu'on a exprimé au premier tour. \n",
    "\n",
    "Ce tableau montre des tendances claires, par exemple que si on a voté Macron, Jadot ou Pécresse au premier tour, alors on va certainement voter Macron au deuxième tour. Ses électeurs se montre particulièrement consensuel et suivent le « pacte républicain » mise en place pour faire un barrage au Front National. Il montre aussi que si on a voté Le Pen ou Dupont-Aignan au premier tour alors on va voter Le Pen au deuxième, un clair vote de suivi. (On pourra aussi remarquer les ~ 3 % des voix pour Macron au premier tour qui ont voté Le Pen au deuxième tour, soit tout de même environ 320k individus…)\n",
    "\n",
    "Connaissant les couleurs politiques d'autres candidats du premier tour, on peut être surpris que les électeurs de Arthaud, Roussel ou Hidalgo ont majoritairement choisi Le Pen au deuxième tour, signifiant alors un rejet du candidat Macron. Les électeurs de Zemmour sont aussi partagés, signifiant un rejet des deux alternatives. **Ce résultat est à prendre avec des pincettes car ces derniers candidats ont obtenu moins de votes et donc que le processus d'inférence est forcément moins précis car il y a moins de données disponibles.** Pour se rendre compte de la variabilité des résultats qu'on obtient là, je conseille au lecteur (*à l'électeur*) de relancer ces notebook en utilisant différents « graines » pour le générateur de nombre aléatoire qui permet de séparer les données (le paramètre `seed`)."
   ]
  },
  {
   "cell_type": "code",
   "execution_count": 80,
   "metadata": {
    "execution": {
     "iopub.execute_input": "2022-05-22T14:58:25.388153Z",
     "iopub.status.busy": "2022-05-22T14:58:25.387806Z",
     "iopub.status.idle": "2022-05-22T14:58:25.394475Z",
     "shell.execute_reply": "2022-05-22T14:58:25.393937Z"
    }
   },
   "outputs": [
    {
     "name": "stdout",
     "output_type": "stream",
     "text": [
      "\n",
      "Total des voix au 1er tour= 48747864, dont Macron = 9783058 (soit une pourcentage de 20.07%), \n",
      "-> nombre de reports de Macron du 1er vers Le Pen au 2eme = 8860316 personnes.\n",
      "\n"
     ]
    }
   ],
   "source": [
    "print(f\"\"\"\n",
    "Total des voix au 1er tour= {x_1.sum():.0f}, dont Macron = {x_1[:, 5].sum():.0f} (soit une pourcentage de {x_1[:, 5].sum()/x_1.sum()*100:.2f}%), \n",
    "-> nombre de reports de Macron du 1er vers Le Pen au 2eme = {x_1[:, 5].sum()*MT[1, 2]:.0f} personnes.\n",
    "\"\"\")"
   ]
  },
  {
   "cell_type": "markdown",
   "metadata": {},
   "source": [
    "### influence des parametres\n",
    "\n",
    "Finalement, on valide nos résultats en testant différentes paramétrisation de l'apprentissage et en donnant la valeur du loss calculé sur la base de test :"
   ]
  },
  {
   "cell_type": "code",
   "execution_count": 81,
   "metadata": {
    "execution": {
     "iopub.execute_input": "2022-05-22T14:58:25.397015Z",
     "iopub.status.busy": "2022-05-22T14:58:25.396790Z",
     "iopub.status.idle": "2022-05-22T14:58:25.430934Z",
     "shell.execute_reply": "2022-05-22T14:58:25.430195Z"
    }
   },
   "outputs": [
    {
     "ename": "TypeError",
     "evalue": "__init__() takes 3 positional arguments but 4 were given",
     "output_type": "error",
     "traceback": [
      "\u001b[0;31m---------------------------------------------------------------------------\u001b[0m",
      "\u001b[0;31mTypeError\u001b[0m                                 Traceback (most recent call last)",
      "Input \u001b[0;32mIn [81]\u001b[0m, in \u001b[0;36m<cell line: 1>\u001b[0;34m()\u001b[0m\n\u001b[0;32m----> 1\u001b[0m trans, loss_train_alt, loss_test_alt, p_1, p_2, p_2_pred \u001b[38;5;241m=\u001b[39m \u001b[43mfit_data\u001b[49m\u001b[43m(\u001b[49m\u001b[43mdf_1\u001b[49m\u001b[43m,\u001b[49m\u001b[43m \u001b[49m\u001b[43mdf_2\u001b[49m\u001b[43m,\u001b[49m\u001b[43m \u001b[49m\u001b[43mverbose\u001b[49m\u001b[38;5;241;43m=\u001b[39;49m\u001b[38;5;28;43;01mFalse\u001b[39;49;00m\u001b[43m,\u001b[49m\u001b[43m \u001b[49m\u001b[43mdo_optim\u001b[49m\u001b[38;5;241;43m=\u001b[39;49m\u001b[38;5;129;43;01mnot\u001b[39;49;00m\u001b[43m \u001b[49m\u001b[43mdo_optim\u001b[49m\u001b[43m)\u001b[49m\n\u001b[1;32m      2\u001b[0m \u001b[38;5;28mprint\u001b[39m(\u001b[38;5;124mf\u001b[39m\u001b[38;5;124m'\u001b[39m\u001b[38;5;124mTRAIN: Loss avec \u001b[39m\u001b[38;5;132;01m{\u001b[39;00mdo_optim\u001b[38;5;132;01m=}\u001b[39;00m\u001b[38;5;124m = \u001b[39m\u001b[38;5;132;01m{\u001b[39;00mloss_train\u001b[38;5;132;01m:\u001b[39;00m\u001b[38;5;124m.2f\u001b[39m\u001b[38;5;132;01m}\u001b[39;00m\u001b[38;5;124m / Loss avec alternative choice do_optim=\u001b[39m\u001b[38;5;132;01m{\u001b[39;00m\u001b[38;5;129;01mnot\u001b[39;00m do_optim\u001b[38;5;132;01m}\u001b[39;00m\u001b[38;5;124m = \u001b[39m\u001b[38;5;132;01m{\u001b[39;00mloss_train_alt\u001b[38;5;132;01m:\u001b[39;00m\u001b[38;5;124m.2f\u001b[39m\u001b[38;5;132;01m}\u001b[39;00m\u001b[38;5;124m \u001b[39m\u001b[38;5;124m'\u001b[39m)\n\u001b[1;32m      3\u001b[0m \u001b[38;5;28mprint\u001b[39m(\u001b[38;5;124mf\u001b[39m\u001b[38;5;124m'\u001b[39m\u001b[38;5;124mTEST: Loss avec \u001b[39m\u001b[38;5;132;01m{\u001b[39;00mdo_optim\u001b[38;5;132;01m=}\u001b[39;00m\u001b[38;5;124m = \u001b[39m\u001b[38;5;132;01m{\u001b[39;00mloss_test\u001b[38;5;132;01m:\u001b[39;00m\u001b[38;5;124m.2f\u001b[39m\u001b[38;5;132;01m}\u001b[39;00m\u001b[38;5;124m / Loss avec alternative choice do_optim=\u001b[39m\u001b[38;5;132;01m{\u001b[39;00m\u001b[38;5;129;01mnot\u001b[39;00m do_optim\u001b[38;5;132;01m}\u001b[39;00m\u001b[38;5;124m = \u001b[39m\u001b[38;5;132;01m{\u001b[39;00mloss_test_alt\u001b[38;5;132;01m:\u001b[39;00m\u001b[38;5;124m.2f\u001b[39m\u001b[38;5;132;01m}\u001b[39;00m\u001b[38;5;124m \u001b[39m\u001b[38;5;124m'\u001b[39m)\n",
      "Input \u001b[0;32mIn [69]\u001b[0m, in \u001b[0;36mfit_data\u001b[0;34m(df_1, df_2, learning_rate, batch_size, num_epochs, beta1, beta2, do_optim, split_ratio, seed, verbose)\u001b[0m\n\u001b[1;32m     25\u001b[0m device \u001b[38;5;241m=\u001b[39m torch\u001b[38;5;241m.\u001b[39mdevice(\u001b[38;5;124m\"\u001b[39m\u001b[38;5;124mcuda\u001b[39m\u001b[38;5;124m\"\u001b[39m \u001b[38;5;28;01mif\u001b[39;00m torch\u001b[38;5;241m.\u001b[39mcuda\u001b[38;5;241m.\u001b[39mis_available() \u001b[38;5;28;01melse\u001b[39;00m \u001b[38;5;124m\"\u001b[39m\u001b[38;5;124mcpu\u001b[39m\u001b[38;5;124m\"\u001b[39m)\n\u001b[1;32m     27\u001b[0m N_1er, N_2eme \u001b[38;5;241m=\u001b[39m \u001b[38;5;28mlen\u001b[39m(df_1\u001b[38;5;241m.\u001b[39mcolumns), \u001b[38;5;28mlen\u001b[39m(df_2\u001b[38;5;241m.\u001b[39mcolumns)\n\u001b[0;32m---> 28\u001b[0m trans \u001b[38;5;241m=\u001b[39m \u001b[43mTransfertVoix\u001b[49m\u001b[43m(\u001b[49m\u001b[43mN_1er\u001b[49m\u001b[43m,\u001b[49m\u001b[43m \u001b[49m\u001b[43mN_2eme\u001b[49m\u001b[43m,\u001b[49m\u001b[43m \u001b[49m\u001b[43mdevice\u001b[49m\u001b[43m)\u001b[49m\u001b[38;5;241m.\u001b[39mto(device)\n\u001b[1;32m     30\u001b[0m X_1, X_2 \u001b[38;5;241m=\u001b[39m df_1\u001b[38;5;241m.\u001b[39mvalues, df_2\u001b[38;5;241m.\u001b[39mvalues\n\u001b[1;32m     31\u001b[0m x_1, x_2 \u001b[38;5;241m=\u001b[39m torch\u001b[38;5;241m.\u001b[39mTensor(X_1), torch\u001b[38;5;241m.\u001b[39mTensor(X_2)\n",
      "\u001b[0;31mTypeError\u001b[0m: __init__() takes 3 positional arguments but 4 were given"
     ]
    }
   ],
   "source": [
    "trans, loss_train_alt, loss_test_alt, p_1, p_2, p_2_pred = fit_data(df_1, df_2, verbose=False, do_optim=not do_optim)\n",
    "print(f'TRAIN: Loss avec {do_optim=} = {loss_train:.2f} / Loss avec alternative choice do_optim={not do_optim} = {loss_train_alt:.2f} ')\n",
    "print(f'TEST: Loss avec {do_optim=} = {loss_test:.2f} / Loss avec alternative choice do_optim={not do_optim} = {loss_test_alt:.2f} ')"
   ]
  },
  {
   "cell_type": "code",
   "execution_count": 82,
   "metadata": {
    "execution": {
     "iopub.execute_input": "2022-05-22T14:58:25.434658Z",
     "iopub.status.busy": "2022-05-22T14:58:25.434427Z",
     "iopub.status.idle": "2022-05-22T14:58:25.439253Z",
     "shell.execute_reply": "2022-05-22T14:58:25.438442Z"
    }
   },
   "outputs": [
    {
     "data": {
      "text/plain": [
       "False"
      ]
     },
     "execution_count": 82,
     "metadata": {},
     "output_type": "execute_result"
    }
   ],
   "source": [
    "do_optim"
   ]
  },
  {
   "cell_type": "code",
   "execution_count": 83,
   "metadata": {
    "execution": {
     "iopub.execute_input": "2022-05-22T14:58:25.442391Z",
     "iopub.status.busy": "2022-05-22T14:58:25.442097Z",
     "iopub.status.idle": "2022-05-22T14:58:25.483721Z",
     "shell.execute_reply": "2022-05-22T14:58:25.483196Z"
    }
   },
   "outputs": [
    {
     "ename": "TypeError",
     "evalue": "__init__() takes 3 positional arguments but 4 were given",
     "output_type": "error",
     "traceback": [
      "\u001b[0;31m---------------------------------------------------------------------------\u001b[0m",
      "\u001b[0;31mTypeError\u001b[0m                                 Traceback (most recent call last)",
      "Input \u001b[0;32mIn [83]\u001b[0m, in \u001b[0;36m<cell line: 6>\u001b[0;34m()\u001b[0m\n\u001b[1;32m      6\u001b[0m \u001b[38;5;28;01mfor\u001b[39;00m learning_rate_ \u001b[38;5;129;01min\u001b[39;00m learning_rates:\n\u001b[1;32m      7\u001b[0m     tic \u001b[38;5;241m=\u001b[39m time\u001b[38;5;241m.\u001b[39mtime()\n\u001b[0;32m----> 8\u001b[0m     trans, loss_train, loss_test, p_1, p_2, p_2_pred \u001b[38;5;241m=\u001b[39m \u001b[43mfit_data\u001b[49m\u001b[43m(\u001b[49m\u001b[43mdf_1\u001b[49m\u001b[43m,\u001b[49m\u001b[43m \u001b[49m\u001b[43mdf_2\u001b[49m\u001b[43m,\u001b[49m\u001b[43m \u001b[49m\u001b[43mlearning_rate\u001b[49m\u001b[38;5;241;43m=\u001b[39;49m\u001b[43mlearning_rate_\u001b[49m\u001b[43m,\u001b[49m\u001b[43m \u001b[49m\u001b[43mverbose\u001b[49m\u001b[38;5;241;43m=\u001b[39;49m\u001b[38;5;28;43;01mFalse\u001b[39;49;00m\u001b[43m)\u001b[49m\n\u001b[1;32m      9\u001b[0m     \u001b[38;5;28mprint\u001b[39m(\u001b[38;5;124mf\u001b[39m\u001b[38;5;124m'\u001b[39m\u001b[38;5;124mPour learning_rate= \u001b[39m\u001b[38;5;132;01m{\u001b[39;00mlearning_rate_\u001b[38;5;132;01m:\u001b[39;00m\u001b[38;5;124m.2e\u001b[39m\u001b[38;5;132;01m}\u001b[39;00m\u001b[38;5;124m, \u001b[39m\u001b[38;5;132;01m{\u001b[39;00mloss_train\u001b[38;5;132;01m=:\u001b[39;00m\u001b[38;5;124m.2e\u001b[39m\u001b[38;5;132;01m}\u001b[39;00m\u001b[38;5;124m / \u001b[39m\u001b[38;5;132;01m{\u001b[39;00mloss_test\u001b[38;5;132;01m=:\u001b[39;00m\u001b[38;5;124m.2e\u001b[39m\u001b[38;5;132;01m}\u001b[39;00m\u001b[38;5;124m; le temps de calcul est \u001b[39m\u001b[38;5;132;01m{\u001b[39;00mtime\u001b[38;5;241m.\u001b[39mtime()\u001b[38;5;241m-\u001b[39mtic\u001b[38;5;132;01m:\u001b[39;00m\u001b[38;5;124m.3f\u001b[39m\u001b[38;5;132;01m}\u001b[39;00m\u001b[38;5;124m s\u001b[39m\u001b[38;5;124m'\u001b[39m)\n\u001b[1;32m     10\u001b[0m     results_train\u001b[38;5;241m.\u001b[39mappend(loss_train)\n",
      "Input \u001b[0;32mIn [69]\u001b[0m, in \u001b[0;36mfit_data\u001b[0;34m(df_1, df_2, learning_rate, batch_size, num_epochs, beta1, beta2, do_optim, split_ratio, seed, verbose)\u001b[0m\n\u001b[1;32m     25\u001b[0m device \u001b[38;5;241m=\u001b[39m torch\u001b[38;5;241m.\u001b[39mdevice(\u001b[38;5;124m\"\u001b[39m\u001b[38;5;124mcuda\u001b[39m\u001b[38;5;124m\"\u001b[39m \u001b[38;5;28;01mif\u001b[39;00m torch\u001b[38;5;241m.\u001b[39mcuda\u001b[38;5;241m.\u001b[39mis_available() \u001b[38;5;28;01melse\u001b[39;00m \u001b[38;5;124m\"\u001b[39m\u001b[38;5;124mcpu\u001b[39m\u001b[38;5;124m\"\u001b[39m)\n\u001b[1;32m     27\u001b[0m N_1er, N_2eme \u001b[38;5;241m=\u001b[39m \u001b[38;5;28mlen\u001b[39m(df_1\u001b[38;5;241m.\u001b[39mcolumns), \u001b[38;5;28mlen\u001b[39m(df_2\u001b[38;5;241m.\u001b[39mcolumns)\n\u001b[0;32m---> 28\u001b[0m trans \u001b[38;5;241m=\u001b[39m \u001b[43mTransfertVoix\u001b[49m\u001b[43m(\u001b[49m\u001b[43mN_1er\u001b[49m\u001b[43m,\u001b[49m\u001b[43m \u001b[49m\u001b[43mN_2eme\u001b[49m\u001b[43m,\u001b[49m\u001b[43m \u001b[49m\u001b[43mdevice\u001b[49m\u001b[43m)\u001b[49m\u001b[38;5;241m.\u001b[39mto(device)\n\u001b[1;32m     30\u001b[0m X_1, X_2 \u001b[38;5;241m=\u001b[39m df_1\u001b[38;5;241m.\u001b[39mvalues, df_2\u001b[38;5;241m.\u001b[39mvalues\n\u001b[1;32m     31\u001b[0m x_1, x_2 \u001b[38;5;241m=\u001b[39m torch\u001b[38;5;241m.\u001b[39mTensor(X_1), torch\u001b[38;5;241m.\u001b[39mTensor(X_2)\n",
      "\u001b[0;31mTypeError\u001b[0m: __init__() takes 3 positional arguments but 4 were given"
     ]
    }
   ],
   "source": [
    "import time\n",
    "N_scan = 7\n",
    "results_train, results_test = [], []\n",
    "\n",
    "learning_rates = learning_rate * np.logspace(-1, 1, 7, base=10)\n",
    "for learning_rate_ in learning_rates:\n",
    "    tic = time.time()\n",
    "    trans, loss_train, loss_test, p_1, p_2, p_2_pred = fit_data(df_1, df_2, learning_rate=learning_rate_, verbose=False)\n",
    "    print(f'Pour learning_rate= {learning_rate_:.2e}, {loss_train=:.2e} / {loss_test=:.2e}; le temps de calcul est {time.time()-tic:.3f} s')\n",
    "    results_train.append(loss_train)\n",
    "    results_test.append(loss_test)\n",
    "\n",
    "fig, ax = plt.subplots(figsize = (13, 8))\n",
    "# ax.plot(learning_rates, results_train, '--')\n",
    "ax.plot(learning_rates, results_test)\n",
    "ax.set_xlabel = 'learning rate'\n",
    "ax.set_ylabel = 'Loss'\n",
    "ax.set_yscale('log');\n",
    "ax.set_xscale('log');"
   ]
  },
  {
   "cell_type": "code",
   "execution_count": 84,
   "metadata": {
    "execution": {
     "iopub.execute_input": "2022-05-22T14:58:25.488305Z",
     "iopub.status.busy": "2022-05-22T14:58:25.488156Z",
     "iopub.status.idle": "2022-05-22T14:58:25.528692Z",
     "shell.execute_reply": "2022-05-22T14:58:25.527699Z"
    }
   },
   "outputs": [
    {
     "name": "stdout",
     "output_type": "stream",
     "text": [
      "[ 128  512 1152 2048 3200 4608]\n"
     ]
    },
    {
     "ename": "TypeError",
     "evalue": "__init__() takes 3 positional arguments but 4 were given",
     "output_type": "error",
     "traceback": [
      "\u001b[0;31m---------------------------------------------------------------------------\u001b[0m",
      "\u001b[0;31mTypeError\u001b[0m                                 Traceback (most recent call last)",
      "Input \u001b[0;32mIn [84]\u001b[0m, in \u001b[0;36m<cell line: 4>\u001b[0;34m()\u001b[0m\n\u001b[1;32m      4\u001b[0m \u001b[38;5;28;01mfor\u001b[39;00m batch_size_ \u001b[38;5;129;01min\u001b[39;00m batch_sizes:\n\u001b[1;32m      5\u001b[0m     tic \u001b[38;5;241m=\u001b[39m time\u001b[38;5;241m.\u001b[39mtime()\n\u001b[0;32m----> 6\u001b[0m     trans, loss_train, loss_test, p_1, p_2, p_2_pred \u001b[38;5;241m=\u001b[39m \u001b[43mfit_data\u001b[49m\u001b[43m(\u001b[49m\u001b[43mdf_1\u001b[49m\u001b[43m,\u001b[49m\u001b[43m \u001b[49m\u001b[43mdf_2\u001b[49m\u001b[43m,\u001b[49m\u001b[43m \u001b[49m\u001b[43mbatch_size\u001b[49m\u001b[38;5;241;43m=\u001b[39;49m\u001b[43mbatch_size_\u001b[49m\u001b[43m,\u001b[49m\u001b[43m \u001b[49m\u001b[43mverbose\u001b[49m\u001b[38;5;241;43m=\u001b[39;49m\u001b[38;5;28;43;01mFalse\u001b[39;49;00m\u001b[43m)\u001b[49m\n\u001b[1;32m      7\u001b[0m     \u001b[38;5;28mprint\u001b[39m(\u001b[38;5;124mf\u001b[39m\u001b[38;5;124m'\u001b[39m\u001b[38;5;124mPour batch_size= \u001b[39m\u001b[38;5;132;01m{\u001b[39;00mbatch_size_\u001b[38;5;132;01m}\u001b[39;00m\u001b[38;5;124m, \u001b[39m\u001b[38;5;132;01m{\u001b[39;00mloss_train\u001b[38;5;132;01m=:\u001b[39;00m\u001b[38;5;124m.2e\u001b[39m\u001b[38;5;132;01m}\u001b[39;00m\u001b[38;5;124m / \u001b[39m\u001b[38;5;132;01m{\u001b[39;00mloss_test\u001b[38;5;132;01m=:\u001b[39;00m\u001b[38;5;124m.2e\u001b[39m\u001b[38;5;132;01m}\u001b[39;00m\u001b[38;5;124m; le temps de calcul est \u001b[39m\u001b[38;5;132;01m{\u001b[39;00mtime\u001b[38;5;241m.\u001b[39mtime()\u001b[38;5;241m-\u001b[39mtic\u001b[38;5;132;01m:\u001b[39;00m\u001b[38;5;124m.3f\u001b[39m\u001b[38;5;132;01m}\u001b[39;00m\u001b[38;5;124m s\u001b[39m\u001b[38;5;124m'\u001b[39m)\n\u001b[1;32m      8\u001b[0m     results_train\u001b[38;5;241m.\u001b[39mappend(loss_train)\n",
      "Input \u001b[0;32mIn [69]\u001b[0m, in \u001b[0;36mfit_data\u001b[0;34m(df_1, df_2, learning_rate, batch_size, num_epochs, beta1, beta2, do_optim, split_ratio, seed, verbose)\u001b[0m\n\u001b[1;32m     25\u001b[0m device \u001b[38;5;241m=\u001b[39m torch\u001b[38;5;241m.\u001b[39mdevice(\u001b[38;5;124m\"\u001b[39m\u001b[38;5;124mcuda\u001b[39m\u001b[38;5;124m\"\u001b[39m \u001b[38;5;28;01mif\u001b[39;00m torch\u001b[38;5;241m.\u001b[39mcuda\u001b[38;5;241m.\u001b[39mis_available() \u001b[38;5;28;01melse\u001b[39;00m \u001b[38;5;124m\"\u001b[39m\u001b[38;5;124mcpu\u001b[39m\u001b[38;5;124m\"\u001b[39m)\n\u001b[1;32m     27\u001b[0m N_1er, N_2eme \u001b[38;5;241m=\u001b[39m \u001b[38;5;28mlen\u001b[39m(df_1\u001b[38;5;241m.\u001b[39mcolumns), \u001b[38;5;28mlen\u001b[39m(df_2\u001b[38;5;241m.\u001b[39mcolumns)\n\u001b[0;32m---> 28\u001b[0m trans \u001b[38;5;241m=\u001b[39m \u001b[43mTransfertVoix\u001b[49m\u001b[43m(\u001b[49m\u001b[43mN_1er\u001b[49m\u001b[43m,\u001b[49m\u001b[43m \u001b[49m\u001b[43mN_2eme\u001b[49m\u001b[43m,\u001b[49m\u001b[43m \u001b[49m\u001b[43mdevice\u001b[49m\u001b[43m)\u001b[49m\u001b[38;5;241m.\u001b[39mto(device)\n\u001b[1;32m     30\u001b[0m X_1, X_2 \u001b[38;5;241m=\u001b[39m df_1\u001b[38;5;241m.\u001b[39mvalues, df_2\u001b[38;5;241m.\u001b[39mvalues\n\u001b[1;32m     31\u001b[0m x_1, x_2 \u001b[38;5;241m=\u001b[39m torch\u001b[38;5;241m.\u001b[39mTensor(X_1), torch\u001b[38;5;241m.\u001b[39mTensor(X_2)\n",
      "\u001b[0;31mTypeError\u001b[0m: __init__() takes 3 positional arguments but 4 were given"
     ]
    }
   ],
   "source": [
    "results_train, results_test = [], []\n",
    "batch_sizes = (batch_size * np.arange(1, N_scan) ** 2) // 8\n",
    "print(batch_sizes)\n",
    "for batch_size_ in batch_sizes:\n",
    "    tic = time.time()\n",
    "    trans, loss_train, loss_test, p_1, p_2, p_2_pred = fit_data(df_1, df_2, batch_size=batch_size_, verbose=False)\n",
    "    print(f'Pour batch_size= {batch_size_}, {loss_train=:.2e} / {loss_test=:.2e}; le temps de calcul est {time.time()-tic:.3f} s')\n",
    "    results_train.append(loss_train)\n",
    "    results_test.append(loss_test)\n",
    "\n",
    "fig, ax = plt.subplots(figsize = (13, 8))\n",
    "# ax.plot(batch_sizes, results_train, '--')\n",
    "ax.plot(batch_sizes, results_test)\n",
    "ax.set_xlabel = 'batch size'\n",
    "ax.set_ylabel = 'Loss'\n",
    "ax.set_yscale('log');\n",
    "ax.set_xscale('log');"
   ]
  },
  {
   "cell_type": "code",
   "execution_count": 85,
   "metadata": {
    "execution": {
     "iopub.execute_input": "2022-05-22T14:58:25.531901Z",
     "iopub.status.busy": "2022-05-22T14:58:25.531553Z",
     "iopub.status.idle": "2022-05-22T14:58:25.537720Z",
     "shell.execute_reply": "2022-05-22T14:58:25.537174Z"
    }
   },
   "outputs": [
    {
     "name": "stdout",
     "output_type": "stream",
     "text": [
      "[1.  1.  1.  1.  1.  1.  0.9]\n"
     ]
    }
   ],
   "source": [
    "beta1s = 1 - (1 - beta1) * np.logspace(-1, 1, 7, base=10)\n",
    "print(beta1s)"
   ]
  },
  {
   "cell_type": "code",
   "execution_count": 86,
   "metadata": {
    "execution": {
     "iopub.execute_input": "2022-05-22T14:58:25.541841Z",
     "iopub.status.busy": "2022-05-22T14:58:25.541580Z",
     "iopub.status.idle": "2022-05-22T14:58:25.584155Z",
     "shell.execute_reply": "2022-05-22T14:58:25.583653Z"
    }
   },
   "outputs": [
    {
     "name": "stdout",
     "output_type": "stream",
     "text": [
      "[1.  1.  1.  1.  1.  1.  0.9]\n"
     ]
    },
    {
     "ename": "TypeError",
     "evalue": "__init__() takes 3 positional arguments but 4 were given",
     "output_type": "error",
     "traceback": [
      "\u001b[0;31m---------------------------------------------------------------------------\u001b[0m",
      "\u001b[0;31mTypeError\u001b[0m                                 Traceback (most recent call last)",
      "Input \u001b[0;32mIn [86]\u001b[0m, in \u001b[0;36m<cell line: 4>\u001b[0;34m()\u001b[0m\n\u001b[1;32m      4\u001b[0m \u001b[38;5;28;01mfor\u001b[39;00m beta1_ \u001b[38;5;129;01min\u001b[39;00m beta1s:\n\u001b[1;32m      5\u001b[0m     tic \u001b[38;5;241m=\u001b[39m time\u001b[38;5;241m.\u001b[39mtime()\n\u001b[0;32m----> 6\u001b[0m     trans, loss_train, loss_test, p_1, p_2, p_2_pred \u001b[38;5;241m=\u001b[39m \u001b[43mfit_data\u001b[49m\u001b[43m(\u001b[49m\u001b[43mdf_1\u001b[49m\u001b[43m,\u001b[49m\u001b[43m \u001b[49m\u001b[43mdf_2\u001b[49m\u001b[43m,\u001b[49m\u001b[43m \u001b[49m\u001b[43mbeta1\u001b[49m\u001b[38;5;241;43m=\u001b[39;49m\u001b[43mbeta1_\u001b[49m\u001b[43m,\u001b[49m\u001b[43m \u001b[49m\u001b[43mverbose\u001b[49m\u001b[38;5;241;43m=\u001b[39;49m\u001b[38;5;28;43;01mFalse\u001b[39;49;00m\u001b[43m)\u001b[49m\n\u001b[1;32m      7\u001b[0m     \u001b[38;5;28mprint\u001b[39m(\u001b[38;5;124mf\u001b[39m\u001b[38;5;124m'\u001b[39m\u001b[38;5;124mPour beta1= \u001b[39m\u001b[38;5;132;01m{\u001b[39;00mbeta1_\u001b[38;5;132;01m:\u001b[39;00m\u001b[38;5;124m.2e\u001b[39m\u001b[38;5;132;01m}\u001b[39;00m\u001b[38;5;124m, \u001b[39m\u001b[38;5;132;01m{\u001b[39;00mloss_train\u001b[38;5;132;01m=:\u001b[39;00m\u001b[38;5;124m.2e\u001b[39m\u001b[38;5;132;01m}\u001b[39;00m\u001b[38;5;124m / \u001b[39m\u001b[38;5;132;01m{\u001b[39;00mloss_test\u001b[38;5;132;01m=:\u001b[39;00m\u001b[38;5;124m.2e\u001b[39m\u001b[38;5;132;01m}\u001b[39;00m\u001b[38;5;124m; le temps de calcul est \u001b[39m\u001b[38;5;132;01m{\u001b[39;00mtime\u001b[38;5;241m.\u001b[39mtime()\u001b[38;5;241m-\u001b[39mtic\u001b[38;5;132;01m:\u001b[39;00m\u001b[38;5;124m.3f\u001b[39m\u001b[38;5;132;01m}\u001b[39;00m\u001b[38;5;124m s\u001b[39m\u001b[38;5;124m'\u001b[39m)\n\u001b[1;32m      8\u001b[0m     results_train\u001b[38;5;241m.\u001b[39mappend(loss_train)\n",
      "Input \u001b[0;32mIn [69]\u001b[0m, in \u001b[0;36mfit_data\u001b[0;34m(df_1, df_2, learning_rate, batch_size, num_epochs, beta1, beta2, do_optim, split_ratio, seed, verbose)\u001b[0m\n\u001b[1;32m     25\u001b[0m device \u001b[38;5;241m=\u001b[39m torch\u001b[38;5;241m.\u001b[39mdevice(\u001b[38;5;124m\"\u001b[39m\u001b[38;5;124mcuda\u001b[39m\u001b[38;5;124m\"\u001b[39m \u001b[38;5;28;01mif\u001b[39;00m torch\u001b[38;5;241m.\u001b[39mcuda\u001b[38;5;241m.\u001b[39mis_available() \u001b[38;5;28;01melse\u001b[39;00m \u001b[38;5;124m\"\u001b[39m\u001b[38;5;124mcpu\u001b[39m\u001b[38;5;124m\"\u001b[39m)\n\u001b[1;32m     27\u001b[0m N_1er, N_2eme \u001b[38;5;241m=\u001b[39m \u001b[38;5;28mlen\u001b[39m(df_1\u001b[38;5;241m.\u001b[39mcolumns), \u001b[38;5;28mlen\u001b[39m(df_2\u001b[38;5;241m.\u001b[39mcolumns)\n\u001b[0;32m---> 28\u001b[0m trans \u001b[38;5;241m=\u001b[39m \u001b[43mTransfertVoix\u001b[49m\u001b[43m(\u001b[49m\u001b[43mN_1er\u001b[49m\u001b[43m,\u001b[49m\u001b[43m \u001b[49m\u001b[43mN_2eme\u001b[49m\u001b[43m,\u001b[49m\u001b[43m \u001b[49m\u001b[43mdevice\u001b[49m\u001b[43m)\u001b[49m\u001b[38;5;241m.\u001b[39mto(device)\n\u001b[1;32m     30\u001b[0m X_1, X_2 \u001b[38;5;241m=\u001b[39m df_1\u001b[38;5;241m.\u001b[39mvalues, df_2\u001b[38;5;241m.\u001b[39mvalues\n\u001b[1;32m     31\u001b[0m x_1, x_2 \u001b[38;5;241m=\u001b[39m torch\u001b[38;5;241m.\u001b[39mTensor(X_1), torch\u001b[38;5;241m.\u001b[39mTensor(X_2)\n",
      "\u001b[0;31mTypeError\u001b[0m: __init__() takes 3 positional arguments but 4 were given"
     ]
    }
   ],
   "source": [
    "results_train, results_test = [], []\n",
    "beta1s = 1 - (1 - beta1) * np.logspace(-1, 1, 7, base=10)\n",
    "print(beta1s)\n",
    "for beta1_ in beta1s:\n",
    "    tic = time.time()\n",
    "    trans, loss_train, loss_test, p_1, p_2, p_2_pred = fit_data(df_1, df_2, beta1=beta1_, verbose=False)\n",
    "    print(f'Pour beta1= {beta1_:.2e}, {loss_train=:.2e} / {loss_test=:.2e}; le temps de calcul est {time.time()-tic:.3f} s')\n",
    "    results_train.append(loss_train)\n",
    "    results_test.append(loss_test)\n",
    "\n",
    "fig, ax = plt.subplots(figsize = (13, 8))\n",
    "#ax.plot(beta1s, results_train, '--')\n",
    "ax.plot(beta1s, results_test)\n",
    "ax.set_xlabel = 'beta1'\n",
    "ax.set_ylabel = 'Loss';\n",
    "ax.set_yscale('log');\n",
    "#ax.set_xscale('log');"
   ]
  },
  {
   "cell_type": "code",
   "execution_count": 87,
   "metadata": {
    "execution": {
     "iopub.execute_input": "2022-05-22T14:58:25.589093Z",
     "iopub.status.busy": "2022-05-22T14:58:25.588941Z",
     "iopub.status.idle": "2022-05-22T14:58:25.627113Z",
     "shell.execute_reply": "2022-05-22T14:58:25.626612Z"
    }
   },
   "outputs": [
    {
     "ename": "TypeError",
     "evalue": "__init__() takes 3 positional arguments but 4 were given",
     "output_type": "error",
     "traceback": [
      "\u001b[0;31m---------------------------------------------------------------------------\u001b[0m",
      "\u001b[0;31mTypeError\u001b[0m                                 Traceback (most recent call last)",
      "Input \u001b[0;32mIn [87]\u001b[0m, in \u001b[0;36m<cell line: 3>\u001b[0;34m()\u001b[0m\n\u001b[1;32m      3\u001b[0m \u001b[38;5;28;01mfor\u001b[39;00m beta2_ \u001b[38;5;129;01min\u001b[39;00m beta2s:\n\u001b[1;32m      4\u001b[0m     tic \u001b[38;5;241m=\u001b[39m time\u001b[38;5;241m.\u001b[39mtime()\n\u001b[0;32m----> 5\u001b[0m     trans, loss_train, loss_test, p_1, p_2, p_2_pred \u001b[38;5;241m=\u001b[39m \u001b[43mfit_data\u001b[49m\u001b[43m(\u001b[49m\u001b[43mdf_1\u001b[49m\u001b[43m,\u001b[49m\u001b[43m \u001b[49m\u001b[43mdf_2\u001b[49m\u001b[43m,\u001b[49m\u001b[43m \u001b[49m\u001b[43mbeta2\u001b[49m\u001b[38;5;241;43m=\u001b[39;49m\u001b[43mbeta2_\u001b[49m\u001b[43m,\u001b[49m\u001b[43m \u001b[49m\u001b[43mverbose\u001b[49m\u001b[38;5;241;43m=\u001b[39;49m\u001b[38;5;28;43;01mFalse\u001b[39;49;00m\u001b[43m)\u001b[49m\n\u001b[1;32m      6\u001b[0m     \u001b[38;5;28mprint\u001b[39m(\u001b[38;5;124mf\u001b[39m\u001b[38;5;124m'\u001b[39m\u001b[38;5;124mPour beta2= \u001b[39m\u001b[38;5;132;01m{\u001b[39;00mbeta2_\u001b[38;5;132;01m:\u001b[39;00m\u001b[38;5;124m.2e\u001b[39m\u001b[38;5;132;01m}\u001b[39;00m\u001b[38;5;124m, \u001b[39m\u001b[38;5;132;01m{\u001b[39;00mloss_train\u001b[38;5;132;01m=:\u001b[39;00m\u001b[38;5;124m.2e\u001b[39m\u001b[38;5;132;01m}\u001b[39;00m\u001b[38;5;124m / \u001b[39m\u001b[38;5;132;01m{\u001b[39;00mloss_test\u001b[38;5;132;01m=:\u001b[39;00m\u001b[38;5;124m.2e\u001b[39m\u001b[38;5;132;01m}\u001b[39;00m\u001b[38;5;124m; le temps de calcul est \u001b[39m\u001b[38;5;132;01m{\u001b[39;00mtime\u001b[38;5;241m.\u001b[39mtime()\u001b[38;5;241m-\u001b[39mtic\u001b[38;5;132;01m:\u001b[39;00m\u001b[38;5;124m.3f\u001b[39m\u001b[38;5;132;01m}\u001b[39;00m\u001b[38;5;124m s\u001b[39m\u001b[38;5;124m'\u001b[39m)\n\u001b[1;32m      7\u001b[0m     results_train\u001b[38;5;241m.\u001b[39mappend(loss_train)\n",
      "Input \u001b[0;32mIn [69]\u001b[0m, in \u001b[0;36mfit_data\u001b[0;34m(df_1, df_2, learning_rate, batch_size, num_epochs, beta1, beta2, do_optim, split_ratio, seed, verbose)\u001b[0m\n\u001b[1;32m     25\u001b[0m device \u001b[38;5;241m=\u001b[39m torch\u001b[38;5;241m.\u001b[39mdevice(\u001b[38;5;124m\"\u001b[39m\u001b[38;5;124mcuda\u001b[39m\u001b[38;5;124m\"\u001b[39m \u001b[38;5;28;01mif\u001b[39;00m torch\u001b[38;5;241m.\u001b[39mcuda\u001b[38;5;241m.\u001b[39mis_available() \u001b[38;5;28;01melse\u001b[39;00m \u001b[38;5;124m\"\u001b[39m\u001b[38;5;124mcpu\u001b[39m\u001b[38;5;124m\"\u001b[39m)\n\u001b[1;32m     27\u001b[0m N_1er, N_2eme \u001b[38;5;241m=\u001b[39m \u001b[38;5;28mlen\u001b[39m(df_1\u001b[38;5;241m.\u001b[39mcolumns), \u001b[38;5;28mlen\u001b[39m(df_2\u001b[38;5;241m.\u001b[39mcolumns)\n\u001b[0;32m---> 28\u001b[0m trans \u001b[38;5;241m=\u001b[39m \u001b[43mTransfertVoix\u001b[49m\u001b[43m(\u001b[49m\u001b[43mN_1er\u001b[49m\u001b[43m,\u001b[49m\u001b[43m \u001b[49m\u001b[43mN_2eme\u001b[49m\u001b[43m,\u001b[49m\u001b[43m \u001b[49m\u001b[43mdevice\u001b[49m\u001b[43m)\u001b[49m\u001b[38;5;241m.\u001b[39mto(device)\n\u001b[1;32m     30\u001b[0m X_1, X_2 \u001b[38;5;241m=\u001b[39m df_1\u001b[38;5;241m.\u001b[39mvalues, df_2\u001b[38;5;241m.\u001b[39mvalues\n\u001b[1;32m     31\u001b[0m x_1, x_2 \u001b[38;5;241m=\u001b[39m torch\u001b[38;5;241m.\u001b[39mTensor(X_1), torch\u001b[38;5;241m.\u001b[39mTensor(X_2)\n",
      "\u001b[0;31mTypeError\u001b[0m: __init__() takes 3 positional arguments but 4 were given"
     ]
    }
   ],
   "source": [
    "results_train, results_test = [], []\n",
    "beta2s = 1 - (1 - .999) * np.logspace(-1, 1, 7, base=10)\n",
    "for beta2_ in beta2s:\n",
    "    tic = time.time()\n",
    "    trans, loss_train, loss_test, p_1, p_2, p_2_pred = fit_data(df_1, df_2, beta2=beta2_, verbose=False)\n",
    "    print(f'Pour beta2= {beta2_:.2e}, {loss_train=:.2e} / {loss_test=:.2e}; le temps de calcul est {time.time()-tic:.3f} s')\n",
    "    results_train.append(loss_train)\n",
    "    results_test.append(loss_test)\n",
    "\n",
    "fig, ax = plt.subplots(figsize = (13, 8))\n",
    "# ax.plot(beta2s, results_train, '--')\n",
    "ax.plot(beta2s, results_test)\n",
    "ax.set_xlabel = 'beta2 with Adam instead of SGD'\n",
    "ax.set_ylabel = 'Loss'\n",
    "ax.set_yscale('log');\n",
    "ax.set_xscale('log');"
   ]
  },
  {
   "cell_type": "code",
   "execution_count": 88,
   "metadata": {
    "execution": {
     "iopub.execute_input": "2022-05-22T14:58:25.632267Z",
     "iopub.status.busy": "2022-05-22T14:58:25.632113Z",
     "iopub.status.idle": "2022-05-22T14:58:25.676707Z",
     "shell.execute_reply": "2022-05-22T14:58:25.675591Z"
    }
   },
   "outputs": [
    {
     "name": "stdout",
     "output_type": "stream",
     "text": [
      "[ 257 1025 2305 4097 6401 9217]\n"
     ]
    },
    {
     "ename": "TypeError",
     "evalue": "__init__() takes 3 positional arguments but 4 were given",
     "output_type": "error",
     "traceback": [
      "\u001b[0;31m---------------------------------------------------------------------------\u001b[0m",
      "\u001b[0;31mTypeError\u001b[0m                                 Traceback (most recent call last)",
      "Input \u001b[0;32mIn [88]\u001b[0m, in \u001b[0;36m<cell line: 4>\u001b[0;34m()\u001b[0m\n\u001b[1;32m      4\u001b[0m \u001b[38;5;28;01mfor\u001b[39;00m num_epochs_ \u001b[38;5;129;01min\u001b[39;00m num_epochss:\n\u001b[1;32m      5\u001b[0m     tic \u001b[38;5;241m=\u001b[39m time\u001b[38;5;241m.\u001b[39mtime()\n\u001b[0;32m----> 6\u001b[0m     trans, loss_train, loss_test, p_1, p_2, p_2_pred \u001b[38;5;241m=\u001b[39m \u001b[43mfit_data\u001b[49m\u001b[43m(\u001b[49m\u001b[43mdf_1\u001b[49m\u001b[43m,\u001b[49m\u001b[43m \u001b[49m\u001b[43mdf_2\u001b[49m\u001b[43m,\u001b[49m\u001b[43m \u001b[49m\u001b[43mnum_epochs\u001b[49m\u001b[38;5;241;43m=\u001b[39;49m\u001b[43mnum_epochs_\u001b[49m\u001b[43m,\u001b[49m\u001b[43m \u001b[49m\u001b[43mverbose\u001b[49m\u001b[38;5;241;43m=\u001b[39;49m\u001b[38;5;28;43;01mFalse\u001b[39;49;00m\u001b[43m)\u001b[49m\n\u001b[1;32m      7\u001b[0m     \u001b[38;5;28mprint\u001b[39m(\u001b[38;5;124mf\u001b[39m\u001b[38;5;124m'\u001b[39m\u001b[38;5;124mPour num_epochs=\u001b[39m\u001b[38;5;132;01m{\u001b[39;00mnum_epochs_\u001b[38;5;132;01m}\u001b[39;00m\u001b[38;5;124m, \u001b[39m\u001b[38;5;132;01m{\u001b[39;00mloss_train\u001b[38;5;132;01m=:\u001b[39;00m\u001b[38;5;124m.2e\u001b[39m\u001b[38;5;132;01m}\u001b[39;00m\u001b[38;5;124m / \u001b[39m\u001b[38;5;132;01m{\u001b[39;00mloss_test\u001b[38;5;132;01m=:\u001b[39;00m\u001b[38;5;124m.2e\u001b[39m\u001b[38;5;132;01m}\u001b[39;00m\u001b[38;5;124m; le temps de calcul est \u001b[39m\u001b[38;5;132;01m{\u001b[39;00mtime\u001b[38;5;241m.\u001b[39mtime()\u001b[38;5;241m-\u001b[39mtic\u001b[38;5;132;01m:\u001b[39;00m\u001b[38;5;124m.3f\u001b[39m\u001b[38;5;132;01m}\u001b[39;00m\u001b[38;5;124m s\u001b[39m\u001b[38;5;124m'\u001b[39m)\n\u001b[1;32m      8\u001b[0m     results_train\u001b[38;5;241m.\u001b[39mappend(loss_train)\n",
      "Input \u001b[0;32mIn [69]\u001b[0m, in \u001b[0;36mfit_data\u001b[0;34m(df_1, df_2, learning_rate, batch_size, num_epochs, beta1, beta2, do_optim, split_ratio, seed, verbose)\u001b[0m\n\u001b[1;32m     25\u001b[0m device \u001b[38;5;241m=\u001b[39m torch\u001b[38;5;241m.\u001b[39mdevice(\u001b[38;5;124m\"\u001b[39m\u001b[38;5;124mcuda\u001b[39m\u001b[38;5;124m\"\u001b[39m \u001b[38;5;28;01mif\u001b[39;00m torch\u001b[38;5;241m.\u001b[39mcuda\u001b[38;5;241m.\u001b[39mis_available() \u001b[38;5;28;01melse\u001b[39;00m \u001b[38;5;124m\"\u001b[39m\u001b[38;5;124mcpu\u001b[39m\u001b[38;5;124m\"\u001b[39m)\n\u001b[1;32m     27\u001b[0m N_1er, N_2eme \u001b[38;5;241m=\u001b[39m \u001b[38;5;28mlen\u001b[39m(df_1\u001b[38;5;241m.\u001b[39mcolumns), \u001b[38;5;28mlen\u001b[39m(df_2\u001b[38;5;241m.\u001b[39mcolumns)\n\u001b[0;32m---> 28\u001b[0m trans \u001b[38;5;241m=\u001b[39m \u001b[43mTransfertVoix\u001b[49m\u001b[43m(\u001b[49m\u001b[43mN_1er\u001b[49m\u001b[43m,\u001b[49m\u001b[43m \u001b[49m\u001b[43mN_2eme\u001b[49m\u001b[43m,\u001b[49m\u001b[43m \u001b[49m\u001b[43mdevice\u001b[49m\u001b[43m)\u001b[49m\u001b[38;5;241m.\u001b[39mto(device)\n\u001b[1;32m     30\u001b[0m X_1, X_2 \u001b[38;5;241m=\u001b[39m df_1\u001b[38;5;241m.\u001b[39mvalues, df_2\u001b[38;5;241m.\u001b[39mvalues\n\u001b[1;32m     31\u001b[0m x_1, x_2 \u001b[38;5;241m=\u001b[39m torch\u001b[38;5;241m.\u001b[39mTensor(X_1), torch\u001b[38;5;241m.\u001b[39mTensor(X_2)\n",
      "\u001b[0;31mTypeError\u001b[0m: __init__() takes 3 positional arguments but 4 were given"
     ]
    }
   ],
   "source": [
    "results_train, results_test = [], []\n",
    "num_epochss = ((num_epochs-1) * np.arange(1, N_scan) ** 2) // 8 + 1\n",
    "print(num_epochss)\n",
    "for num_epochs_ in num_epochss:\n",
    "    tic = time.time()\n",
    "    trans, loss_train, loss_test, p_1, p_2, p_2_pred = fit_data(df_1, df_2, num_epochs=num_epochs_, verbose=False)\n",
    "    print(f'Pour num_epochs={num_epochs_}, {loss_train=:.2e} / {loss_test=:.2e}; le temps de calcul est {time.time()-tic:.3f} s')\n",
    "    results_train.append(loss_train)\n",
    "    results_test.append(loss_test)\n",
    "\n",
    "fig, ax = plt.subplots(figsize = (13, 8))\n",
    "ax.plot(num_epochss, results_train, '--')\n",
    "ax.plot(num_epochss, results_test)\n",
    "ax.set_xlabel = 'batch size'\n",
    "ax.set_ylabel = 'Loss'\n",
    "ax.set_yscale('log');\n",
    "ax.set_xscale('log');"
   ]
  }
 ],
 "metadata": {
  "colab": {
   "collapsed_sections": [],
   "include_colab_link": true,
   "name": "Welcome To Colaboratory",
   "provenance": [],
   "toc_visible": true
  },
  "kernelspec": {
   "display_name": "Python 3 (ipykernel)",
   "language": "python",
   "name": "python3"
  },
  "language_info": {
   "codemirror_mode": {
    "name": "ipython",
    "version": 3
   },
   "file_extension": ".py",
   "mimetype": "text/x-python",
   "name": "python",
   "nbconvert_exporter": "python",
   "pygments_lexer": "ipython3",
   "version": "3.9.12"
  }
 },
 "nbformat": 4,
 "nbformat_minor": 4
}
